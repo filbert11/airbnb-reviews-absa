{
 "cells": [
  {
   "cell_type": "markdown",
   "metadata": {},
   "source": [
    "## Problem to Solve\n",
    "\n",
    "We focus on 2 of the review-based tasks: review reading comprehension (RRC), aspect extraction (AE) and aspect sentiment classification (ASC).\n",
    "\n",
    "1. AE: given a review sentence (\"The retina display is great.\"), find aspects(\"retina display\");\n",
    "\n",
    "2. ASC: given an aspect (\"retina display\") and a review sentence (\"The retina display is great.\"), detect the polarity of that aspect (positive).\n",
    "\n",
    "E2E-ABSA: the combination of the above two tasks as a sequence labeling task."
   ]
  },
  {
   "cell_type": "markdown",
   "metadata": {},
   "source": [
    "## Convert our labelled dataset into the required format"
   ]
  },
  {
   "cell_type": "markdown",
   "metadata": {},
   "source": [
    "Review ID | term | sentence | polarity"
   ]
  },
  {
   "cell_type": "code",
   "execution_count": 2,
   "metadata": {},
   "outputs": [],
   "source": [
    "import pandas as pd\n",
    "absa = pd.read_excel('annotated_absa.xlsx')"
   ]
  },
  {
   "cell_type": "code",
   "execution_count": 3,
   "metadata": {},
   "outputs": [
    {
     "data": {
      "text/plain": [
       "(300, 27)"
      ]
     },
     "execution_count": 3,
     "metadata": {},
     "output_type": "execute_result"
    }
   ],
   "source": [
    "absa.shape #filter some first"
   ]
  },
  {
   "cell_type": "code",
   "execution_count": 4,
   "metadata": {},
   "outputs": [
    {
     "data": {
      "text/html": [
       "<div>\n",
       "<style scoped>\n",
       "    .dataframe tbody tr th:only-of-type {\n",
       "        vertical-align: middle;\n",
       "    }\n",
       "\n",
       "    .dataframe tbody tr th {\n",
       "        vertical-align: top;\n",
       "    }\n",
       "\n",
       "    .dataframe thead th {\n",
       "        text-align: right;\n",
       "    }\n",
       "</style>\n",
       "<table border=\"1\" class=\"dataframe\">\n",
       "  <thead>\n",
       "    <tr style=\"text-align: right;\">\n",
       "      <th></th>\n",
       "      <th>S/N</th>\n",
       "      <th>In-charge</th>\n",
       "      <th>listing_id</th>\n",
       "      <th>id</th>\n",
       "      <th>date</th>\n",
       "      <th>reviewer_id</th>\n",
       "      <th>reviewer_name</th>\n",
       "      <th>comments</th>\n",
       "      <th>comments_stopwordsrm</th>\n",
       "      <th>comments_stopwordsrm_lemma</th>\n",
       "      <th>...</th>\n",
       "      <th>communicate_aspect</th>\n",
       "      <th>communicate_score</th>\n",
       "      <th>value_entity</th>\n",
       "      <th>value_aspect</th>\n",
       "      <th>value_score</th>\n",
       "      <th>location_entity</th>\n",
       "      <th>location_aspect</th>\n",
       "      <th>location_score</th>\n",
       "      <th>Category</th>\n",
       "      <th>Sentiment</th>\n",
       "    </tr>\n",
       "  </thead>\n",
       "  <tbody>\n",
       "    <tr>\n",
       "      <th>0</th>\n",
       "      <td>1</td>\n",
       "      <td>SX</td>\n",
       "      <td>11391287</td>\n",
       "      <td>208136450</td>\n",
       "      <td>2017-10-31</td>\n",
       "      <td>68485599</td>\n",
       "      <td>Ali</td>\n",
       "      <td>Fantastic location and fantastic hosts for a v...</td>\n",
       "      <td>fantastic location fantastic hosts reasonable ...</td>\n",
       "      <td>fantastic location fantastic host reasonable p...</td>\n",
       "      <td>...</td>\n",
       "      <td>fantastic</td>\n",
       "      <td>5</td>\n",
       "      <td>price</td>\n",
       "      <td>reasonable</td>\n",
       "      <td>4</td>\n",
       "      <td>location</td>\n",
       "      <td>fantastic</td>\n",
       "      <td>5</td>\n",
       "      <td>location</td>\n",
       "      <td>positive</td>\n",
       "    </tr>\n",
       "    <tr>\n",
       "      <th>1</th>\n",
       "      <td>2</td>\n",
       "      <td>SX</td>\n",
       "      <td>50319142</td>\n",
       "      <td>574451000000000000</td>\n",
       "      <td>2022-03-03</td>\n",
       "      <td>81633638</td>\n",
       "      <td>Christophe</td>\n",
       "      <td>Super happy with this stylish and comfy apartm...</td>\n",
       "      <td>super happy stylish comfy apartment family eas...</td>\n",
       "      <td>super happy stylish comfy apartment family eas...</td>\n",
       "      <td>...</td>\n",
       "      <td>easy</td>\n",
       "      <td>4</td>\n",
       "      <td>NaN</td>\n",
       "      <td>NaN</td>\n",
       "      <td>3</td>\n",
       "      <td>NaN</td>\n",
       "      <td>NaN</td>\n",
       "      <td>3</td>\n",
       "      <td>communicate</td>\n",
       "      <td>positive</td>\n",
       "    </tr>\n",
       "    <tr>\n",
       "      <th>2</th>\n",
       "      <td>3</td>\n",
       "      <td>SX</td>\n",
       "      <td>272282</td>\n",
       "      <td>52814653</td>\n",
       "      <td>2015-11-02</td>\n",
       "      <td>8528459</td>\n",
       "      <td>Rebecca</td>\n",
       "      <td>Mar made us feel very welcomed with great dire...</td>\n",
       "      <td>mar made us feel welcomed great directions gue...</td>\n",
       "      <td>mar make -PRON- feel welcome great direction g...</td>\n",
       "      <td>...</td>\n",
       "      <td>great</td>\n",
       "      <td>5</td>\n",
       "      <td>NaN</td>\n",
       "      <td>NaN</td>\n",
       "      <td>3</td>\n",
       "      <td>train</td>\n",
       "      <td>located</td>\n",
       "      <td>4</td>\n",
       "      <td>communicate</td>\n",
       "      <td>positive</td>\n",
       "    </tr>\n",
       "    <tr>\n",
       "      <th>3</th>\n",
       "      <td>4</td>\n",
       "      <td>SX</td>\n",
       "      <td>4683548</td>\n",
       "      <td>475841000000000000</td>\n",
       "      <td>2021-10-18</td>\n",
       "      <td>190705793</td>\n",
       "      <td>Ron</td>\n",
       "      <td>Andres is an amazing host! &lt;br/&gt;Not only the a...</td>\n",
       "      <td>andres amazing host not apartment see pictures...</td>\n",
       "      <td>andres amazing host not apartment see picture ...</td>\n",
       "      <td>...</td>\n",
       "      <td>NaN</td>\n",
       "      <td>5</td>\n",
       "      <td>NaN</td>\n",
       "      <td>NaN</td>\n",
       "      <td>3</td>\n",
       "      <td>NaN</td>\n",
       "      <td>NaN</td>\n",
       "      <td>3</td>\n",
       "      <td>accurate</td>\n",
       "      <td>positive</td>\n",
       "    </tr>\n",
       "    <tr>\n",
       "      <th>4</th>\n",
       "      <td>5</td>\n",
       "      <td>SX</td>\n",
       "      <td>7838608</td>\n",
       "      <td>192308789</td>\n",
       "      <td>2017-09-10</td>\n",
       "      <td>12034187</td>\n",
       "      <td>Giuseppe</td>\n",
       "      <td>A lovely room which was spacious and clean. Al...</td>\n",
       "      <td>a lovely room spacious clean also great suppor...</td>\n",
       "      <td>a lovely room spacious clean also great suppor...</td>\n",
       "      <td>...</td>\n",
       "      <td>host</td>\n",
       "      <td>4</td>\n",
       "      <td>NaN</td>\n",
       "      <td>NaN</td>\n",
       "      <td>3</td>\n",
       "      <td>NaN</td>\n",
       "      <td>NaN</td>\n",
       "      <td>3</td>\n",
       "      <td>cleanliness</td>\n",
       "      <td>positive</td>\n",
       "    </tr>\n",
       "    <tr>\n",
       "      <th>...</th>\n",
       "      <td>...</td>\n",
       "      <td>...</td>\n",
       "      <td>...</td>\n",
       "      <td>...</td>\n",
       "      <td>...</td>\n",
       "      <td>...</td>\n",
       "      <td>...</td>\n",
       "      <td>...</td>\n",
       "      <td>...</td>\n",
       "      <td>...</td>\n",
       "      <td>...</td>\n",
       "      <td>...</td>\n",
       "      <td>...</td>\n",
       "      <td>...</td>\n",
       "      <td>...</td>\n",
       "      <td>...</td>\n",
       "      <td>...</td>\n",
       "      <td>...</td>\n",
       "      <td>...</td>\n",
       "      <td>...</td>\n",
       "      <td>...</td>\n",
       "    </tr>\n",
       "    <tr>\n",
       "      <th>295</th>\n",
       "      <td>296</td>\n",
       "      <td>LT</td>\n",
       "      <td>19154124</td>\n",
       "      <td>623526283</td>\n",
       "      <td>2020-05-01</td>\n",
       "      <td>261715322</td>\n",
       "      <td>Ivan</td>\n",
       "      <td>Super host, super flat</td>\n",
       "      <td>super host super flat</td>\n",
       "      <td>super host super flat</td>\n",
       "      <td>...</td>\n",
       "      <td>NaN</td>\n",
       "      <td>3</td>\n",
       "      <td>flat</td>\n",
       "      <td>superb</td>\n",
       "      <td>5</td>\n",
       "      <td>NaN</td>\n",
       "      <td>NaN</td>\n",
       "      <td>3</td>\n",
       "      <td>value</td>\n",
       "      <td>positive</td>\n",
       "    </tr>\n",
       "    <tr>\n",
       "      <th>296</th>\n",
       "      <td>297</td>\n",
       "      <td>LT</td>\n",
       "      <td>5645973</td>\n",
       "      <td>304396739</td>\n",
       "      <td>2018-08-09</td>\n",
       "      <td>164747779</td>\n",
       "      <td>Arielle</td>\n",
       "      <td>We had a wonderful time in Barcelona! &lt;br/&gt;The...</td>\n",
       "      <td>we wonderful time barcelona the apartment pret...</td>\n",
       "      <td>wonderful time barcelona the apartment pretty...</td>\n",
       "      <td>...</td>\n",
       "      <td>NaN</td>\n",
       "      <td>3</td>\n",
       "      <td>apartment</td>\n",
       "      <td>good</td>\n",
       "      <td>5</td>\n",
       "      <td>location</td>\n",
       "      <td>good</td>\n",
       "      <td>4</td>\n",
       "      <td>value</td>\n",
       "      <td>positive</td>\n",
       "    </tr>\n",
       "    <tr>\n",
       "      <th>297</th>\n",
       "      <td>298</td>\n",
       "      <td>LT</td>\n",
       "      <td>23233260</td>\n",
       "      <td>451844194</td>\n",
       "      <td>2019-05-12</td>\n",
       "      <td>242067326</td>\n",
       "      <td>Sophie</td>\n",
       "      <td>Beautifully modern and stylish apartment, nice...</td>\n",
       "      <td>beautifully modern stylish apartment nice sepa...</td>\n",
       "      <td>beautifully modern stylish apartment nice sepa...</td>\n",
       "      <td>...</td>\n",
       "      <td>NaN</td>\n",
       "      <td>3</td>\n",
       "      <td>NaN</td>\n",
       "      <td>NaN</td>\n",
       "      <td>3</td>\n",
       "      <td>location</td>\n",
       "      <td>central</td>\n",
       "      <td>5</td>\n",
       "      <td>location</td>\n",
       "      <td>positive</td>\n",
       "    </tr>\n",
       "    <tr>\n",
       "      <th>298</th>\n",
       "      <td>299</td>\n",
       "      <td>LT</td>\n",
       "      <td>1916224</td>\n",
       "      <td>195374111</td>\n",
       "      <td>2017-09-19</td>\n",
       "      <td>93750103</td>\n",
       "      <td>Scott</td>\n",
       "      <td>This spot is great for 3-4 people or less.  Ex...</td>\n",
       "      <td>this spot great people less extremely convenie...</td>\n",
       "      <td>this spot great people less extremely convenie...</td>\n",
       "      <td>...</td>\n",
       "      <td>NaN</td>\n",
       "      <td>3</td>\n",
       "      <td>NaN</td>\n",
       "      <td>NaN</td>\n",
       "      <td>3</td>\n",
       "      <td>location</td>\n",
       "      <td>convenient</td>\n",
       "      <td>4</td>\n",
       "      <td>location</td>\n",
       "      <td>positive</td>\n",
       "    </tr>\n",
       "    <tr>\n",
       "      <th>299</th>\n",
       "      <td>300</td>\n",
       "      <td>LT</td>\n",
       "      <td>14121260</td>\n",
       "      <td>159216593</td>\n",
       "      <td>2017-06-10</td>\n",
       "      <td>7595501</td>\n",
       "      <td>Michelle</td>\n",
       "      <td>Amazing stay! Thanks so much, everything was p...</td>\n",
       "      <td>amazing stay thanks much everything perfect</td>\n",
       "      <td>amazing stay thank much everything perfect</td>\n",
       "      <td>...</td>\n",
       "      <td>NaN</td>\n",
       "      <td>3</td>\n",
       "      <td>stay</td>\n",
       "      <td>amazing</td>\n",
       "      <td>5</td>\n",
       "      <td>NaN</td>\n",
       "      <td>NaN</td>\n",
       "      <td>3</td>\n",
       "      <td>value</td>\n",
       "      <td>positive</td>\n",
       "    </tr>\n",
       "  </tbody>\n",
       "</table>\n",
       "<p>300 rows × 27 columns</p>\n",
       "</div>"
      ],
      "text/plain": [
       "     S/N In-charge  listing_id                  id       date  reviewer_id  \\\n",
       "0      1        SX    11391287           208136450 2017-10-31     68485599   \n",
       "1      2        SX    50319142  574451000000000000 2022-03-03     81633638   \n",
       "2      3        SX      272282            52814653 2015-11-02      8528459   \n",
       "3      4        SX     4683548  475841000000000000 2021-10-18    190705793   \n",
       "4      5        SX     7838608           192308789 2017-09-10     12034187   \n",
       "..   ...       ...         ...                 ...        ...          ...   \n",
       "295  296        LT    19154124           623526283 2020-05-01    261715322   \n",
       "296  297        LT     5645973           304396739 2018-08-09    164747779   \n",
       "297  298        LT    23233260           451844194 2019-05-12    242067326   \n",
       "298  299        LT     1916224           195374111 2017-09-19     93750103   \n",
       "299  300        LT    14121260           159216593 2017-06-10      7595501   \n",
       "\n",
       "    reviewer_name                                           comments  \\\n",
       "0             Ali  Fantastic location and fantastic hosts for a v...   \n",
       "1      Christophe  Super happy with this stylish and comfy apartm...   \n",
       "2         Rebecca  Mar made us feel very welcomed with great dire...   \n",
       "3             Ron  Andres is an amazing host! <br/>Not only the a...   \n",
       "4        Giuseppe  A lovely room which was spacious and clean. Al...   \n",
       "..            ...                                                ...   \n",
       "295          Ivan                             Super host, super flat   \n",
       "296       Arielle  We had a wonderful time in Barcelona! <br/>The...   \n",
       "297        Sophie  Beautifully modern and stylish apartment, nice...   \n",
       "298         Scott  This spot is great for 3-4 people or less.  Ex...   \n",
       "299      Michelle  Amazing stay! Thanks so much, everything was p...   \n",
       "\n",
       "                                  comments_stopwordsrm  \\\n",
       "0    fantastic location fantastic hosts reasonable ...   \n",
       "1    super happy stylish comfy apartment family eas...   \n",
       "2    mar made us feel welcomed great directions gue...   \n",
       "3    andres amazing host not apartment see pictures...   \n",
       "4    a lovely room spacious clean also great suppor...   \n",
       "..                                                 ...   \n",
       "295                              super host super flat   \n",
       "296  we wonderful time barcelona the apartment pret...   \n",
       "297  beautifully modern stylish apartment nice sepa...   \n",
       "298  this spot great people less extremely convenie...   \n",
       "299        amazing stay thanks much everything perfect   \n",
       "\n",
       "                            comments_stopwordsrm_lemma  ...  \\\n",
       "0    fantastic location fantastic host reasonable p...  ...   \n",
       "1    super happy stylish comfy apartment family eas...  ...   \n",
       "2    mar make -PRON- feel welcome great direction g...  ...   \n",
       "3    andres amazing host not apartment see picture ...  ...   \n",
       "4    a lovely room spacious clean also great suppor...  ...   \n",
       "..                                                 ...  ...   \n",
       "295                              super host super flat  ...   \n",
       "296   wonderful time barcelona the apartment pretty...  ...   \n",
       "297  beautifully modern stylish apartment nice sepa...  ...   \n",
       "298  this spot great people less extremely convenie...  ...   \n",
       "299         amazing stay thank much everything perfect  ...   \n",
       "\n",
       "    communicate_aspect communicate_score  value_entity value_aspect  \\\n",
       "0            fantastic                 5         price   reasonable   \n",
       "1                 easy                 4           NaN          NaN   \n",
       "2                great                 5           NaN          NaN   \n",
       "3                  NaN                 5           NaN          NaN   \n",
       "4                 host                 4           NaN          NaN   \n",
       "..                 ...               ...           ...          ...   \n",
       "295                NaN                 3          flat       superb   \n",
       "296                NaN                 3     apartment         good   \n",
       "297                NaN                 3           NaN          NaN   \n",
       "298                NaN                 3           NaN          NaN   \n",
       "299                NaN                 3          stay      amazing   \n",
       "\n",
       "    value_score  location_entity location_aspect location_score     Category  \\\n",
       "0             4         location       fantastic              5     location   \n",
       "1             3              NaN             NaN              3  communicate   \n",
       "2             3            train         located              4  communicate   \n",
       "3             3              NaN             NaN              3     accurate   \n",
       "4             3              NaN             NaN              3  cleanliness   \n",
       "..          ...              ...             ...            ...          ...   \n",
       "295           5              NaN             NaN              3        value   \n",
       "296           5         location            good              4        value   \n",
       "297           3         location         central              5     location   \n",
       "298           3         location      convenient              4     location   \n",
       "299           5              NaN             NaN              3        value   \n",
       "\n",
       "    Sentiment  \n",
       "0    positive  \n",
       "1    positive  \n",
       "2    positive  \n",
       "3    positive  \n",
       "4    positive  \n",
       "..        ...  \n",
       "295  positive  \n",
       "296  positive  \n",
       "297  positive  \n",
       "298  positive  \n",
       "299  positive  \n",
       "\n",
       "[300 rows x 27 columns]"
      ]
     },
     "execution_count": 4,
     "metadata": {},
     "output_type": "execute_result"
    }
   ],
   "source": [
    "absa "
   ]
  },
  {
   "cell_type": "code",
   "execution_count": 5,
   "metadata": {},
   "outputs": [
    {
     "data": {
      "text/plain": [
       "Index(['S/N', 'In-charge', 'listing_id', 'id', 'date', 'reviewer_id',\n",
       "       'reviewer_name', 'comments', 'comments_stopwordsrm',\n",
       "       'comments_stopwordsrm_lemma', 'accuracy_entity', 'accuracy_aspect',\n",
       "       'accuracy_score', 'clean_entity', 'clean_aspect', 'clean_score',\n",
       "       'communicate_entity', 'communicate_aspect', 'communicate_score',\n",
       "       'value_entity', 'value_aspect', 'value_score', 'location_entity',\n",
       "       'location_aspect', 'location_score', 'Category', 'Sentiment'],\n",
       "      dtype='object')"
      ]
     },
     "execution_count": 5,
     "metadata": {},
     "output_type": "execute_result"
    }
   ],
   "source": [
    "absa.columns"
   ]
  },
  {
   "cell_type": "code",
   "execution_count": 6,
   "metadata": {},
   "outputs": [],
   "source": [
    "#for each categorycategory, combine terms E and A'''\n",
    "#for cat in ['accuracy', 'clean', 'communicate', 'value', 'location']:\n",
    "    #absa[cat+\"_\"+\"merged\"] = absa[cat+\"_\"+\"entity\"] + absa[cat+\"_\"+\"aspect\"]\n",
    "\n",
    "def merge_terms(row, cat='accuracy'):\n",
    "    try:\n",
    "        merged = ''\n",
    "        #print(cat+\"_\"+\"entity\")\n",
    "        #print(row[cat+\"_\"+\"entity\"])\n",
    "        #print(row[cat+\"_\"+\"aspect\"])\n",
    "        if row[cat+\"_\"+\"entity\"] and row[cat+\"_\"+\"aspect\"]:\n",
    "            merged = row[cat+\"_\"+\"entity\"]+\" \"+row[cat+\"_\"+\"aspect\"]\n",
    "        elif row[cat+\"_\"+\"entity\"] and not row[cat+\"_\"+\"aspect\"]:\n",
    "            merged = row[cat+\"_\"+\"entity\"]\n",
    "        elif not row[cat+\"_\"+\"entity\"] and row[cat+\"_\"+\"aspect\"]:\n",
    "            merged = row[cat+\"_\"+\"aspect\"]\n",
    "    except:\n",
    "        merged = None\n",
    "    return merged\n",
    "\n",
    "#absa['accuracy_merged'] = absa['accuracy_entity'] + \" \" + absa['accuracy_entity']"
   ]
  },
  {
   "cell_type": "code",
   "execution_count": 7,
   "metadata": {},
   "outputs": [
    {
     "data": {
      "text/plain": [
       "0                       None\n",
       "1            amenities great\n",
       "2    bathrooms well equipped\n",
       "3               pictures see\n",
       "4                       None\n",
       "5          apartment exactly\n",
       "6                       None\n",
       "7                       None\n",
       "8               boiler small\n",
       "9        description matched\n",
       "dtype: object"
      ]
     },
     "execution_count": 7,
     "metadata": {},
     "output_type": "execute_result"
    }
   ],
   "source": [
    "absa.apply(merge_terms, axis = 1)[:10]"
   ]
  },
  {
   "cell_type": "code",
   "execution_count": 8,
   "metadata": {},
   "outputs": [],
   "source": [
    "for cat in ['accuracy', 'clean', 'communicate', 'value', 'location']:\n",
    "    absa[cat+\"_\"+\"merged\"] = absa.apply(merge_terms, cat= cat, axis = 1)"
   ]
  },
  {
   "cell_type": "code",
   "execution_count": 10,
   "metadata": {},
   "outputs": [],
   "source": [
    "absa_score = pd.melt(absa, id_vars=['S/N', 'In-charge', 'listing_id', 'id', 'date', 'reviewer_id',\n",
    "       'reviewer_name', 'comments', 'comments_stopwordsrm',\n",
    "       'comments_stopwordsrm_lemma'],\n",
    "        var_name='aspect_category',\n",
    "        value_vars=['accuracy_score','clean_score', \n",
    "       'communicate_score', 'value_score','location_score' ], \n",
    "                     value_name= 'aspect_score')"
   ]
  },
  {
   "cell_type": "code",
   "execution_count": 11,
   "metadata": {},
   "outputs": [
    {
     "data": {
      "text/html": [
       "<div>\n",
       "<style scoped>\n",
       "    .dataframe tbody tr th:only-of-type {\n",
       "        vertical-align: middle;\n",
       "    }\n",
       "\n",
       "    .dataframe tbody tr th {\n",
       "        vertical-align: top;\n",
       "    }\n",
       "\n",
       "    .dataframe thead th {\n",
       "        text-align: right;\n",
       "    }\n",
       "</style>\n",
       "<table border=\"1\" class=\"dataframe\">\n",
       "  <thead>\n",
       "    <tr style=\"text-align: right;\">\n",
       "      <th></th>\n",
       "      <th>S/N</th>\n",
       "      <th>In-charge</th>\n",
       "      <th>listing_id</th>\n",
       "      <th>id</th>\n",
       "      <th>date</th>\n",
       "      <th>reviewer_id</th>\n",
       "      <th>reviewer_name</th>\n",
       "      <th>comments</th>\n",
       "      <th>comments_stopwordsrm</th>\n",
       "      <th>comments_stopwordsrm_lemma</th>\n",
       "      <th>aspect_category</th>\n",
       "      <th>aspect_score</th>\n",
       "    </tr>\n",
       "  </thead>\n",
       "  <tbody>\n",
       "    <tr>\n",
       "      <th>0</th>\n",
       "      <td>1</td>\n",
       "      <td>SX</td>\n",
       "      <td>11391287</td>\n",
       "      <td>208136450</td>\n",
       "      <td>2017-10-31</td>\n",
       "      <td>68485599</td>\n",
       "      <td>Ali</td>\n",
       "      <td>Fantastic location and fantastic hosts for a v...</td>\n",
       "      <td>fantastic location fantastic hosts reasonable ...</td>\n",
       "      <td>fantastic location fantastic host reasonable p...</td>\n",
       "      <td>accuracy_score</td>\n",
       "      <td>3</td>\n",
       "    </tr>\n",
       "    <tr>\n",
       "      <th>1</th>\n",
       "      <td>2</td>\n",
       "      <td>SX</td>\n",
       "      <td>50319142</td>\n",
       "      <td>574451000000000000</td>\n",
       "      <td>2022-03-03</td>\n",
       "      <td>81633638</td>\n",
       "      <td>Christophe</td>\n",
       "      <td>Super happy with this stylish and comfy apartm...</td>\n",
       "      <td>super happy stylish comfy apartment family eas...</td>\n",
       "      <td>super happy stylish comfy apartment family eas...</td>\n",
       "      <td>accuracy_score</td>\n",
       "      <td>5</td>\n",
       "    </tr>\n",
       "    <tr>\n",
       "      <th>2</th>\n",
       "      <td>3</td>\n",
       "      <td>SX</td>\n",
       "      <td>272282</td>\n",
       "      <td>52814653</td>\n",
       "      <td>2015-11-02</td>\n",
       "      <td>8528459</td>\n",
       "      <td>Rebecca</td>\n",
       "      <td>Mar made us feel very welcomed with great dire...</td>\n",
       "      <td>mar made us feel welcomed great directions gue...</td>\n",
       "      <td>mar make -PRON- feel welcome great direction g...</td>\n",
       "      <td>accuracy_score</td>\n",
       "      <td>4</td>\n",
       "    </tr>\n",
       "    <tr>\n",
       "      <th>3</th>\n",
       "      <td>4</td>\n",
       "      <td>SX</td>\n",
       "      <td>4683548</td>\n",
       "      <td>475841000000000000</td>\n",
       "      <td>2021-10-18</td>\n",
       "      <td>190705793</td>\n",
       "      <td>Ron</td>\n",
       "      <td>Andres is an amazing host! &lt;br/&gt;Not only the a...</td>\n",
       "      <td>andres amazing host not apartment see pictures...</td>\n",
       "      <td>andres amazing host not apartment see picture ...</td>\n",
       "      <td>accuracy_score</td>\n",
       "      <td>5</td>\n",
       "    </tr>\n",
       "    <tr>\n",
       "      <th>4</th>\n",
       "      <td>5</td>\n",
       "      <td>SX</td>\n",
       "      <td>7838608</td>\n",
       "      <td>192308789</td>\n",
       "      <td>2017-09-10</td>\n",
       "      <td>12034187</td>\n",
       "      <td>Giuseppe</td>\n",
       "      <td>A lovely room which was spacious and clean. Al...</td>\n",
       "      <td>a lovely room spacious clean also great suppor...</td>\n",
       "      <td>a lovely room spacious clean also great suppor...</td>\n",
       "      <td>accuracy_score</td>\n",
       "      <td>3</td>\n",
       "    </tr>\n",
       "  </tbody>\n",
       "</table>\n",
       "</div>"
      ],
      "text/plain": [
       "   S/N In-charge  listing_id                  id       date  reviewer_id  \\\n",
       "0    1        SX    11391287           208136450 2017-10-31     68485599   \n",
       "1    2        SX    50319142  574451000000000000 2022-03-03     81633638   \n",
       "2    3        SX      272282            52814653 2015-11-02      8528459   \n",
       "3    4        SX     4683548  475841000000000000 2021-10-18    190705793   \n",
       "4    5        SX     7838608           192308789 2017-09-10     12034187   \n",
       "\n",
       "  reviewer_name                                           comments  \\\n",
       "0           Ali  Fantastic location and fantastic hosts for a v...   \n",
       "1    Christophe  Super happy with this stylish and comfy apartm...   \n",
       "2       Rebecca  Mar made us feel very welcomed with great dire...   \n",
       "3           Ron  Andres is an amazing host! <br/>Not only the a...   \n",
       "4      Giuseppe  A lovely room which was spacious and clean. Al...   \n",
       "\n",
       "                                comments_stopwordsrm  \\\n",
       "0  fantastic location fantastic hosts reasonable ...   \n",
       "1  super happy stylish comfy apartment family eas...   \n",
       "2  mar made us feel welcomed great directions gue...   \n",
       "3  andres amazing host not apartment see pictures...   \n",
       "4  a lovely room spacious clean also great suppor...   \n",
       "\n",
       "                          comments_stopwordsrm_lemma aspect_category  \\\n",
       "0  fantastic location fantastic host reasonable p...  accuracy_score   \n",
       "1  super happy stylish comfy apartment family eas...  accuracy_score   \n",
       "2  mar make -PRON- feel welcome great direction g...  accuracy_score   \n",
       "3  andres amazing host not apartment see picture ...  accuracy_score   \n",
       "4  a lovely room spacious clean also great suppor...  accuracy_score   \n",
       "\n",
       "   aspect_score  \n",
       "0             3  \n",
       "1             5  \n",
       "2             4  \n",
       "3             5  \n",
       "4             3  "
      ]
     },
     "execution_count": 11,
     "metadata": {},
     "output_type": "execute_result"
    }
   ],
   "source": [
    "absa_score.head()"
   ]
  },
  {
   "cell_type": "code",
   "execution_count": 12,
   "metadata": {},
   "outputs": [],
   "source": [
    "absa_term = pd.melt(absa, id_vars=['S/N', 'In-charge', 'listing_id', 'id', 'date', 'reviewer_id',\n",
    "       'reviewer_name', 'comments', 'comments_stopwordsrm',\n",
    "       'comments_stopwordsrm_lemma'],\n",
    "        var_name='aspect_category',\n",
    "        value_vars=['accuracy_merged', 'clean_merged', \n",
    "       'communicate_merged', \n",
    "       'value_merged',\n",
    "       'location_merged'], value_name= 'aspect_term')"
   ]
  },
  {
   "cell_type": "code",
   "execution_count": 13,
   "metadata": {},
   "outputs": [
    {
     "data": {
      "text/html": [
       "<div>\n",
       "<style scoped>\n",
       "    .dataframe tbody tr th:only-of-type {\n",
       "        vertical-align: middle;\n",
       "    }\n",
       "\n",
       "    .dataframe tbody tr th {\n",
       "        vertical-align: top;\n",
       "    }\n",
       "\n",
       "    .dataframe thead th {\n",
       "        text-align: right;\n",
       "    }\n",
       "</style>\n",
       "<table border=\"1\" class=\"dataframe\">\n",
       "  <thead>\n",
       "    <tr style=\"text-align: right;\">\n",
       "      <th></th>\n",
       "      <th>S/N</th>\n",
       "      <th>In-charge</th>\n",
       "      <th>listing_id</th>\n",
       "      <th>id</th>\n",
       "      <th>date</th>\n",
       "      <th>reviewer_id</th>\n",
       "      <th>reviewer_name</th>\n",
       "      <th>comments</th>\n",
       "      <th>comments_stopwordsrm</th>\n",
       "      <th>comments_stopwordsrm_lemma</th>\n",
       "      <th>aspect_category</th>\n",
       "      <th>aspect_term</th>\n",
       "    </tr>\n",
       "  </thead>\n",
       "  <tbody>\n",
       "    <tr>\n",
       "      <th>0</th>\n",
       "      <td>1</td>\n",
       "      <td>SX</td>\n",
       "      <td>11391287</td>\n",
       "      <td>208136450</td>\n",
       "      <td>2017-10-31</td>\n",
       "      <td>68485599</td>\n",
       "      <td>Ali</td>\n",
       "      <td>Fantastic location and fantastic hosts for a v...</td>\n",
       "      <td>fantastic location fantastic hosts reasonable ...</td>\n",
       "      <td>fantastic location fantastic host reasonable p...</td>\n",
       "      <td>accuracy_merged</td>\n",
       "      <td>None</td>\n",
       "    </tr>\n",
       "    <tr>\n",
       "      <th>1</th>\n",
       "      <td>2</td>\n",
       "      <td>SX</td>\n",
       "      <td>50319142</td>\n",
       "      <td>574451000000000000</td>\n",
       "      <td>2022-03-03</td>\n",
       "      <td>81633638</td>\n",
       "      <td>Christophe</td>\n",
       "      <td>Super happy with this stylish and comfy apartm...</td>\n",
       "      <td>super happy stylish comfy apartment family eas...</td>\n",
       "      <td>super happy stylish comfy apartment family eas...</td>\n",
       "      <td>accuracy_merged</td>\n",
       "      <td>amenities great</td>\n",
       "    </tr>\n",
       "    <tr>\n",
       "      <th>2</th>\n",
       "      <td>3</td>\n",
       "      <td>SX</td>\n",
       "      <td>272282</td>\n",
       "      <td>52814653</td>\n",
       "      <td>2015-11-02</td>\n",
       "      <td>8528459</td>\n",
       "      <td>Rebecca</td>\n",
       "      <td>Mar made us feel very welcomed with great dire...</td>\n",
       "      <td>mar made us feel welcomed great directions gue...</td>\n",
       "      <td>mar make -PRON- feel welcome great direction g...</td>\n",
       "      <td>accuracy_merged</td>\n",
       "      <td>bathrooms well equipped</td>\n",
       "    </tr>\n",
       "    <tr>\n",
       "      <th>3</th>\n",
       "      <td>4</td>\n",
       "      <td>SX</td>\n",
       "      <td>4683548</td>\n",
       "      <td>475841000000000000</td>\n",
       "      <td>2021-10-18</td>\n",
       "      <td>190705793</td>\n",
       "      <td>Ron</td>\n",
       "      <td>Andres is an amazing host! &lt;br/&gt;Not only the a...</td>\n",
       "      <td>andres amazing host not apartment see pictures...</td>\n",
       "      <td>andres amazing host not apartment see picture ...</td>\n",
       "      <td>accuracy_merged</td>\n",
       "      <td>pictures see</td>\n",
       "    </tr>\n",
       "    <tr>\n",
       "      <th>4</th>\n",
       "      <td>5</td>\n",
       "      <td>SX</td>\n",
       "      <td>7838608</td>\n",
       "      <td>192308789</td>\n",
       "      <td>2017-09-10</td>\n",
       "      <td>12034187</td>\n",
       "      <td>Giuseppe</td>\n",
       "      <td>A lovely room which was spacious and clean. Al...</td>\n",
       "      <td>a lovely room spacious clean also great suppor...</td>\n",
       "      <td>a lovely room spacious clean also great suppor...</td>\n",
       "      <td>accuracy_merged</td>\n",
       "      <td>None</td>\n",
       "    </tr>\n",
       "  </tbody>\n",
       "</table>\n",
       "</div>"
      ],
      "text/plain": [
       "   S/N In-charge  listing_id                  id       date  reviewer_id  \\\n",
       "0    1        SX    11391287           208136450 2017-10-31     68485599   \n",
       "1    2        SX    50319142  574451000000000000 2022-03-03     81633638   \n",
       "2    3        SX      272282            52814653 2015-11-02      8528459   \n",
       "3    4        SX     4683548  475841000000000000 2021-10-18    190705793   \n",
       "4    5        SX     7838608           192308789 2017-09-10     12034187   \n",
       "\n",
       "  reviewer_name                                           comments  \\\n",
       "0           Ali  Fantastic location and fantastic hosts for a v...   \n",
       "1    Christophe  Super happy with this stylish and comfy apartm...   \n",
       "2       Rebecca  Mar made us feel very welcomed with great dire...   \n",
       "3           Ron  Andres is an amazing host! <br/>Not only the a...   \n",
       "4      Giuseppe  A lovely room which was spacious and clean. Al...   \n",
       "\n",
       "                                comments_stopwordsrm  \\\n",
       "0  fantastic location fantastic hosts reasonable ...   \n",
       "1  super happy stylish comfy apartment family eas...   \n",
       "2  mar made us feel welcomed great directions gue...   \n",
       "3  andres amazing host not apartment see pictures...   \n",
       "4  a lovely room spacious clean also great suppor...   \n",
       "\n",
       "                          comments_stopwordsrm_lemma  aspect_category  \\\n",
       "0  fantastic location fantastic host reasonable p...  accuracy_merged   \n",
       "1  super happy stylish comfy apartment family eas...  accuracy_merged   \n",
       "2  mar make -PRON- feel welcome great direction g...  accuracy_merged   \n",
       "3  andres amazing host not apartment see picture ...  accuracy_merged   \n",
       "4  a lovely room spacious clean also great suppor...  accuracy_merged   \n",
       "\n",
       "               aspect_term  \n",
       "0                     None  \n",
       "1          amenities great  \n",
       "2  bathrooms well equipped  \n",
       "3             pictures see  \n",
       "4                     None  "
      ]
     },
     "execution_count": 13,
     "metadata": {},
     "output_type": "execute_result"
    }
   ],
   "source": [
    "absa_term.head()"
   ]
  },
  {
   "cell_type": "code",
   "execution_count": 14,
   "metadata": {},
   "outputs": [
    {
     "data": {
      "text/plain": [
       "0       accuracy_score\n",
       "1       accuracy_score\n",
       "2       accuracy_score\n",
       "3       accuracy_score\n",
       "4       accuracy_score\n",
       "             ...      \n",
       "1495    location_score\n",
       "1496    location_score\n",
       "1497    location_score\n",
       "1498    location_score\n",
       "1499    location_score\n",
       "Name: aspect_category, Length: 1500, dtype: object"
      ]
     },
     "execution_count": 14,
     "metadata": {},
     "output_type": "execute_result"
    }
   ],
   "source": [
    "absa_score['aspect_category']"
   ]
  },
  {
   "cell_type": "code",
   "execution_count": 15,
   "metadata": {},
   "outputs": [
    {
     "data": {
      "text/plain": [
       "'accuracy'"
      ]
     },
     "execution_count": 15,
     "metadata": {},
     "output_type": "execute_result"
    }
   ],
   "source": [
    "import re\n",
    "re.sub(\"_score\", \"\", absa_score['aspect_category'][0])"
   ]
  },
  {
   "cell_type": "code",
   "execution_count": 16,
   "metadata": {},
   "outputs": [],
   "source": [
    "#use str(id) + re.split(\"_\")[0] as identifier!\n",
    "absa_score['id2merge'] = absa_score['id'].astype(str) +\"_\"+ [re.sub(\"_score\", \"\",x) for x in absa_score['aspect_category']]"
   ]
  },
  {
   "cell_type": "code",
   "execution_count": 17,
   "metadata": {},
   "outputs": [
    {
     "data": {
      "text/plain": [
       "0                208136450_accuracy\n",
       "1       574451000000000000_accuracy\n",
       "2                 52814653_accuracy\n",
       "3       475841000000000000_accuracy\n",
       "4                192308789_accuracy\n",
       "                   ...             \n",
       "1495             623526283_location\n",
       "1496             304396739_location\n",
       "1497             451844194_location\n",
       "1498             195374111_location\n",
       "1499             159216593_location\n",
       "Name: id2merge, Length: 1500, dtype: object"
      ]
     },
     "execution_count": 17,
     "metadata": {},
     "output_type": "execute_result"
    }
   ],
   "source": [
    "absa_score['id2merge']"
   ]
  },
  {
   "cell_type": "code",
   "execution_count": 18,
   "metadata": {},
   "outputs": [],
   "source": [
    "absa_term['id2merge'] = absa_term['id'].astype(str) +\"_\"+ [re.sub(\"_merged\", \"\",x) for x in absa_term['aspect_category']]"
   ]
  },
  {
   "cell_type": "code",
   "execution_count": 19,
   "metadata": {},
   "outputs": [
    {
     "data": {
      "text/plain": [
       "0                208136450_accuracy\n",
       "1       574451000000000000_accuracy\n",
       "2                 52814653_accuracy\n",
       "3       475841000000000000_accuracy\n",
       "4                192308789_accuracy\n",
       "                   ...             \n",
       "1495             623526283_location\n",
       "1496             304396739_location\n",
       "1497             451844194_location\n",
       "1498             195374111_location\n",
       "1499             159216593_location\n",
       "Name: id2merge, Length: 1500, dtype: object"
      ]
     },
     "execution_count": 19,
     "metadata": {},
     "output_type": "execute_result"
    }
   ],
   "source": [
    "absa_term['id2merge']"
   ]
  },
  {
   "cell_type": "code",
   "execution_count": 20,
   "metadata": {},
   "outputs": [],
   "source": [
    "#merge score to absa_term\n",
    "absa_merged = pd.merge(absa_term, absa_score[['id2merge', 'aspect_score']], on='id2merge', how='left')"
   ]
  },
  {
   "cell_type": "code",
   "execution_count": 21,
   "metadata": {},
   "outputs": [
    {
     "data": {
      "text/html": [
       "<div>\n",
       "<style scoped>\n",
       "    .dataframe tbody tr th:only-of-type {\n",
       "        vertical-align: middle;\n",
       "    }\n",
       "\n",
       "    .dataframe tbody tr th {\n",
       "        vertical-align: top;\n",
       "    }\n",
       "\n",
       "    .dataframe thead th {\n",
       "        text-align: right;\n",
       "    }\n",
       "</style>\n",
       "<table border=\"1\" class=\"dataframe\">\n",
       "  <thead>\n",
       "    <tr style=\"text-align: right;\">\n",
       "      <th></th>\n",
       "      <th>S/N</th>\n",
       "      <th>In-charge</th>\n",
       "      <th>listing_id</th>\n",
       "      <th>id</th>\n",
       "      <th>date</th>\n",
       "      <th>reviewer_id</th>\n",
       "      <th>reviewer_name</th>\n",
       "      <th>comments</th>\n",
       "      <th>comments_stopwordsrm</th>\n",
       "      <th>comments_stopwordsrm_lemma</th>\n",
       "      <th>aspect_category</th>\n",
       "      <th>aspect_term</th>\n",
       "      <th>id2merge</th>\n",
       "      <th>aspect_score</th>\n",
       "    </tr>\n",
       "  </thead>\n",
       "  <tbody>\n",
       "    <tr>\n",
       "      <th>0</th>\n",
       "      <td>1</td>\n",
       "      <td>SX</td>\n",
       "      <td>11391287</td>\n",
       "      <td>208136450</td>\n",
       "      <td>2017-10-31</td>\n",
       "      <td>68485599</td>\n",
       "      <td>Ali</td>\n",
       "      <td>Fantastic location and fantastic hosts for a v...</td>\n",
       "      <td>fantastic location fantastic hosts reasonable ...</td>\n",
       "      <td>fantastic location fantastic host reasonable p...</td>\n",
       "      <td>accuracy_merged</td>\n",
       "      <td>None</td>\n",
       "      <td>208136450_accuracy</td>\n",
       "      <td>3</td>\n",
       "    </tr>\n",
       "    <tr>\n",
       "      <th>1</th>\n",
       "      <td>2</td>\n",
       "      <td>SX</td>\n",
       "      <td>50319142</td>\n",
       "      <td>574451000000000000</td>\n",
       "      <td>2022-03-03</td>\n",
       "      <td>81633638</td>\n",
       "      <td>Christophe</td>\n",
       "      <td>Super happy with this stylish and comfy apartm...</td>\n",
       "      <td>super happy stylish comfy apartment family eas...</td>\n",
       "      <td>super happy stylish comfy apartment family eas...</td>\n",
       "      <td>accuracy_merged</td>\n",
       "      <td>amenities great</td>\n",
       "      <td>574451000000000000_accuracy</td>\n",
       "      <td>5</td>\n",
       "    </tr>\n",
       "    <tr>\n",
       "      <th>2</th>\n",
       "      <td>3</td>\n",
       "      <td>SX</td>\n",
       "      <td>272282</td>\n",
       "      <td>52814653</td>\n",
       "      <td>2015-11-02</td>\n",
       "      <td>8528459</td>\n",
       "      <td>Rebecca</td>\n",
       "      <td>Mar made us feel very welcomed with great dire...</td>\n",
       "      <td>mar made us feel welcomed great directions gue...</td>\n",
       "      <td>mar make -PRON- feel welcome great direction g...</td>\n",
       "      <td>accuracy_merged</td>\n",
       "      <td>bathrooms well equipped</td>\n",
       "      <td>52814653_accuracy</td>\n",
       "      <td>4</td>\n",
       "    </tr>\n",
       "    <tr>\n",
       "      <th>3</th>\n",
       "      <td>4</td>\n",
       "      <td>SX</td>\n",
       "      <td>4683548</td>\n",
       "      <td>475841000000000000</td>\n",
       "      <td>2021-10-18</td>\n",
       "      <td>190705793</td>\n",
       "      <td>Ron</td>\n",
       "      <td>Andres is an amazing host! &lt;br/&gt;Not only the a...</td>\n",
       "      <td>andres amazing host not apartment see pictures...</td>\n",
       "      <td>andres amazing host not apartment see picture ...</td>\n",
       "      <td>accuracy_merged</td>\n",
       "      <td>pictures see</td>\n",
       "      <td>475841000000000000_accuracy</td>\n",
       "      <td>5</td>\n",
       "    </tr>\n",
       "    <tr>\n",
       "      <th>4</th>\n",
       "      <td>5</td>\n",
       "      <td>SX</td>\n",
       "      <td>7838608</td>\n",
       "      <td>192308789</td>\n",
       "      <td>2017-09-10</td>\n",
       "      <td>12034187</td>\n",
       "      <td>Giuseppe</td>\n",
       "      <td>A lovely room which was spacious and clean. Al...</td>\n",
       "      <td>a lovely room spacious clean also great suppor...</td>\n",
       "      <td>a lovely room spacious clean also great suppor...</td>\n",
       "      <td>accuracy_merged</td>\n",
       "      <td>None</td>\n",
       "      <td>192308789_accuracy</td>\n",
       "      <td>3</td>\n",
       "    </tr>\n",
       "    <tr>\n",
       "      <th>...</th>\n",
       "      <td>...</td>\n",
       "      <td>...</td>\n",
       "      <td>...</td>\n",
       "      <td>...</td>\n",
       "      <td>...</td>\n",
       "      <td>...</td>\n",
       "      <td>...</td>\n",
       "      <td>...</td>\n",
       "      <td>...</td>\n",
       "      <td>...</td>\n",
       "      <td>...</td>\n",
       "      <td>...</td>\n",
       "      <td>...</td>\n",
       "      <td>...</td>\n",
       "    </tr>\n",
       "    <tr>\n",
       "      <th>1495</th>\n",
       "      <td>296</td>\n",
       "      <td>LT</td>\n",
       "      <td>19154124</td>\n",
       "      <td>623526283</td>\n",
       "      <td>2020-05-01</td>\n",
       "      <td>261715322</td>\n",
       "      <td>Ivan</td>\n",
       "      <td>Super host, super flat</td>\n",
       "      <td>super host super flat</td>\n",
       "      <td>super host super flat</td>\n",
       "      <td>location_merged</td>\n",
       "      <td>None</td>\n",
       "      <td>623526283_location</td>\n",
       "      <td>3</td>\n",
       "    </tr>\n",
       "    <tr>\n",
       "      <th>1496</th>\n",
       "      <td>297</td>\n",
       "      <td>LT</td>\n",
       "      <td>5645973</td>\n",
       "      <td>304396739</td>\n",
       "      <td>2018-08-09</td>\n",
       "      <td>164747779</td>\n",
       "      <td>Arielle</td>\n",
       "      <td>We had a wonderful time in Barcelona! &lt;br/&gt;The...</td>\n",
       "      <td>we wonderful time barcelona the apartment pret...</td>\n",
       "      <td>wonderful time barcelona the apartment pretty...</td>\n",
       "      <td>location_merged</td>\n",
       "      <td>location good</td>\n",
       "      <td>304396739_location</td>\n",
       "      <td>4</td>\n",
       "    </tr>\n",
       "    <tr>\n",
       "      <th>1497</th>\n",
       "      <td>298</td>\n",
       "      <td>LT</td>\n",
       "      <td>23233260</td>\n",
       "      <td>451844194</td>\n",
       "      <td>2019-05-12</td>\n",
       "      <td>242067326</td>\n",
       "      <td>Sophie</td>\n",
       "      <td>Beautifully modern and stylish apartment, nice...</td>\n",
       "      <td>beautifully modern stylish apartment nice sepa...</td>\n",
       "      <td>beautifully modern stylish apartment nice sepa...</td>\n",
       "      <td>location_merged</td>\n",
       "      <td>location central</td>\n",
       "      <td>451844194_location</td>\n",
       "      <td>5</td>\n",
       "    </tr>\n",
       "    <tr>\n",
       "      <th>1498</th>\n",
       "      <td>299</td>\n",
       "      <td>LT</td>\n",
       "      <td>1916224</td>\n",
       "      <td>195374111</td>\n",
       "      <td>2017-09-19</td>\n",
       "      <td>93750103</td>\n",
       "      <td>Scott</td>\n",
       "      <td>This spot is great for 3-4 people or less.  Ex...</td>\n",
       "      <td>this spot great people less extremely convenie...</td>\n",
       "      <td>this spot great people less extremely convenie...</td>\n",
       "      <td>location_merged</td>\n",
       "      <td>location convenient</td>\n",
       "      <td>195374111_location</td>\n",
       "      <td>4</td>\n",
       "    </tr>\n",
       "    <tr>\n",
       "      <th>1499</th>\n",
       "      <td>300</td>\n",
       "      <td>LT</td>\n",
       "      <td>14121260</td>\n",
       "      <td>159216593</td>\n",
       "      <td>2017-06-10</td>\n",
       "      <td>7595501</td>\n",
       "      <td>Michelle</td>\n",
       "      <td>Amazing stay! Thanks so much, everything was p...</td>\n",
       "      <td>amazing stay thanks much everything perfect</td>\n",
       "      <td>amazing stay thank much everything perfect</td>\n",
       "      <td>location_merged</td>\n",
       "      <td>None</td>\n",
       "      <td>159216593_location</td>\n",
       "      <td>3</td>\n",
       "    </tr>\n",
       "  </tbody>\n",
       "</table>\n",
       "<p>1500 rows × 14 columns</p>\n",
       "</div>"
      ],
      "text/plain": [
       "      S/N In-charge  listing_id                  id       date  reviewer_id  \\\n",
       "0       1        SX    11391287           208136450 2017-10-31     68485599   \n",
       "1       2        SX    50319142  574451000000000000 2022-03-03     81633638   \n",
       "2       3        SX      272282            52814653 2015-11-02      8528459   \n",
       "3       4        SX     4683548  475841000000000000 2021-10-18    190705793   \n",
       "4       5        SX     7838608           192308789 2017-09-10     12034187   \n",
       "...   ...       ...         ...                 ...        ...          ...   \n",
       "1495  296        LT    19154124           623526283 2020-05-01    261715322   \n",
       "1496  297        LT     5645973           304396739 2018-08-09    164747779   \n",
       "1497  298        LT    23233260           451844194 2019-05-12    242067326   \n",
       "1498  299        LT     1916224           195374111 2017-09-19     93750103   \n",
       "1499  300        LT    14121260           159216593 2017-06-10      7595501   \n",
       "\n",
       "     reviewer_name                                           comments  \\\n",
       "0              Ali  Fantastic location and fantastic hosts for a v...   \n",
       "1       Christophe  Super happy with this stylish and comfy apartm...   \n",
       "2          Rebecca  Mar made us feel very welcomed with great dire...   \n",
       "3              Ron  Andres is an amazing host! <br/>Not only the a...   \n",
       "4         Giuseppe  A lovely room which was spacious and clean. Al...   \n",
       "...            ...                                                ...   \n",
       "1495          Ivan                             Super host, super flat   \n",
       "1496       Arielle  We had a wonderful time in Barcelona! <br/>The...   \n",
       "1497        Sophie  Beautifully modern and stylish apartment, nice...   \n",
       "1498         Scott  This spot is great for 3-4 people or less.  Ex...   \n",
       "1499      Michelle  Amazing stay! Thanks so much, everything was p...   \n",
       "\n",
       "                                   comments_stopwordsrm  \\\n",
       "0     fantastic location fantastic hosts reasonable ...   \n",
       "1     super happy stylish comfy apartment family eas...   \n",
       "2     mar made us feel welcomed great directions gue...   \n",
       "3     andres amazing host not apartment see pictures...   \n",
       "4     a lovely room spacious clean also great suppor...   \n",
       "...                                                 ...   \n",
       "1495                              super host super flat   \n",
       "1496  we wonderful time barcelona the apartment pret...   \n",
       "1497  beautifully modern stylish apartment nice sepa...   \n",
       "1498  this spot great people less extremely convenie...   \n",
       "1499        amazing stay thanks much everything perfect   \n",
       "\n",
       "                             comments_stopwordsrm_lemma  aspect_category  \\\n",
       "0     fantastic location fantastic host reasonable p...  accuracy_merged   \n",
       "1     super happy stylish comfy apartment family eas...  accuracy_merged   \n",
       "2     mar make -PRON- feel welcome great direction g...  accuracy_merged   \n",
       "3     andres amazing host not apartment see picture ...  accuracy_merged   \n",
       "4     a lovely room spacious clean also great suppor...  accuracy_merged   \n",
       "...                                                 ...              ...   \n",
       "1495                              super host super flat  location_merged   \n",
       "1496   wonderful time barcelona the apartment pretty...  location_merged   \n",
       "1497  beautifully modern stylish apartment nice sepa...  location_merged   \n",
       "1498  this spot great people less extremely convenie...  location_merged   \n",
       "1499         amazing stay thank much everything perfect  location_merged   \n",
       "\n",
       "                  aspect_term                     id2merge  aspect_score  \n",
       "0                        None           208136450_accuracy             3  \n",
       "1             amenities great  574451000000000000_accuracy             5  \n",
       "2     bathrooms well equipped            52814653_accuracy             4  \n",
       "3                pictures see  475841000000000000_accuracy             5  \n",
       "4                        None           192308789_accuracy             3  \n",
       "...                       ...                          ...           ...  \n",
       "1495                     None           623526283_location             3  \n",
       "1496            location good           304396739_location             4  \n",
       "1497         location central           451844194_location             5  \n",
       "1498      location convenient           195374111_location             4  \n",
       "1499                     None           159216593_location             3  \n",
       "\n",
       "[1500 rows x 14 columns]"
      ]
     },
     "execution_count": 21,
     "metadata": {},
     "output_type": "execute_result"
    }
   ],
   "source": [
    "absa_merged"
   ]
  },
  {
   "cell_type": "code",
   "execution_count": 22,
   "metadata": {},
   "outputs": [
    {
     "data": {
      "text/html": [
       "<div>\n",
       "<style scoped>\n",
       "    .dataframe tbody tr th:only-of-type {\n",
       "        vertical-align: middle;\n",
       "    }\n",
       "\n",
       "    .dataframe tbody tr th {\n",
       "        vertical-align: top;\n",
       "    }\n",
       "\n",
       "    .dataframe thead th {\n",
       "        text-align: right;\n",
       "    }\n",
       "</style>\n",
       "<table border=\"1\" class=\"dataframe\">\n",
       "  <thead>\n",
       "    <tr style=\"text-align: right;\">\n",
       "      <th>aspect_category</th>\n",
       "      <th>accuracy_merged</th>\n",
       "      <th>clean_merged</th>\n",
       "      <th>communicate_merged</th>\n",
       "      <th>location_merged</th>\n",
       "      <th>value_merged</th>\n",
       "    </tr>\n",
       "  </thead>\n",
       "  <tbody>\n",
       "    <tr>\n",
       "      <th>0</th>\n",
       "      <td>3.0</td>\n",
       "      <td>NaN</td>\n",
       "      <td>NaN</td>\n",
       "      <td>NaN</td>\n",
       "      <td>NaN</td>\n",
       "    </tr>\n",
       "    <tr>\n",
       "      <th>1</th>\n",
       "      <td>5.0</td>\n",
       "      <td>NaN</td>\n",
       "      <td>NaN</td>\n",
       "      <td>NaN</td>\n",
       "      <td>NaN</td>\n",
       "    </tr>\n",
       "    <tr>\n",
       "      <th>2</th>\n",
       "      <td>4.0</td>\n",
       "      <td>NaN</td>\n",
       "      <td>NaN</td>\n",
       "      <td>NaN</td>\n",
       "      <td>NaN</td>\n",
       "    </tr>\n",
       "    <tr>\n",
       "      <th>3</th>\n",
       "      <td>5.0</td>\n",
       "      <td>NaN</td>\n",
       "      <td>NaN</td>\n",
       "      <td>NaN</td>\n",
       "      <td>NaN</td>\n",
       "    </tr>\n",
       "    <tr>\n",
       "      <th>4</th>\n",
       "      <td>3.0</td>\n",
       "      <td>NaN</td>\n",
       "      <td>NaN</td>\n",
       "      <td>NaN</td>\n",
       "      <td>NaN</td>\n",
       "    </tr>\n",
       "    <tr>\n",
       "      <th>...</th>\n",
       "      <td>...</td>\n",
       "      <td>...</td>\n",
       "      <td>...</td>\n",
       "      <td>...</td>\n",
       "      <td>...</td>\n",
       "    </tr>\n",
       "    <tr>\n",
       "      <th>1495</th>\n",
       "      <td>NaN</td>\n",
       "      <td>NaN</td>\n",
       "      <td>NaN</td>\n",
       "      <td>3.0</td>\n",
       "      <td>NaN</td>\n",
       "    </tr>\n",
       "    <tr>\n",
       "      <th>1496</th>\n",
       "      <td>NaN</td>\n",
       "      <td>NaN</td>\n",
       "      <td>NaN</td>\n",
       "      <td>4.0</td>\n",
       "      <td>NaN</td>\n",
       "    </tr>\n",
       "    <tr>\n",
       "      <th>1497</th>\n",
       "      <td>NaN</td>\n",
       "      <td>NaN</td>\n",
       "      <td>NaN</td>\n",
       "      <td>5.0</td>\n",
       "      <td>NaN</td>\n",
       "    </tr>\n",
       "    <tr>\n",
       "      <th>1498</th>\n",
       "      <td>NaN</td>\n",
       "      <td>NaN</td>\n",
       "      <td>NaN</td>\n",
       "      <td>4.0</td>\n",
       "      <td>NaN</td>\n",
       "    </tr>\n",
       "    <tr>\n",
       "      <th>1499</th>\n",
       "      <td>NaN</td>\n",
       "      <td>NaN</td>\n",
       "      <td>NaN</td>\n",
       "      <td>3.0</td>\n",
       "      <td>NaN</td>\n",
       "    </tr>\n",
       "  </tbody>\n",
       "</table>\n",
       "<p>1500 rows × 5 columns</p>\n",
       "</div>"
      ],
      "text/plain": [
       "aspect_category  accuracy_merged  clean_merged  communicate_merged  \\\n",
       "0                            3.0           NaN                 NaN   \n",
       "1                            5.0           NaN                 NaN   \n",
       "2                            4.0           NaN                 NaN   \n",
       "3                            5.0           NaN                 NaN   \n",
       "4                            3.0           NaN                 NaN   \n",
       "...                          ...           ...                 ...   \n",
       "1495                         NaN           NaN                 NaN   \n",
       "1496                         NaN           NaN                 NaN   \n",
       "1497                         NaN           NaN                 NaN   \n",
       "1498                         NaN           NaN                 NaN   \n",
       "1499                         NaN           NaN                 NaN   \n",
       "\n",
       "aspect_category  location_merged  value_merged  \n",
       "0                            NaN           NaN  \n",
       "1                            NaN           NaN  \n",
       "2                            NaN           NaN  \n",
       "3                            NaN           NaN  \n",
       "4                            NaN           NaN  \n",
       "...                          ...           ...  \n",
       "1495                         3.0           NaN  \n",
       "1496                         4.0           NaN  \n",
       "1497                         5.0           NaN  \n",
       "1498                         4.0           NaN  \n",
       "1499                         3.0           NaN  \n",
       "\n",
       "[1500 rows x 5 columns]"
      ]
     },
     "execution_count": 22,
     "metadata": {},
     "output_type": "execute_result"
    }
   ],
   "source": [
    "absa_score_plot = absa_merged.pivot(columns = 'aspect_category', values = 'aspect_score')\n",
    "absa_score_plot"
   ]
  },
  {
   "cell_type": "code",
   "execution_count": 24,
   "metadata": {},
   "outputs": [
    {
     "data": {
      "image/png": "[encoded data removed]",
      "text/plain": [
       "<Figure size 432x288 with 6 Axes>"
      ]
     },
     "metadata": {
      "needs_background": "light"
     },
     "output_type": "display_data"
    }
   ],
   "source": [
    "##check distribution of manually labelled aspect scores (may have>1 per review)\n",
    "import matplotlib.pyplot as plt\n",
    "%matplotlib inline\n",
    "\n",
    "fig, ax = plt.subplots(2, 3)\n",
    "fig.tight_layout()\n",
    "\n",
    "ax[0, 0].hist(absa_score_plot[\"value_merged\"]) #row=0, col=0\n",
    "ax[0, 0].set_title('Value')\n",
    "ax[1, 0].hist(absa_score_plot[\"accuracy_merged\"]) #row=2, col=1\n",
    "ax[1 ,0].set_title('Accuracy')\n",
    "ax[0, 1].hist(absa_score_plot[\"clean_merged\"]) #row=0, col=1\n",
    "ax[0, 1].set_title('Cleanliness')\n",
    "ax[1, 1].hist(absa_score_plot[\"communicate_merged\"]) #row=1, col=1\n",
    "ax[1, 1].set_title('Communication')\n",
    "ax[1, 2].hist(absa_score_plot[\"location_merged\"]) #row=1, col=2\n",
    "ax[1 ,2].set_title('Location')\n",
    "plt.show()\n",
    "#plt.savefig('prelim_SABSA_scores.png')"
   ]
  },
  {
   "cell_type": "markdown",
   "metadata": {},
   "source": [
    "Few commented about value, communication\n",
    "Most high reviews for location (positive skew)\n",
    "Some negative reviews for accuracy (score 2)"
   ]
  },
  {
   "cell_type": "code",
   "execution_count": 25,
   "metadata": {},
   "outputs": [
    {
     "data": {
      "text/html": [
       "<div>\n",
       "<style scoped>\n",
       "    .dataframe tbody tr th:only-of-type {\n",
       "        vertical-align: middle;\n",
       "    }\n",
       "\n",
       "    .dataframe tbody tr th {\n",
       "        vertical-align: top;\n",
       "    }\n",
       "\n",
       "    .dataframe thead th {\n",
       "        text-align: right;\n",
       "    }\n",
       "</style>\n",
       "<table border=\"1\" class=\"dataframe\">\n",
       "  <thead>\n",
       "    <tr style=\"text-align: right;\">\n",
       "      <th></th>\n",
       "      <th>S/N</th>\n",
       "      <th>In-charge</th>\n",
       "      <th>listing_id</th>\n",
       "      <th>id</th>\n",
       "      <th>date</th>\n",
       "      <th>reviewer_id</th>\n",
       "      <th>reviewer_name</th>\n",
       "      <th>comments</th>\n",
       "      <th>comments_stopwordsrm</th>\n",
       "      <th>comments_stopwordsrm_lemma</th>\n",
       "      <th>aspect_category</th>\n",
       "      <th>aspect_term</th>\n",
       "      <th>id2merge</th>\n",
       "      <th>aspect_score</th>\n",
       "    </tr>\n",
       "  </thead>\n",
       "  <tbody>\n",
       "    <tr>\n",
       "      <th>1</th>\n",
       "      <td>2</td>\n",
       "      <td>SX</td>\n",
       "      <td>50319142</td>\n",
       "      <td>574451000000000000</td>\n",
       "      <td>2022-03-03</td>\n",
       "      <td>81633638</td>\n",
       "      <td>Christophe</td>\n",
       "      <td>Super happy with this stylish and comfy apartm...</td>\n",
       "      <td>super happy stylish comfy apartment family eas...</td>\n",
       "      <td>super happy stylish comfy apartment family eas...</td>\n",
       "      <td>accuracy_merged</td>\n",
       "      <td>amenities great</td>\n",
       "      <td>574451000000000000_accuracy</td>\n",
       "      <td>5</td>\n",
       "    </tr>\n",
       "    <tr>\n",
       "      <th>2</th>\n",
       "      <td>3</td>\n",
       "      <td>SX</td>\n",
       "      <td>272282</td>\n",
       "      <td>52814653</td>\n",
       "      <td>2015-11-02</td>\n",
       "      <td>8528459</td>\n",
       "      <td>Rebecca</td>\n",
       "      <td>Mar made us feel very welcomed with great dire...</td>\n",
       "      <td>mar made us feel welcomed great directions gue...</td>\n",
       "      <td>mar make -PRON- feel welcome great direction g...</td>\n",
       "      <td>accuracy_merged</td>\n",
       "      <td>bathrooms well equipped</td>\n",
       "      <td>52814653_accuracy</td>\n",
       "      <td>4</td>\n",
       "    </tr>\n",
       "    <tr>\n",
       "      <th>3</th>\n",
       "      <td>4</td>\n",
       "      <td>SX</td>\n",
       "      <td>4683548</td>\n",
       "      <td>475841000000000000</td>\n",
       "      <td>2021-10-18</td>\n",
       "      <td>190705793</td>\n",
       "      <td>Ron</td>\n",
       "      <td>Andres is an amazing host! &lt;br/&gt;Not only the a...</td>\n",
       "      <td>andres amazing host not apartment see pictures...</td>\n",
       "      <td>andres amazing host not apartment see picture ...</td>\n",
       "      <td>accuracy_merged</td>\n",
       "      <td>pictures see</td>\n",
       "      <td>475841000000000000_accuracy</td>\n",
       "      <td>5</td>\n",
       "    </tr>\n",
       "    <tr>\n",
       "      <th>5</th>\n",
       "      <td>6</td>\n",
       "      <td>SX</td>\n",
       "      <td>2376434</td>\n",
       "      <td>84304799</td>\n",
       "      <td>2016-07-06</td>\n",
       "      <td>24048974</td>\n",
       "      <td>Aude</td>\n",
       "      <td>The apartment was exactly has describe. Large ...</td>\n",
       "      <td>the apartment exactly describe large enough fa...</td>\n",
       "      <td>the apartment exactly describe large enough fa...</td>\n",
       "      <td>accuracy_merged</td>\n",
       "      <td>apartment exactly</td>\n",
       "      <td>84304799_accuracy</td>\n",
       "      <td>5</td>\n",
       "    </tr>\n",
       "    <tr>\n",
       "      <th>8</th>\n",
       "      <td>9</td>\n",
       "      <td>SX</td>\n",
       "      <td>13009615</td>\n",
       "      <td>132485793</td>\n",
       "      <td>2017-02-18</td>\n",
       "      <td>44160525</td>\n",
       "      <td>Leonardo</td>\n",
       "      <td>Nice beautiful place , very clean and tidy , g...</td>\n",
       "      <td>nice beautiful place clean tidy great location...</td>\n",
       "      <td>nice beautiful place clean tidy great location...</td>\n",
       "      <td>accuracy_merged</td>\n",
       "      <td>boiler small</td>\n",
       "      <td>132485793_accuracy</td>\n",
       "      <td>2</td>\n",
       "    </tr>\n",
       "    <tr>\n",
       "      <th>...</th>\n",
       "      <td>...</td>\n",
       "      <td>...</td>\n",
       "      <td>...</td>\n",
       "      <td>...</td>\n",
       "      <td>...</td>\n",
       "      <td>...</td>\n",
       "      <td>...</td>\n",
       "      <td>...</td>\n",
       "      <td>...</td>\n",
       "      <td>...</td>\n",
       "      <td>...</td>\n",
       "      <td>...</td>\n",
       "      <td>...</td>\n",
       "      <td>...</td>\n",
       "    </tr>\n",
       "    <tr>\n",
       "      <th>1493</th>\n",
       "      <td>294</td>\n",
       "      <td>LT</td>\n",
       "      <td>1735947</td>\n",
       "      <td>252397945</td>\n",
       "      <td>2018-04-10</td>\n",
       "      <td>89131941</td>\n",
       "      <td>Leslie</td>\n",
       "      <td>The Gracia district is great!  The plaza below...</td>\n",
       "      <td>the gracia district great the plaza provided m...</td>\n",
       "      <td>the gracia district great the plaza provide mu...</td>\n",
       "      <td>location_merged</td>\n",
       "      <td>district great</td>\n",
       "      <td>252397945_location</td>\n",
       "      <td>5</td>\n",
       "    </tr>\n",
       "    <tr>\n",
       "      <th>1494</th>\n",
       "      <td>295</td>\n",
       "      <td>LT</td>\n",
       "      <td>23265494</td>\n",
       "      <td>403617007</td>\n",
       "      <td>2019-01-21</td>\n",
       "      <td>69498100</td>\n",
       "      <td>Jasmin</td>\n",
       "      <td>Outstanding host with great amenities - centra...</td>\n",
       "      <td>outstanding host great amenities centrally loc...</td>\n",
       "      <td>outstanding host great amenity centrally locat...</td>\n",
       "      <td>location_merged</td>\n",
       "      <td>located centrally</td>\n",
       "      <td>403617007_location</td>\n",
       "      <td>5</td>\n",
       "    </tr>\n",
       "    <tr>\n",
       "      <th>1496</th>\n",
       "      <td>297</td>\n",
       "      <td>LT</td>\n",
       "      <td>5645973</td>\n",
       "      <td>304396739</td>\n",
       "      <td>2018-08-09</td>\n",
       "      <td>164747779</td>\n",
       "      <td>Arielle</td>\n",
       "      <td>We had a wonderful time in Barcelona! &lt;br/&gt;The...</td>\n",
       "      <td>we wonderful time barcelona the apartment pret...</td>\n",
       "      <td>wonderful time barcelona the apartment pretty...</td>\n",
       "      <td>location_merged</td>\n",
       "      <td>location good</td>\n",
       "      <td>304396739_location</td>\n",
       "      <td>4</td>\n",
       "    </tr>\n",
       "    <tr>\n",
       "      <th>1497</th>\n",
       "      <td>298</td>\n",
       "      <td>LT</td>\n",
       "      <td>23233260</td>\n",
       "      <td>451844194</td>\n",
       "      <td>2019-05-12</td>\n",
       "      <td>242067326</td>\n",
       "      <td>Sophie</td>\n",
       "      <td>Beautifully modern and stylish apartment, nice...</td>\n",
       "      <td>beautifully modern stylish apartment nice sepa...</td>\n",
       "      <td>beautifully modern stylish apartment nice sepa...</td>\n",
       "      <td>location_merged</td>\n",
       "      <td>location central</td>\n",
       "      <td>451844194_location</td>\n",
       "      <td>5</td>\n",
       "    </tr>\n",
       "    <tr>\n",
       "      <th>1498</th>\n",
       "      <td>299</td>\n",
       "      <td>LT</td>\n",
       "      <td>1916224</td>\n",
       "      <td>195374111</td>\n",
       "      <td>2017-09-19</td>\n",
       "      <td>93750103</td>\n",
       "      <td>Scott</td>\n",
       "      <td>This spot is great for 3-4 people or less.  Ex...</td>\n",
       "      <td>this spot great people less extremely convenie...</td>\n",
       "      <td>this spot great people less extremely convenie...</td>\n",
       "      <td>location_merged</td>\n",
       "      <td>location convenient</td>\n",
       "      <td>195374111_location</td>\n",
       "      <td>4</td>\n",
       "    </tr>\n",
       "  </tbody>\n",
       "</table>\n",
       "<p>402 rows × 14 columns</p>\n",
       "</div>"
      ],
      "text/plain": [
       "      S/N In-charge  listing_id                  id       date  reviewer_id  \\\n",
       "1       2        SX    50319142  574451000000000000 2022-03-03     81633638   \n",
       "2       3        SX      272282            52814653 2015-11-02      8528459   \n",
       "3       4        SX     4683548  475841000000000000 2021-10-18    190705793   \n",
       "5       6        SX     2376434            84304799 2016-07-06     24048974   \n",
       "8       9        SX    13009615           132485793 2017-02-18     44160525   \n",
       "...   ...       ...         ...                 ...        ...          ...   \n",
       "1493  294        LT     1735947           252397945 2018-04-10     89131941   \n",
       "1494  295        LT    23265494           403617007 2019-01-21     69498100   \n",
       "1496  297        LT     5645973           304396739 2018-08-09    164747779   \n",
       "1497  298        LT    23233260           451844194 2019-05-12    242067326   \n",
       "1498  299        LT     1916224           195374111 2017-09-19     93750103   \n",
       "\n",
       "     reviewer_name                                           comments  \\\n",
       "1       Christophe  Super happy with this stylish and comfy apartm...   \n",
       "2          Rebecca  Mar made us feel very welcomed with great dire...   \n",
       "3              Ron  Andres is an amazing host! <br/>Not only the a...   \n",
       "5             Aude  The apartment was exactly has describe. Large ...   \n",
       "8         Leonardo  Nice beautiful place , very clean and tidy , g...   \n",
       "...            ...                                                ...   \n",
       "1493        Leslie  The Gracia district is great!  The plaza below...   \n",
       "1494        Jasmin  Outstanding host with great amenities - centra...   \n",
       "1496       Arielle  We had a wonderful time in Barcelona! <br/>The...   \n",
       "1497        Sophie  Beautifully modern and stylish apartment, nice...   \n",
       "1498         Scott  This spot is great for 3-4 people or less.  Ex...   \n",
       "\n",
       "                                   comments_stopwordsrm  \\\n",
       "1     super happy stylish comfy apartment family eas...   \n",
       "2     mar made us feel welcomed great directions gue...   \n",
       "3     andres amazing host not apartment see pictures...   \n",
       "5     the apartment exactly describe large enough fa...   \n",
       "8     nice beautiful place clean tidy great location...   \n",
       "...                                                 ...   \n",
       "1493  the gracia district great the plaza provided m...   \n",
       "1494  outstanding host great amenities centrally loc...   \n",
       "1496  we wonderful time barcelona the apartment pret...   \n",
       "1497  beautifully modern stylish apartment nice sepa...   \n",
       "1498  this spot great people less extremely convenie...   \n",
       "\n",
       "                             comments_stopwordsrm_lemma  aspect_category  \\\n",
       "1     super happy stylish comfy apartment family eas...  accuracy_merged   \n",
       "2     mar make -PRON- feel welcome great direction g...  accuracy_merged   \n",
       "3     andres amazing host not apartment see picture ...  accuracy_merged   \n",
       "5     the apartment exactly describe large enough fa...  accuracy_merged   \n",
       "8     nice beautiful place clean tidy great location...  accuracy_merged   \n",
       "...                                                 ...              ...   \n",
       "1493  the gracia district great the plaza provide mu...  location_merged   \n",
       "1494  outstanding host great amenity centrally locat...  location_merged   \n",
       "1496   wonderful time barcelona the apartment pretty...  location_merged   \n",
       "1497  beautifully modern stylish apartment nice sepa...  location_merged   \n",
       "1498  this spot great people less extremely convenie...  location_merged   \n",
       "\n",
       "                  aspect_term                     id2merge  aspect_score  \n",
       "1             amenities great  574451000000000000_accuracy             5  \n",
       "2     bathrooms well equipped            52814653_accuracy             4  \n",
       "3                pictures see  475841000000000000_accuracy             5  \n",
       "5           apartment exactly            84304799_accuracy             5  \n",
       "8                boiler small           132485793_accuracy             2  \n",
       "...                       ...                          ...           ...  \n",
       "1493           district great           252397945_location             5  \n",
       "1494        located centrally           403617007_location             5  \n",
       "1496            location good           304396739_location             4  \n",
       "1497         location central           451844194_location             5  \n",
       "1498      location convenient           195374111_location             4  \n",
       "\n",
       "[402 rows x 14 columns]"
      ]
     },
     "execution_count": 25,
     "metadata": {},
     "output_type": "execute_result"
    }
   ],
   "source": [
    "#keep only those with aspect term\n",
    "absa_subset = absa_merged.dropna(subset=['aspect_term'])\n",
    "absa_subset"
   ]
  },
  {
   "cell_type": "code",
   "execution_count": 140,
   "metadata": {},
   "outputs": [],
   "source": [
    "##see how many of each aspect category there are among labelled samples \n",
    "#absa_subset: drop where aspect_term is None (not found)\n",
    "#absa_term_plot = absa_subset.pivot(columns = 'aspect_category', values = 'aspect_term')"
   ]
  },
  {
   "cell_type": "code",
   "execution_count": 26,
   "metadata": {},
   "outputs": [
    {
     "data": {
      "text/html": [
       "<div>\n",
       "<style scoped>\n",
       "    .dataframe tbody tr th:only-of-type {\n",
       "        vertical-align: middle;\n",
       "    }\n",
       "\n",
       "    .dataframe tbody tr th {\n",
       "        vertical-align: top;\n",
       "    }\n",
       "\n",
       "    .dataframe thead th {\n",
       "        text-align: right;\n",
       "    }\n",
       "</style>\n",
       "<table border=\"1\" class=\"dataframe\">\n",
       "  <thead>\n",
       "    <tr style=\"text-align: right;\">\n",
       "      <th></th>\n",
       "      <th>aspect_category</th>\n",
       "      <th>id</th>\n",
       "    </tr>\n",
       "  </thead>\n",
       "  <tbody>\n",
       "    <tr>\n",
       "      <th>0</th>\n",
       "      <td>accuracy_merged</td>\n",
       "      <td>36</td>\n",
       "    </tr>\n",
       "    <tr>\n",
       "      <th>1</th>\n",
       "      <td>clean_merged</td>\n",
       "      <td>56</td>\n",
       "    </tr>\n",
       "    <tr>\n",
       "      <th>2</th>\n",
       "      <td>communicate_merged</td>\n",
       "      <td>100</td>\n",
       "    </tr>\n",
       "    <tr>\n",
       "      <th>3</th>\n",
       "      <td>location_merged</td>\n",
       "      <td>167</td>\n",
       "    </tr>\n",
       "    <tr>\n",
       "      <th>4</th>\n",
       "      <td>value_merged</td>\n",
       "      <td>43</td>\n",
       "    </tr>\n",
       "  </tbody>\n",
       "</table>\n",
       "</div>"
      ],
      "text/plain": [
       "      aspect_category   id\n",
       "0     accuracy_merged   36\n",
       "1        clean_merged   56\n",
       "2  communicate_merged  100\n",
       "3     location_merged  167\n",
       "4        value_merged   43"
      ]
     },
     "execution_count": 26,
     "metadata": {},
     "output_type": "execute_result"
    }
   ],
   "source": [
    "absa_term_plot = absa_subset.groupby('aspect_category')['id'].nunique().reset_index()\n",
    "absa_term_plot"
   ]
  },
  {
   "cell_type": "code",
   "execution_count": 27,
   "metadata": {},
   "outputs": [],
   "source": [
    "#clean abit!\n",
    "import re\n",
    "absa_term_plot['aspect_category'] = [re.sub('_merged', '', x) for x in absa_term_plot['aspect_category']]"
   ]
  },
  {
   "cell_type": "code",
   "execution_count": 28,
   "metadata": {},
   "outputs": [
    {
     "data": {
      "text/html": [
       "<div>\n",
       "<style scoped>\n",
       "    .dataframe tbody tr th:only-of-type {\n",
       "        vertical-align: middle;\n",
       "    }\n",
       "\n",
       "    .dataframe tbody tr th {\n",
       "        vertical-align: top;\n",
       "    }\n",
       "\n",
       "    .dataframe thead th {\n",
       "        text-align: right;\n",
       "    }\n",
       "</style>\n",
       "<table border=\"1\" class=\"dataframe\">\n",
       "  <thead>\n",
       "    <tr style=\"text-align: right;\">\n",
       "      <th></th>\n",
       "      <th>aspect_category</th>\n",
       "      <th>id</th>\n",
       "    </tr>\n",
       "  </thead>\n",
       "  <tbody>\n",
       "    <tr>\n",
       "      <th>0</th>\n",
       "      <td>accuracy</td>\n",
       "      <td>36</td>\n",
       "    </tr>\n",
       "    <tr>\n",
       "      <th>4</th>\n",
       "      <td>value</td>\n",
       "      <td>43</td>\n",
       "    </tr>\n",
       "    <tr>\n",
       "      <th>1</th>\n",
       "      <td>clean</td>\n",
       "      <td>56</td>\n",
       "    </tr>\n",
       "    <tr>\n",
       "      <th>2</th>\n",
       "      <td>communicate</td>\n",
       "      <td>100</td>\n",
       "    </tr>\n",
       "    <tr>\n",
       "      <th>3</th>\n",
       "      <td>location</td>\n",
       "      <td>167</td>\n",
       "    </tr>\n",
       "  </tbody>\n",
       "</table>\n",
       "</div>"
      ],
      "text/plain": [
       "  aspect_category   id\n",
       "0        accuracy   36\n",
       "4           value   43\n",
       "1           clean   56\n",
       "2     communicate  100\n",
       "3        location  167"
      ]
     },
     "execution_count": 28,
     "metadata": {},
     "output_type": "execute_result"
    }
   ],
   "source": [
    "absa_term_plot.sort_values(by='id')"
   ]
  },
  {
   "cell_type": "code",
   "execution_count": 29,
   "metadata": {},
   "outputs": [
    {
     "data": {
      "text/plain": [
       "Index(['S/N', 'In-charge', 'listing_id', 'id', 'date', 'reviewer_id',\n",
       "       'reviewer_name', 'comments', 'comments_stopwordsrm',\n",
       "       'comments_stopwordsrm_lemma', 'aspect_category', 'aspect_term',\n",
       "       'id2merge', 'aspect_score'],\n",
       "      dtype='object')"
      ]
     },
     "execution_count": 29,
     "metadata": {},
     "output_type": "execute_result"
    }
   ],
   "source": [
    "absa_merged.columns"
   ]
  },
  {
   "cell_type": "code",
   "execution_count": 30,
   "metadata": {},
   "outputs": [],
   "source": [
    "##Brute force convert!\n",
    "def score2polarity(row):\n",
    "    if row.aspect_score>3:\n",
    "        return 'postive'\n",
    "    elif row.aspect_score==3:\n",
    "        return 'neutral'\n",
    "    elif row.aspect_score<3:\n",
    "        return 'negative'\n",
    "    else:\n",
    "        return None\n",
    "absa_merged['polarity']= absa_merged.apply(score2polarity, axis =1)\n",
    "#subset only columns needed (ACD, ASC)\n",
    "M1_ABSA = absa_merged[['polarity', 'aspect_term', 'aspect_category', 'id2merge', 'id', 'aspect_score']]"
   ]
  },
  {
   "cell_type": "code",
   "execution_count": 31,
   "metadata": {},
   "outputs": [
    {
     "data": {
      "text/html": [
       "<div>\n",
       "<style scoped>\n",
       "    .dataframe tbody tr th:only-of-type {\n",
       "        vertical-align: middle;\n",
       "    }\n",
       "\n",
       "    .dataframe tbody tr th {\n",
       "        vertical-align: top;\n",
       "    }\n",
       "\n",
       "    .dataframe thead th {\n",
       "        text-align: right;\n",
       "    }\n",
       "</style>\n",
       "<table border=\"1\" class=\"dataframe\">\n",
       "  <thead>\n",
       "    <tr style=\"text-align: right;\">\n",
       "      <th></th>\n",
       "      <th>polarity</th>\n",
       "      <th>aspect_term</th>\n",
       "      <th>aspect_category</th>\n",
       "      <th>id2merge</th>\n",
       "      <th>id</th>\n",
       "      <th>aspect_score</th>\n",
       "    </tr>\n",
       "  </thead>\n",
       "  <tbody>\n",
       "    <tr>\n",
       "      <th>0</th>\n",
       "      <td>neutral</td>\n",
       "      <td>None</td>\n",
       "      <td>accuracy_merged</td>\n",
       "      <td>208136450_accuracy</td>\n",
       "      <td>208136450</td>\n",
       "      <td>3</td>\n",
       "    </tr>\n",
       "    <tr>\n",
       "      <th>1</th>\n",
       "      <td>postive</td>\n",
       "      <td>amenities great</td>\n",
       "      <td>accuracy_merged</td>\n",
       "      <td>574451000000000000_accuracy</td>\n",
       "      <td>574451000000000000</td>\n",
       "      <td>5</td>\n",
       "    </tr>\n",
       "    <tr>\n",
       "      <th>2</th>\n",
       "      <td>postive</td>\n",
       "      <td>bathrooms well equipped</td>\n",
       "      <td>accuracy_merged</td>\n",
       "      <td>52814653_accuracy</td>\n",
       "      <td>52814653</td>\n",
       "      <td>4</td>\n",
       "    </tr>\n",
       "    <tr>\n",
       "      <th>3</th>\n",
       "      <td>postive</td>\n",
       "      <td>pictures see</td>\n",
       "      <td>accuracy_merged</td>\n",
       "      <td>475841000000000000_accuracy</td>\n",
       "      <td>475841000000000000</td>\n",
       "      <td>5</td>\n",
       "    </tr>\n",
       "    <tr>\n",
       "      <th>4</th>\n",
       "      <td>neutral</td>\n",
       "      <td>None</td>\n",
       "      <td>accuracy_merged</td>\n",
       "      <td>192308789_accuracy</td>\n",
       "      <td>192308789</td>\n",
       "      <td>3</td>\n",
       "    </tr>\n",
       "    <tr>\n",
       "      <th>...</th>\n",
       "      <td>...</td>\n",
       "      <td>...</td>\n",
       "      <td>...</td>\n",
       "      <td>...</td>\n",
       "      <td>...</td>\n",
       "      <td>...</td>\n",
       "    </tr>\n",
       "    <tr>\n",
       "      <th>1495</th>\n",
       "      <td>neutral</td>\n",
       "      <td>None</td>\n",
       "      <td>location_merged</td>\n",
       "      <td>623526283_location</td>\n",
       "      <td>623526283</td>\n",
       "      <td>3</td>\n",
       "    </tr>\n",
       "    <tr>\n",
       "      <th>1496</th>\n",
       "      <td>postive</td>\n",
       "      <td>location good</td>\n",
       "      <td>location_merged</td>\n",
       "      <td>304396739_location</td>\n",
       "      <td>304396739</td>\n",
       "      <td>4</td>\n",
       "    </tr>\n",
       "    <tr>\n",
       "      <th>1497</th>\n",
       "      <td>postive</td>\n",
       "      <td>location central</td>\n",
       "      <td>location_merged</td>\n",
       "      <td>451844194_location</td>\n",
       "      <td>451844194</td>\n",
       "      <td>5</td>\n",
       "    </tr>\n",
       "    <tr>\n",
       "      <th>1498</th>\n",
       "      <td>postive</td>\n",
       "      <td>location convenient</td>\n",
       "      <td>location_merged</td>\n",
       "      <td>195374111_location</td>\n",
       "      <td>195374111</td>\n",
       "      <td>4</td>\n",
       "    </tr>\n",
       "    <tr>\n",
       "      <th>1499</th>\n",
       "      <td>neutral</td>\n",
       "      <td>None</td>\n",
       "      <td>location_merged</td>\n",
       "      <td>159216593_location</td>\n",
       "      <td>159216593</td>\n",
       "      <td>3</td>\n",
       "    </tr>\n",
       "  </tbody>\n",
       "</table>\n",
       "<p>1500 rows × 6 columns</p>\n",
       "</div>"
      ],
      "text/plain": [
       "     polarity              aspect_term  aspect_category  \\\n",
       "0     neutral                     None  accuracy_merged   \n",
       "1     postive          amenities great  accuracy_merged   \n",
       "2     postive  bathrooms well equipped  accuracy_merged   \n",
       "3     postive             pictures see  accuracy_merged   \n",
       "4     neutral                     None  accuracy_merged   \n",
       "...       ...                      ...              ...   \n",
       "1495  neutral                     None  location_merged   \n",
       "1496  postive            location good  location_merged   \n",
       "1497  postive         location central  location_merged   \n",
       "1498  postive      location convenient  location_merged   \n",
       "1499  neutral                     None  location_merged   \n",
       "\n",
       "                         id2merge                  id  aspect_score  \n",
       "0              208136450_accuracy           208136450             3  \n",
       "1     574451000000000000_accuracy  574451000000000000             5  \n",
       "2               52814653_accuracy            52814653             4  \n",
       "3     475841000000000000_accuracy  475841000000000000             5  \n",
       "4              192308789_accuracy           192308789             3  \n",
       "...                           ...                 ...           ...  \n",
       "1495           623526283_location           623526283             3  \n",
       "1496           304396739_location           304396739             4  \n",
       "1497           451844194_location           451844194             5  \n",
       "1498           195374111_location           195374111             4  \n",
       "1499           159216593_location           159216593             3  \n",
       "\n",
       "[1500 rows x 6 columns]"
      ]
     },
     "execution_count": 31,
     "metadata": {},
     "output_type": "execute_result"
    }
   ],
   "source": [
    "#export (not done)\n",
    "M1_ABSA #long form: 300*5 each sample against all 5 aspects (default score is 3)"
   ]
  },
  {
   "cell_type": "code",
   "execution_count": 32,
   "metadata": {},
   "outputs": [
    {
     "data": {
      "text/plain": [
       "Index(['S/N', 'In-charge', 'listing_id', 'id', 'date', 'reviewer_id',\n",
       "       'reviewer_name', 'comments', 'comments_stopwordsrm',\n",
       "       'comments_stopwordsrm_lemma', 'accuracy_entity', 'accuracy_aspect',\n",
       "       'accuracy_score', 'clean_entity', 'clean_aspect', 'clean_score',\n",
       "       'communicate_entity', 'communicate_aspect', 'communicate_score',\n",
       "       'value_entity', 'value_aspect', 'value_score', 'location_entity',\n",
       "       'location_aspect', 'location_score', 'Category', 'Sentiment',\n",
       "       'accuracy_merged', 'clean_merged', 'communicate_merged', 'value_merged',\n",
       "       'location_merged'],\n",
       "      dtype='object')"
      ]
     },
     "execution_count": 32,
     "metadata": {},
     "output_type": "execute_result"
    }
   ],
   "source": [
    "absa.columns #wideform"
   ]
  },
  {
   "cell_type": "code",
   "execution_count": null,
   "metadata": {},
   "outputs": [],
   "source": [
    "##merge the columns from absa back in to validate again? (longform)\n",
    "#merge on id"
   ]
  },
  {
   "cell_type": "code",
   "execution_count": 33,
   "metadata": {},
   "outputs": [],
   "source": [
    "M1_ABSA_merged = pd.merge(M1_ABSA, absa[['id','comments', 'comments_stopwordsrm',\n",
    "       'comments_stopwordsrm_lemma']], 'left', left_on='id', right_on='id')\n",
    "#M1_ABSA_merged.to_csv('M1_ABSA_merged.csv', index = False)"
   ]
  },
  {
   "cell_type": "code",
   "execution_count": 35,
   "metadata": {},
   "outputs": [
    {
     "data": {
      "text/html": [
       "<div>\n",
       "<style scoped>\n",
       "    .dataframe tbody tr th:only-of-type {\n",
       "        vertical-align: middle;\n",
       "    }\n",
       "\n",
       "    .dataframe tbody tr th {\n",
       "        vertical-align: top;\n",
       "    }\n",
       "\n",
       "    .dataframe thead th {\n",
       "        text-align: right;\n",
       "    }\n",
       "</style>\n",
       "<table border=\"1\" class=\"dataframe\">\n",
       "  <thead>\n",
       "    <tr style=\"text-align: right;\">\n",
       "      <th></th>\n",
       "      <th>aspect_category</th>\n",
       "      <th>aspect_term</th>\n",
       "      <th>id</th>\n",
       "    </tr>\n",
       "  </thead>\n",
       "  <tbody>\n",
       "    <tr>\n",
       "      <th>0</th>\n",
       "      <td>location_merged</td>\n",
       "      <td>location great</td>\n",
       "      <td>30</td>\n",
       "    </tr>\n",
       "    <tr>\n",
       "      <th>1</th>\n",
       "      <td>clean_merged</td>\n",
       "      <td>apartment clean</td>\n",
       "      <td>17</td>\n",
       "    </tr>\n",
       "    <tr>\n",
       "      <th>2</th>\n",
       "      <td>location_merged</td>\n",
       "      <td>location good</td>\n",
       "      <td>11</td>\n",
       "    </tr>\n",
       "    <tr>\n",
       "      <th>3</th>\n",
       "      <td>clean_merged</td>\n",
       "      <td>place clean</td>\n",
       "      <td>11</td>\n",
       "    </tr>\n",
       "    <tr>\n",
       "      <th>4</th>\n",
       "      <td>location_merged</td>\n",
       "      <td>location central</td>\n",
       "      <td>8</td>\n",
       "    </tr>\n",
       "    <tr>\n",
       "      <th>...</th>\n",
       "      <td>...</td>\n",
       "      <td>...</td>\n",
       "      <td>...</td>\n",
       "    </tr>\n",
       "    <tr>\n",
       "      <th>244</th>\n",
       "      <td>location_merged</td>\n",
       "      <td>apartment very close</td>\n",
       "      <td>1</td>\n",
       "    </tr>\n",
       "    <tr>\n",
       "      <th>245</th>\n",
       "      <td>location_merged</td>\n",
       "      <td>apartment situated</td>\n",
       "      <td>1</td>\n",
       "    </tr>\n",
       "    <tr>\n",
       "      <th>246</th>\n",
       "      <td>location_merged</td>\n",
       "      <td>apartment location</td>\n",
       "      <td>1</td>\n",
       "    </tr>\n",
       "    <tr>\n",
       "      <th>247</th>\n",
       "      <td>location_merged</td>\n",
       "      <td>apartment good located</td>\n",
       "      <td>1</td>\n",
       "    </tr>\n",
       "    <tr>\n",
       "      <th>248</th>\n",
       "      <td>accuracy_merged</td>\n",
       "      <td>agreement happened</td>\n",
       "      <td>1</td>\n",
       "    </tr>\n",
       "  </tbody>\n",
       "</table>\n",
       "<p>249 rows × 3 columns</p>\n",
       "</div>"
      ],
      "text/plain": [
       "     aspect_category             aspect_term  id\n",
       "0    location_merged          location great  30\n",
       "1       clean_merged         apartment clean  17\n",
       "2    location_merged           location good  11\n",
       "3       clean_merged             place clean  11\n",
       "4    location_merged        location central   8\n",
       "..               ...                     ...  ..\n",
       "244  location_merged    apartment very close   1\n",
       "245  location_merged      apartment situated   1\n",
       "246  location_merged      apartment location   1\n",
       "247  location_merged  apartment good located   1\n",
       "248  accuracy_merged      agreement happened   1\n",
       "\n",
       "[249 rows x 3 columns]"
      ]
     },
     "execution_count": 35,
     "metadata": {},
     "output_type": "execute_result"
    }
   ],
   "source": [
    "#how many distinct aspect-term-categories are there? Filter top ones high quality?\n",
    "M1_ABSA_summary = M1_ABSA_merged.groupby(['aspect_category', 'aspect_term'])['id'].nunique().sort_values(ascending = False).reset_index()\n",
    "M1_ABSA_summary"
   ]
  },
  {
   "cell_type": "code",
   "execution_count": 36,
   "metadata": {},
   "outputs": [
    {
     "data": {
      "text/html": [
       "<div>\n",
       "<style scoped>\n",
       "    .dataframe tbody tr th:only-of-type {\n",
       "        vertical-align: middle;\n",
       "    }\n",
       "\n",
       "    .dataframe tbody tr th {\n",
       "        vertical-align: top;\n",
       "    }\n",
       "\n",
       "    .dataframe thead th {\n",
       "        text-align: right;\n",
       "    }\n",
       "</style>\n",
       "<table border=\"1\" class=\"dataframe\">\n",
       "  <thead>\n",
       "    <tr style=\"text-align: right;\">\n",
       "      <th></th>\n",
       "      <th>aspect_category</th>\n",
       "      <th>aspect_term</th>\n",
       "      <th>id</th>\n",
       "    </tr>\n",
       "  </thead>\n",
       "  <tbody>\n",
       "    <tr>\n",
       "      <th>0</th>\n",
       "      <td>location_merged</td>\n",
       "      <td>location great</td>\n",
       "      <td>30</td>\n",
       "    </tr>\n",
       "    <tr>\n",
       "      <th>1</th>\n",
       "      <td>clean_merged</td>\n",
       "      <td>apartment clean</td>\n",
       "      <td>17</td>\n",
       "    </tr>\n",
       "    <tr>\n",
       "      <th>2</th>\n",
       "      <td>location_merged</td>\n",
       "      <td>location good</td>\n",
       "      <td>11</td>\n",
       "    </tr>\n",
       "    <tr>\n",
       "      <th>3</th>\n",
       "      <td>clean_merged</td>\n",
       "      <td>place clean</td>\n",
       "      <td>11</td>\n",
       "    </tr>\n",
       "    <tr>\n",
       "      <th>4</th>\n",
       "      <td>location_merged</td>\n",
       "      <td>location central</td>\n",
       "      <td>8</td>\n",
       "    </tr>\n",
       "    <tr>\n",
       "      <th>5</th>\n",
       "      <td>location_merged</td>\n",
       "      <td>location excellent</td>\n",
       "      <td>8</td>\n",
       "    </tr>\n",
       "    <tr>\n",
       "      <th>6</th>\n",
       "      <td>location_merged</td>\n",
       "      <td>location amazing</td>\n",
       "      <td>7</td>\n",
       "    </tr>\n",
       "    <tr>\n",
       "      <th>7</th>\n",
       "      <td>location_merged</td>\n",
       "      <td>location perfect</td>\n",
       "      <td>7</td>\n",
       "    </tr>\n",
       "    <tr>\n",
       "      <th>8</th>\n",
       "      <td>communicate_merged</td>\n",
       "      <td>host helpful</td>\n",
       "      <td>6</td>\n",
       "    </tr>\n",
       "    <tr>\n",
       "      <th>9</th>\n",
       "      <td>location_merged</td>\n",
       "      <td>metro close</td>\n",
       "      <td>5</td>\n",
       "    </tr>\n",
       "    <tr>\n",
       "      <th>10</th>\n",
       "      <td>communicate_merged</td>\n",
       "      <td>host friendly</td>\n",
       "      <td>5</td>\n",
       "    </tr>\n",
       "    <tr>\n",
       "      <th>11</th>\n",
       "      <td>communicate_merged</td>\n",
       "      <td>host great</td>\n",
       "      <td>5</td>\n",
       "    </tr>\n",
       "    <tr>\n",
       "      <th>12</th>\n",
       "      <td>location_merged</td>\n",
       "      <td>located well</td>\n",
       "      <td>5</td>\n",
       "    </tr>\n",
       "  </tbody>\n",
       "</table>\n",
       "</div>"
      ],
      "text/plain": [
       "       aspect_category         aspect_term  id\n",
       "0      location_merged      location great  30\n",
       "1         clean_merged     apartment clean  17\n",
       "2      location_merged       location good  11\n",
       "3         clean_merged         place clean  11\n",
       "4      location_merged    location central   8\n",
       "5      location_merged  location excellent   8\n",
       "6      location_merged    location amazing   7\n",
       "7      location_merged    location perfect   7\n",
       "8   communicate_merged        host helpful   6\n",
       "9      location_merged         metro close   5\n",
       "10  communicate_merged       host friendly   5\n",
       "11  communicate_merged          host great   5\n",
       "12     location_merged        located well   5"
      ]
     },
     "execution_count": 36,
     "metadata": {},
     "output_type": "execute_result"
    }
   ],
   "source": [
    "M1_ABSA_summary[M1_ABSA_summary['id']>=5]"
   ]
  },
  {
   "cell_type": "code",
   "execution_count": 37,
   "metadata": {},
   "outputs": [],
   "source": [
    "#clean up abit before exporting!\n",
    "M1_ABSA_summary['aspect_category'] = [re.sub('_merged','', x) for x in M1_ABSA_summary['aspect_category']]"
   ]
  },
  {
   "cell_type": "code",
   "execution_count": 42,
   "metadata": {},
   "outputs": [
    {
     "data": {
      "text/html": [
       "<div>\n",
       "<style scoped>\n",
       "    .dataframe tbody tr th:only-of-type {\n",
       "        vertical-align: middle;\n",
       "    }\n",
       "\n",
       "    .dataframe tbody tr th {\n",
       "        vertical-align: top;\n",
       "    }\n",
       "\n",
       "    .dataframe thead th {\n",
       "        text-align: right;\n",
       "    }\n",
       "</style>\n",
       "<table border=\"1\" class=\"dataframe\">\n",
       "  <thead>\n",
       "    <tr style=\"text-align: right;\">\n",
       "      <th></th>\n",
       "      <th>aspect_category</th>\n",
       "      <th>aspect_term</th>\n",
       "      <th>mentions</th>\n",
       "    </tr>\n",
       "  </thead>\n",
       "  <tbody>\n",
       "    <tr>\n",
       "      <th>0</th>\n",
       "      <td>location</td>\n",
       "      <td>location great</td>\n",
       "      <td>30</td>\n",
       "    </tr>\n",
       "    <tr>\n",
       "      <th>1</th>\n",
       "      <td>clean</td>\n",
       "      <td>apartment clean</td>\n",
       "      <td>17</td>\n",
       "    </tr>\n",
       "    <tr>\n",
       "      <th>2</th>\n",
       "      <td>location</td>\n",
       "      <td>location good</td>\n",
       "      <td>11</td>\n",
       "    </tr>\n",
       "    <tr>\n",
       "      <th>3</th>\n",
       "      <td>clean</td>\n",
       "      <td>place clean</td>\n",
       "      <td>11</td>\n",
       "    </tr>\n",
       "    <tr>\n",
       "      <th>4</th>\n",
       "      <td>location</td>\n",
       "      <td>location central</td>\n",
       "      <td>8</td>\n",
       "    </tr>\n",
       "    <tr>\n",
       "      <th>...</th>\n",
       "      <td>...</td>\n",
       "      <td>...</td>\n",
       "      <td>...</td>\n",
       "    </tr>\n",
       "    <tr>\n",
       "      <th>244</th>\n",
       "      <td>location</td>\n",
       "      <td>apartment very close</td>\n",
       "      <td>1</td>\n",
       "    </tr>\n",
       "    <tr>\n",
       "      <th>245</th>\n",
       "      <td>location</td>\n",
       "      <td>apartment situated</td>\n",
       "      <td>1</td>\n",
       "    </tr>\n",
       "    <tr>\n",
       "      <th>246</th>\n",
       "      <td>location</td>\n",
       "      <td>apartment location</td>\n",
       "      <td>1</td>\n",
       "    </tr>\n",
       "    <tr>\n",
       "      <th>247</th>\n",
       "      <td>location</td>\n",
       "      <td>apartment good located</td>\n",
       "      <td>1</td>\n",
       "    </tr>\n",
       "    <tr>\n",
       "      <th>248</th>\n",
       "      <td>accuracy</td>\n",
       "      <td>agreement happened</td>\n",
       "      <td>1</td>\n",
       "    </tr>\n",
       "  </tbody>\n",
       "</table>\n",
       "<p>249 rows × 3 columns</p>\n",
       "</div>"
      ],
      "text/plain": [
       "    aspect_category             aspect_term  mentions\n",
       "0          location          location great        30\n",
       "1             clean         apartment clean        17\n",
       "2          location           location good        11\n",
       "3             clean             place clean        11\n",
       "4          location        location central         8\n",
       "..              ...                     ...       ...\n",
       "244        location    apartment very close         1\n",
       "245        location      apartment situated         1\n",
       "246        location      apartment location         1\n",
       "247        location  apartment good located         1\n",
       "248        accuracy      agreement happened         1\n",
       "\n",
       "[249 rows x 3 columns]"
      ]
     },
     "execution_count": 42,
     "metadata": {},
     "output_type": "execute_result"
    }
   ],
   "source": [
    "M1_ABSA_summary.rename(columns = {'id':'mentions'}, inplace = True)\n",
    "M1_ABSA_summary"
   ]
  },
  {
   "cell_type": "markdown",
   "metadata": {},
   "source": [
    "### Filtered output from labelled data: M1_ABSA_summary (249/300)"
   ]
  },
  {
   "cell_type": "code",
   "execution_count": 43,
   "metadata": {},
   "outputs": [],
   "source": [
    "#M1_ABSA_summary.to_csv('M1_ABSA_summary.csv')"
   ]
  },
  {
   "cell_type": "markdown",
   "metadata": {},
   "source": [
    "## Recap and complete M1 noisy labelling"
   ]
  },
  {
   "cell_type": "code",
   "execution_count": 46,
   "metadata": {},
   "outputs": [
    {
     "name": "stderr",
     "output_type": "stream",
     "text": [
      "/Users/leesixian/anaconda3/lib/python3.6/site-packages/IPython/core/interactiveshell.py:3020: DtypeWarning: Columns (0,1,2) have mixed types.Specify dtype option on import or set low_memory=False.\n",
      "  interactivity=interactivity, compiler=compiler, result=result)\n"
     ]
    }
   ],
   "source": [
    "##load all reviews\n",
    "df = pd.read_csv('cleaned_reviews_prelim_v2.csv')"
   ]
  },
  {
   "cell_type": "code",
   "execution_count": 47,
   "metadata": {},
   "outputs": [
    {
     "data": {
      "text/plain": [
       "(395340, 9)"
      ]
     },
     "execution_count": 47,
     "metadata": {},
     "output_type": "execute_result"
    }
   ],
   "source": [
    "df.shape"
   ]
  },
  {
   "cell_type": "code",
   "execution_count": 176,
   "metadata": {},
   "outputs": [
    {
     "data": {
      "text/html": [
       "<div>\n",
       "<style scoped>\n",
       "    .dataframe tbody tr th:only-of-type {\n",
       "        vertical-align: middle;\n",
       "    }\n",
       "\n",
       "    .dataframe tbody tr th {\n",
       "        vertical-align: top;\n",
       "    }\n",
       "\n",
       "    .dataframe thead th {\n",
       "        text-align: right;\n",
       "    }\n",
       "</style>\n",
       "<table border=\"1\" class=\"dataframe\">\n",
       "  <thead>\n",
       "    <tr style=\"text-align: right;\">\n",
       "      <th></th>\n",
       "      <th>Unnamed: 0</th>\n",
       "      <th>listing_id</th>\n",
       "      <th>id</th>\n",
       "      <th>date</th>\n",
       "      <th>reviewer_id</th>\n",
       "      <th>reviewer_name</th>\n",
       "      <th>comments</th>\n",
       "      <th>comments_stopwordsrm</th>\n",
       "      <th>comments_stopwordsrm_lemma</th>\n",
       "    </tr>\n",
       "  </thead>\n",
       "  <tbody>\n",
       "    <tr>\n",
       "      <th>0</th>\n",
       "      <td>0</td>\n",
       "      <td>18674</td>\n",
       "      <td>4808211</td>\n",
       "      <td>2013-05-27</td>\n",
       "      <td>4841196.0</td>\n",
       "      <td>Caron</td>\n",
       "      <td>Great location. Clean, spacious flat. Would re...</td>\n",
       "      <td>great location clean spacious flat would recom...</td>\n",
       "      <td>great location clean spacious flat would recom...</td>\n",
       "    </tr>\n",
       "    <tr>\n",
       "      <th>1</th>\n",
       "      <td>2</td>\n",
       "      <td>18674</td>\n",
       "      <td>41087522</td>\n",
       "      <td>2015-08-04</td>\n",
       "      <td>35231385.0</td>\n",
       "      <td>Shlomi</td>\n",
       "      <td>Big apartment, well equipped.\\r&lt;br/&gt;Very good ...</td>\n",
       "      <td>big apartment well equipped very good service ...</td>\n",
       "      <td>big apartment well equip very good service exc...</td>\n",
       "    </tr>\n",
       "    <tr>\n",
       "      <th>2</th>\n",
       "      <td>3</td>\n",
       "      <td>18674</td>\n",
       "      <td>81000756</td>\n",
       "      <td>2016-06-20</td>\n",
       "      <td>23223644.0</td>\n",
       "      <td>Joost</td>\n",
       "      <td>The Check in was fast and flexible. The price ...</td>\n",
       "      <td>the check fast flexible the price fair flat is...</td>\n",
       "      <td>the check fast flexible the price fair flat is...</td>\n",
       "    </tr>\n",
       "    <tr>\n",
       "      <th>3</th>\n",
       "      <td>4</td>\n",
       "      <td>18674</td>\n",
       "      <td>278588962</td>\n",
       "      <td>2018-06-18</td>\n",
       "      <td>4756672.0</td>\n",
       "      <td>Marius</td>\n",
       "      <td>Great location and enough space in the apartme...</td>\n",
       "      <td>great location enough space apartment people a...</td>\n",
       "      <td>great location enough space apartment people a...</td>\n",
       "    </tr>\n",
       "    <tr>\n",
       "      <th>4</th>\n",
       "      <td>5</td>\n",
       "      <td>18674</td>\n",
       "      <td>408388148</td>\n",
       "      <td>2019-02-04</td>\n",
       "      <td>118847863.0</td>\n",
       "      <td>Sonora</td>\n",
       "      <td>Our experience here was mixed. &lt;br/&gt;The locati...</td>\n",
       "      <td>our experience mixed the location flat super c...</td>\n",
       "      <td>-PRON- experience mix the location flat super ...</td>\n",
       "    </tr>\n",
       "  </tbody>\n",
       "</table>\n",
       "</div>"
      ],
      "text/plain": [
       "  Unnamed: 0 listing_id         id        date  reviewer_id reviewer_name  \\\n",
       "0          0      18674    4808211  2013-05-27    4841196.0         Caron   \n",
       "1          2      18674   41087522  2015-08-04   35231385.0        Shlomi   \n",
       "2          3      18674   81000756  2016-06-20   23223644.0         Joost   \n",
       "3          4      18674  278588962  2018-06-18    4756672.0        Marius   \n",
       "4          5      18674  408388148  2019-02-04  118847863.0        Sonora   \n",
       "\n",
       "                                            comments  \\\n",
       "0  Great location. Clean, spacious flat. Would re...   \n",
       "1  Big apartment, well equipped.\\r<br/>Very good ...   \n",
       "2  The Check in was fast and flexible. The price ...   \n",
       "3  Great location and enough space in the apartme...   \n",
       "4  Our experience here was mixed. <br/>The locati...   \n",
       "\n",
       "                                comments_stopwordsrm  \\\n",
       "0  great location clean spacious flat would recom...   \n",
       "1  big apartment well equipped very good service ...   \n",
       "2  the check fast flexible the price fair flat is...   \n",
       "3  great location enough space apartment people a...   \n",
       "4  our experience mixed the location flat super c...   \n",
       "\n",
       "                          comments_stopwordsrm_lemma  \n",
       "0  great location clean spacious flat would recom...  \n",
       "1  big apartment well equip very good service exc...  \n",
       "2  the check fast flexible the price fair flat is...  \n",
       "3  great location enough space apartment people a...  \n",
       "4  -PRON- experience mix the location flat super ...  "
      ]
     },
     "execution_count": 176,
     "metadata": {},
     "output_type": "execute_result"
    }
   ],
   "source": [
    "df.head()"
   ]
  },
  {
   "cell_type": "code",
   "execution_count": 261,
   "metadata": {},
   "outputs": [],
   "source": [
    "distinct_reviews_per_listing = df.groupby(['listing_id'])['id'].count()"
   ]
  },
  {
   "cell_type": "code",
   "execution_count": 262,
   "metadata": {},
   "outputs": [
    {
     "data": {
      "text/plain": [
       "538"
      ]
     },
     "execution_count": 262,
     "metadata": {},
     "output_type": "execute_result"
    }
   ],
   "source": [
    "max(distinct_reviews_per_listing)"
   ]
  },
  {
   "cell_type": "code",
   "execution_count": 263,
   "metadata": {},
   "outputs": [
    {
     "data": {
      "text/plain": [
       "1"
      ]
     },
     "execution_count": 263,
     "metadata": {},
     "output_type": "execute_result"
    }
   ],
   "source": [
    "min(distinct_reviews_per_listing)"
   ]
  },
  {
   "cell_type": "code",
   "execution_count": null,
   "metadata": {},
   "outputs": [],
   "source": [
    "from nltk.corpus import wordnet as wn\n",
    "from nltk.corpus import sentiwordnet as swn\n",
    "\n",
    " \n",
    "from nltk.sentiment.vader import SentimentIntensityAnalyzer\n",
    "\n",
    "from afinn import Afinn\n",
    " \n",
    "#nlp = en_core_web_lg.load()\n",
    "af = Afinn()\n",
    "senti = SentimentIntensityAnalyzer()\n",
    "import warnings\n",
    "warnings.filterwarnings(\"ignore\")"
   ]
  },
  {
   "cell_type": "code",
   "execution_count": null,
   "metadata": {},
   "outputs": [],
   "source": [
    "from nltk.corpus import stopwords\n",
    "stopwords_list = set(stopwords.words(\"english\"))\n",
    "punctuations = \"\"\"!()-![]{};:,+'\"\\,<>./?@#$%^&*_~Â\"\"\" #List of punctuation to remove\n",
    "def reviewParse(review):\n",
    "    '''sentence level parsing'''\n",
    "    if type(review)==str:\n",
    "        review = re.sub('<br/>|<br/>|\\r', '',review)\n",
    "        splitReview = review.split() #Split the review into words\n",
    "        #print('cleaned symbols')\n",
    "        parsedReview = \" \".join([word.translate(str.maketrans('', '', punctuations)) + \" \" for word in splitReview]) #Takes the stubborn punctuation out\n",
    "    else:\n",
    "        parsedReview = review\n",
    "    return parsedReview #Returns the parsed review\n",
    "  \n",
    "def clean_review(review):\n",
    "    '''sentence level cleaning'''\n",
    "    clean_words = []\n",
    "    if type(review)==str:\n",
    "        splitReview = review.split()\n",
    "        for w in splitReview:\n",
    "            if w.isalpha() and w not in stopwords_list:\n",
    "                clean_words.append(w.lower())\n",
    "        clean_review = \" \".join(clean_words)\n",
    "    else:\n",
    "        clean_review = review\n",
    "    return clean_review"
   ]
  },
  {
   "cell_type": "code",
   "execution_count": null,
   "metadata": {},
   "outputs": [],
   "source": [
    "#Parse all the reviews for their punctuation and add it into a new column\n",
    "#cleaned_reviews['comments_sent_stopwordsrm'] = \n",
    "from nltk.tokenize import sent_tokenize, word_tokenize\n",
    "from tqdm import tqdm\n",
    "review_sent_parsed = []\n",
    "review_sent_cleaned = []\n",
    "for review in tqdm(df['comments']):\n",
    "    sent_in_review = sent_tokenize(str(review)) #list of sentence\n",
    "    sentlist = []\n",
    "    sentlist2= []\n",
    "    for sent in sent_in_review: #list of words in sentence\n",
    "        out = reviewParse(sent)\n",
    "        out2 = clean_review(out)\n",
    "        sentlist.append(out) \n",
    "        sentlist2.append(out2)\n",
    "    review_sent_parsed.append(sentlist)\n",
    "    review_sent_cleaned.append(sentlist2)\n",
    "df['sent_split_parsed'] = review_sent_parsed\n",
    "df['sent_split_cleaned'] = review_sent_cleaned"
   ]
  },
  {
   "cell_type": "markdown",
   "metadata": {},
   "source": [
    "## Perform POS-tagging to identify noun/adj -> map aspect\n",
    "Go thru corpus, split sentence up, assign each sentence to one of the labels based on match with top N keywords "
   ]
  },
  {
   "cell_type": "code",
   "execution_count": null,
   "metadata": {},
   "outputs": [],
   "source": [
    "import nltk\n",
    "from nltk.stem import WordNetLemmatizer"
   ]
  },
  {
   "cell_type": "code",
   "execution_count": null,
   "metadata": {},
   "outputs": [],
   "source": [
    "sentence='The host is very friendly'\n",
    "\n",
    "token = nltk.word_tokenize(sentence)\n",
    "after_tagging = nltk.pos_tag(token)\n",
    "print(token)\n",
    "print(after_tagging)"
   ]
  },
  {
   "cell_type": "code",
   "execution_count": null,
   "metadata": {},
   "outputs": [],
   "source": [
    "def penn_to_wn(tag):\n",
    "    \"\"\"\n",
    "    Convert between the PennTreebank tags to simple Wordnet tags\n",
    "    \"\"\"\n",
    "    if tag.startswith('J'):\n",
    "        return wn.ADJ\n",
    "    elif tag.startswith('N'):\n",
    "        return wn.NOUN\n",
    "    elif tag.startswith('R'):\n",
    "        return wn.ADV\n",
    "    elif tag.startswith('V'):\n",
    "        return wn.VERB\n",
    "    return None"
   ]
  },
  {
   "cell_type": "code",
   "execution_count": null,
   "metadata": {},
   "outputs": [],
   "source": [
    "sentiment = 0.0\n",
    "tokens_count = 0\n",
    "\n",
    "lemmatizer = WordNetLemmatizer()\n",
    "for word, tag in after_tagging:\n",
    "    wn_tag = penn_to_wn(tag)\n",
    "    if wn_tag not in (wn.NOUN, wn.ADJ, wn.ADV):\n",
    "        continue\n",
    "\n",
    "    lemma = lemmatizer.lemmatize(word, pos=wn_tag)\n",
    "    if not lemma:\n",
    "        continue\n",
    "\n",
    "    synsets = wn.synsets(lemma, pos=wn_tag)\n",
    "    if not synsets:\n",
    "        continue\n",
    "\n",
    "    # Take the first sense, the most common\n",
    "    synset = synsets[0]\n",
    "    swn_synset = swn.senti_synset(synset.name())\n",
    "    print(swn_synset)\n",
    "\n",
    "    sentiment += swn_synset.pos_score() - swn_synset.neg_score()\n",
    "    tokens_count += 1\n",
    "print (sentiment)"
   ]
  },
  {
   "cell_type": "code",
   "execution_count": null,
   "metadata": {},
   "outputs": [],
   "source": [
    "def sentence2sentiment(sent):\n",
    "    '''given text sentence, output POS tag, sentiment '''\n",
    "    token = nltk.word_tokenize(sent)\n",
    "    after_tagging = nltk.pos_tag(token) #tokenise words -> POS tag\n",
    "    sentiment = 0.0\n",
    "    noun = ''\n",
    "    adj = ''\n",
    "    lemmatizer = WordNetLemmatizer()\n",
    "    #iterate through EACH word in sent\n",
    "    #assume that there is ONLY one adj adn\n",
    "    for word, tag in after_tagging:\n",
    "        #key = pair of (N, A) or (A,N)\n",
    "        #create a tuple pair of nearest (n,a) or (a,n)\n",
    "        wn_tag = penn_to_wn(tag)\n",
    "        if wn_tag not in (wn.NOUN, wn.ADJ, wn.ADV):\n",
    "            continue\n",
    "            \n",
    "        if noun!='' and adj!='':\n",
    "            #find the sentiment related to the noun-adj pair\n",
    "            #print(f'noun: {noun}; adj: {adj}')\n",
    "            break\n",
    "        \n",
    "        elif wn_tag == 'n' and noun=='':\n",
    "            noun += word\n",
    "            #print(noun , \"found\")\n",
    "        elif wn_tag == 'a' and adj=='':\n",
    "            adj += word\n",
    "            #print(adj , \"found\")\n",
    "           \n",
    "        lemma = lemmatizer.lemmatize(word, pos=wn_tag)\n",
    "        if not lemma:\n",
    "            continue\n",
    "\n",
    "        synsets = wn.synsets(lemma, pos=wn_tag)\n",
    "        if not synsets:\n",
    "            continue\n",
    "\n",
    "        # Take the first sense, the most common\n",
    "        synset = synsets[0]\n",
    "        swn_synset = swn.senti_synset(synset.name())\n",
    "        #print(swn_synset) #this is to check/ validate sentiment score\n",
    "\n",
    "        sentiment += swn_synset.pos_score() - swn_synset.neg_score()\n",
    "        \n",
    "    if noun!='' and adj!='':\n",
    "        return (noun, adj, sentiment)\n",
    "    else: \n",
    "        return ('', '', '')"
   ]
  },
  {
   "cell_type": "code",
   "execution_count": null,
   "metadata": {},
   "outputs": [],
   "source": [
    "test  = df['sent_split_cleaned'][9][0] #first sentence of review 9\n",
    "test"
   ]
  },
  {
   "cell_type": "code",
   "execution_count": null,
   "metadata": {},
   "outputs": [],
   "source": [
    "sentence2sentiment(test)"
   ]
  },
  {
   "cell_type": "code",
   "execution_count": null,
   "metadata": {},
   "outputs": [],
   "source": [
    "df.columns"
   ]
  },
  {
   "cell_type": "code",
   "execution_count": null,
   "metadata": {},
   "outputs": [],
   "source": [
    "parsed_reviews"
   ]
  },
  {
   "cell_type": "code",
   "execution_count": null,
   "metadata": {},
   "outputs": [],
   "source": [
    "#for each review\n",
    "    #for each sentence\n",
    "        #do POS tagging\n",
    "        #do sentiment tagging\n",
    "review_to_POS = []\n",
    "#create a list of review_id | sentence_id | noun |adj |sentiment\n",
    "parsed_reviews = df['sent_split_parsed']#[:100]\n",
    "for review_id, review in tqdm(enumerate(parsed_reviews)):\n",
    "    for sentence_id, sent in enumerate(review):\n",
    "        noun, adj, senti = sentence2sentiment(sent)\n",
    "        noun = noun.lower()\n",
    "        adj = adj.lower()\n",
    "        review_to_POS.append([review_id, sentence_id, noun, adj, senti])"
   ]
  },
  {
   "cell_type": "code",
   "execution_count": null,
   "metadata": {},
   "outputs": [],
   "source": [
    "review_to_POS = pd.DataFrame(review_to_POS, \n",
    "                             columns = ['review_id', 'sentence_id', 'noun','adj', 'sentiment'])"
   ]
  },
  {
   "cell_type": "code",
   "execution_count": null,
   "metadata": {},
   "outputs": [],
   "source": [
    "df['id'] #this is the sentence id to match!"
   ]
  },
  {
   "cell_type": "code",
   "execution_count": null,
   "metadata": {},
   "outputs": [],
   "source": [
    "sent_id_map = {}\n",
    "for idx, x in enumerate(df['id']):\n",
    "    sent_id_map[idx] = x"
   ]
  },
  {
   "cell_type": "code",
   "execution_count": null,
   "metadata": {},
   "outputs": [],
   "source": [
    "review_to_POS['id'] = [sent_id_map[x] for x in review_to_POS['review_id']]"
   ]
  },
  {
   "cell_type": "code",
   "execution_count": null,
   "metadata": {},
   "outputs": [],
   "source": [
    "review_to_POS.head()"
   ]
  },
  {
   "cell_type": "code",
   "execution_count": null,
   "metadata": {},
   "outputs": [],
   "source": [
    "#export! takes super long to run so pls dont redo!\n",
    "import csv\n",
    "#review_to_POS.to_csv('review_to_POS.csv' ,sep=\",\",quotechar='\"',index=False,\n",
    "            #quoting=csv.QUOTE_ALL)"
   ]
  },
  {
   "cell_type": "code",
   "execution_count": 44,
   "metadata": {},
   "outputs": [
    {
     "name": "stderr",
     "output_type": "stream",
     "text": [
      "/Users/leesixian/anaconda3/lib/python3.6/site-packages/IPython/core/interactiveshell.py:3020: DtypeWarning: Columns (5) have mixed types.Specify dtype option on import or set low_memory=False.\n",
      "  interactivity=interactivity, compiler=compiler, result=result)\n"
     ]
    }
   ],
   "source": [
    "review_to_POS = pd.read_csv('review_to_POS.csv')"
   ]
  },
  {
   "cell_type": "code",
   "execution_count": 45,
   "metadata": {},
   "outputs": [
    {
     "data": {
      "text/html": [
       "<div>\n",
       "<style scoped>\n",
       "    .dataframe tbody tr th:only-of-type {\n",
       "        vertical-align: middle;\n",
       "    }\n",
       "\n",
       "    .dataframe tbody tr th {\n",
       "        vertical-align: top;\n",
       "    }\n",
       "\n",
       "    .dataframe thead th {\n",
       "        text-align: right;\n",
       "    }\n",
       "</style>\n",
       "<table border=\"1\" class=\"dataframe\">\n",
       "  <thead>\n",
       "    <tr style=\"text-align: right;\">\n",
       "      <th></th>\n",
       "      <th>review_id</th>\n",
       "      <th>sentence_id</th>\n",
       "      <th>noun</th>\n",
       "      <th>adj</th>\n",
       "      <th>sentiment</th>\n",
       "      <th>id</th>\n",
       "    </tr>\n",
       "  </thead>\n",
       "  <tbody>\n",
       "    <tr>\n",
       "      <th>0</th>\n",
       "      <td>0</td>\n",
       "      <td>0</td>\n",
       "      <td>NaN</td>\n",
       "      <td>NaN</td>\n",
       "      <td>NaN</td>\n",
       "      <td>4808211</td>\n",
       "    </tr>\n",
       "    <tr>\n",
       "      <th>1</th>\n",
       "      <td>0</td>\n",
       "      <td>1</td>\n",
       "      <td>clean</td>\n",
       "      <td>spacious</td>\n",
       "      <td>0.000</td>\n",
       "      <td>4808211</td>\n",
       "    </tr>\n",
       "    <tr>\n",
       "      <th>2</th>\n",
       "      <td>0</td>\n",
       "      <td>2</td>\n",
       "      <td>NaN</td>\n",
       "      <td>NaN</td>\n",
       "      <td>NaN</td>\n",
       "      <td>4808211</td>\n",
       "    </tr>\n",
       "    <tr>\n",
       "      <th>3</th>\n",
       "      <td>1</td>\n",
       "      <td>0</td>\n",
       "      <td>apartment</td>\n",
       "      <td>big</td>\n",
       "      <td>0.125</td>\n",
       "      <td>41087522</td>\n",
       "    </tr>\n",
       "    <tr>\n",
       "      <th>4</th>\n",
       "      <td>1</td>\n",
       "      <td>1</td>\n",
       "      <td>service</td>\n",
       "      <td>good</td>\n",
       "      <td>0.750</td>\n",
       "      <td>41087522</td>\n",
       "    </tr>\n",
       "  </tbody>\n",
       "</table>\n",
       "</div>"
      ],
      "text/plain": [
       "   review_id  sentence_id       noun       adj  sentiment        id\n",
       "0          0            0        NaN       NaN        NaN   4808211\n",
       "1          0            1      clean  spacious      0.000   4808211\n",
       "2          0            2        NaN       NaN        NaN   4808211\n",
       "3          1            0  apartment       big      0.125  41087522\n",
       "4          1            1    service      good      0.750  41087522"
      ]
     },
     "execution_count": 45,
     "metadata": {},
     "output_type": "execute_result"
    }
   ],
   "source": [
    "review_to_POS.head()"
   ]
  },
  {
   "cell_type": "code",
   "execution_count": 50,
   "metadata": {},
   "outputs": [
    {
     "data": {
      "text/plain": [
       "1    big apartment well equipped very good service ...\n",
       "Name: comments_stopwordsrm, dtype: object"
      ]
     },
     "execution_count": 50,
     "metadata": {},
     "output_type": "execute_result"
    }
   ],
   "source": [
    "df[df['id']=='41087522']['comments_stopwordsrm']"
   ]
  },
  {
   "cell_type": "markdown",
   "metadata": {},
   "source": [
    "## For the given noun-adj identified, try to find match with top N to map the aspect"
   ]
  },
  {
   "cell_type": "code",
   "execution_count": 2,
   "metadata": {},
   "outputs": [
    {
     "name": "stderr",
     "output_type": "stream",
     "text": [
      "/Users/leesixian/anaconda3/lib/python3.6/site-packages/IPython/core/interactiveshell.py:3020: DtypeWarning: Columns (5) have mixed types.Specify dtype option on import or set low_memory=False.\n",
      "  interactivity=interactivity, compiler=compiler, result=result)\n"
     ]
    }
   ],
   "source": [
    "#continue\n",
    "import pandas as pd\n",
    "review_to_POS = pd.read_csv('review_to_POS.csv')"
   ]
  },
  {
   "cell_type": "code",
   "execution_count": 3,
   "metadata": {},
   "outputs": [],
   "source": [
    "##try to match the detected noun or adj to the aspect keywords to detect category\n",
    "#df_aspect = pd.read_csv('aspect_df_v2.csv') #long form\n",
    "df_aspect_wide_w2v = pd.read_csv('aspect_df_w2v_wide.csv') #wide form\n",
    "df_aspect_wide_glove = pd.read_csv('aspect_df_glove_wide.csv') #wide form\n",
    "df_aspect_wide_merge = pd.concat([df_aspect_wide_w2v, df_aspect_wide_glove])"
   ]
  },
  {
   "cell_type": "code",
   "execution_count": 4,
   "metadata": {},
   "outputs": [
    {
     "data": {
      "text/html": [
       "<div>\n",
       "<style scoped>\n",
       "    .dataframe tbody tr th:only-of-type {\n",
       "        vertical-align: middle;\n",
       "    }\n",
       "\n",
       "    .dataframe tbody tr th {\n",
       "        vertical-align: top;\n",
       "    }\n",
       "\n",
       "    .dataframe thead th {\n",
       "        text-align: right;\n",
       "    }\n",
       "</style>\n",
       "<table border=\"1\" class=\"dataframe\">\n",
       "  <thead>\n",
       "    <tr style=\"text-align: right;\">\n",
       "      <th></th>\n",
       "      <th>accuracy</th>\n",
       "      <th>clean</th>\n",
       "      <th>communicate</th>\n",
       "      <th>value</th>\n",
       "      <th>location</th>\n",
       "      <th>checkin</th>\n",
       "    </tr>\n",
       "  </thead>\n",
       "  <tbody>\n",
       "    <tr>\n",
       "      <th>0</th>\n",
       "      <td>advertising</td>\n",
       "      <td>spotless</td>\n",
       "      <td>contact</td>\n",
       "      <td>valua</td>\n",
       "      <td>position</td>\n",
       "      <td>check</td>\n",
       "    </tr>\n",
       "    <tr>\n",
       "      <th>1</th>\n",
       "      <td>status</td>\n",
       "      <td>comfertabel</td>\n",
       "      <td>communicating</td>\n",
       "      <td>valye</td>\n",
       "      <td>localization</td>\n",
       "      <td>checkincheckout</td>\n",
       "    </tr>\n",
       "    <tr>\n",
       "      <th>2</th>\n",
       "      <td>judging</td>\n",
       "      <td>whirpool</td>\n",
       "      <td>comunicate</td>\n",
       "      <td>valu</td>\n",
       "      <td>locations</td>\n",
       "      <td>checking</td>\n",
       "    </tr>\n",
       "    <tr>\n",
       "      <th>3</th>\n",
       "      <td>inaccurate</td>\n",
       "      <td>accessories</td>\n",
       "      <td>communication</td>\n",
       "      <td>save</td>\n",
       "      <td>neighborhood</td>\n",
       "      <td>checkinout</td>\n",
       "    </tr>\n",
       "    <tr>\n",
       "      <th>4</th>\n",
       "      <td>reflected</td>\n",
       "      <td>neat</td>\n",
       "      <td>acces</td>\n",
       "      <td>extort</td>\n",
       "      <td>locale</td>\n",
       "      <td>arrival</td>\n",
       "    </tr>\n",
       "  </tbody>\n",
       "</table>\n",
       "</div>"
      ],
      "text/plain": [
       "      accuracy        clean    communicate   value      location  \\\n",
       "0  advertising     spotless        contact   valua      position   \n",
       "1       status  comfertabel  communicating   valye  localization   \n",
       "2      judging     whirpool     comunicate    valu     locations   \n",
       "3   inaccurate  accessories  communication    save  neighborhood   \n",
       "4    reflected         neat          acces  extort        locale   \n",
       "\n",
       "           checkin  \n",
       "0            check  \n",
       "1  checkincheckout  \n",
       "2         checking  \n",
       "3       checkinout  \n",
       "4          arrival  "
      ]
     },
     "execution_count": 4,
     "metadata": {},
     "output_type": "execute_result"
    }
   ],
   "source": [
    "df_aspect_wide_w2v.head(n=5)"
   ]
  },
  {
   "cell_type": "code",
   "execution_count": 5,
   "metadata": {},
   "outputs": [
    {
     "data": {
      "text/html": [
       "<div>\n",
       "<style scoped>\n",
       "    .dataframe tbody tr th:only-of-type {\n",
       "        vertical-align: middle;\n",
       "    }\n",
       "\n",
       "    .dataframe tbody tr th {\n",
       "        vertical-align: top;\n",
       "    }\n",
       "\n",
       "    .dataframe thead th {\n",
       "        text-align: right;\n",
       "    }\n",
       "</style>\n",
       "<table border=\"1\" class=\"dataframe\">\n",
       "  <thead>\n",
       "    <tr style=\"text-align: right;\">\n",
       "      <th></th>\n",
       "      <th>accuracy</th>\n",
       "      <th>clean</th>\n",
       "      <th>communicate</th>\n",
       "      <th>value</th>\n",
       "      <th>location</th>\n",
       "      <th>checkin</th>\n",
       "    </tr>\n",
       "  </thead>\n",
       "  <tbody>\n",
       "    <tr>\n",
       "      <th>0</th>\n",
       "      <td>accuracy</td>\n",
       "      <td>clean</td>\n",
       "      <td>communicate</td>\n",
       "      <td>value</td>\n",
       "      <td>location</td>\n",
       "      <td>checkin</td>\n",
       "    </tr>\n",
       "    <tr>\n",
       "      <th>1</th>\n",
       "      <td>reliability</td>\n",
       "      <td>enough</td>\n",
       "      <td>communicating</td>\n",
       "      <td>price</td>\n",
       "      <td>locations</td>\n",
       "      <td>coolin</td>\n",
       "    </tr>\n",
       "    <tr>\n",
       "      <th>2</th>\n",
       "      <td>measurement</td>\n",
       "      <td>cleaning</td>\n",
       "      <td>communicated</td>\n",
       "      <td>values</td>\n",
       "      <td>vicinity</td>\n",
       "      <td>stickin</td>\n",
       "    </tr>\n",
       "    <tr>\n",
       "      <th>3</th>\n",
       "      <td>accurate</td>\n",
       "      <td>ensure</td>\n",
       "      <td>interact</td>\n",
       "      <td>valued</td>\n",
       "      <td>adjacent</td>\n",
       "      <td>missin</td>\n",
       "    </tr>\n",
       "    <tr>\n",
       "      <th>4</th>\n",
       "      <td>effectiveness</td>\n",
       "      <td>put</td>\n",
       "      <td>convey</td>\n",
       "      <td>interest</td>\n",
       "      <td>site</td>\n",
       "      <td>hatin</td>\n",
       "    </tr>\n",
       "  </tbody>\n",
       "</table>\n",
       "</div>"
      ],
      "text/plain": [
       "        accuracy     clean    communicate     value   location  checkin\n",
       "0       accuracy     clean    communicate     value   location  checkin\n",
       "1    reliability    enough  communicating     price  locations   coolin\n",
       "2    measurement  cleaning   communicated    values   vicinity  stickin\n",
       "3       accurate    ensure       interact    valued   adjacent   missin\n",
       "4  effectiveness       put         convey  interest       site    hatin"
      ]
     },
     "execution_count": 5,
     "metadata": {},
     "output_type": "execute_result"
    }
   ],
   "source": [
    "df_aspect_wide_glove.head()"
   ]
  },
  {
   "cell_type": "code",
   "execution_count": 6,
   "metadata": {},
   "outputs": [
    {
     "data": {
      "text/html": [
       "<div>\n",
       "<style scoped>\n",
       "    .dataframe tbody tr th:only-of-type {\n",
       "        vertical-align: middle;\n",
       "    }\n",
       "\n",
       "    .dataframe tbody tr th {\n",
       "        vertical-align: top;\n",
       "    }\n",
       "\n",
       "    .dataframe thead th {\n",
       "        text-align: right;\n",
       "    }\n",
       "</style>\n",
       "<table border=\"1\" class=\"dataframe\">\n",
       "  <thead>\n",
       "    <tr style=\"text-align: right;\">\n",
       "      <th></th>\n",
       "      <th>accuracy</th>\n",
       "      <th>clean</th>\n",
       "      <th>communicate</th>\n",
       "      <th>value</th>\n",
       "      <th>location</th>\n",
       "      <th>checkin</th>\n",
       "    </tr>\n",
       "  </thead>\n",
       "  <tbody>\n",
       "    <tr>\n",
       "      <th>0</th>\n",
       "      <td>advertising</td>\n",
       "      <td>spotless</td>\n",
       "      <td>contact</td>\n",
       "      <td>valua</td>\n",
       "      <td>position</td>\n",
       "      <td>check</td>\n",
       "    </tr>\n",
       "    <tr>\n",
       "      <th>1</th>\n",
       "      <td>status</td>\n",
       "      <td>comfertabel</td>\n",
       "      <td>communicating</td>\n",
       "      <td>valye</td>\n",
       "      <td>localization</td>\n",
       "      <td>checkincheckout</td>\n",
       "    </tr>\n",
       "    <tr>\n",
       "      <th>2</th>\n",
       "      <td>judging</td>\n",
       "      <td>whirpool</td>\n",
       "      <td>comunicate</td>\n",
       "      <td>valu</td>\n",
       "      <td>locations</td>\n",
       "      <td>checking</td>\n",
       "    </tr>\n",
       "    <tr>\n",
       "      <th>3</th>\n",
       "      <td>inaccurate</td>\n",
       "      <td>accessories</td>\n",
       "      <td>communication</td>\n",
       "      <td>save</td>\n",
       "      <td>neighborhood</td>\n",
       "      <td>checkinout</td>\n",
       "    </tr>\n",
       "    <tr>\n",
       "      <th>4</th>\n",
       "      <td>reflected</td>\n",
       "      <td>neat</td>\n",
       "      <td>acces</td>\n",
       "      <td>extort</td>\n",
       "      <td>locale</td>\n",
       "      <td>arrival</td>\n",
       "    </tr>\n",
       "  </tbody>\n",
       "</table>\n",
       "</div>"
      ],
      "text/plain": [
       "      accuracy        clean    communicate   value      location  \\\n",
       "0  advertising     spotless        contact   valua      position   \n",
       "1       status  comfertabel  communicating   valye  localization   \n",
       "2      judging     whirpool     comunicate    valu     locations   \n",
       "3   inaccurate  accessories  communication    save  neighborhood   \n",
       "4    reflected         neat          acces  extort        locale   \n",
       "\n",
       "           checkin  \n",
       "0            check  \n",
       "1  checkincheckout  \n",
       "2         checking  \n",
       "3       checkinout  \n",
       "4          arrival  "
      ]
     },
     "execution_count": 6,
     "metadata": {},
     "output_type": "execute_result"
    }
   ],
   "source": [
    "df_aspect_wide_merge.head()"
   ]
  },
  {
   "cell_type": "code",
   "execution_count": 7,
   "metadata": {},
   "outputs": [
    {
     "data": {
      "text/plain": [
       "(200, 6)"
      ]
     },
     "execution_count": 7,
     "metadata": {},
     "output_type": "execute_result"
    }
   ],
   "source": [
    "df_aspect_wide_merge.shape"
   ]
  },
  {
   "cell_type": "code",
   "execution_count": 52,
   "metadata": {},
   "outputs": [],
   "source": [
    "aspect_seedwords = df_aspect_wide_w2v.columns.tolist()"
   ]
  },
  {
   "cell_type": "code",
   "execution_count": 45,
   "metadata": {},
   "outputs": [
    {
     "data": {
      "text/plain": [
       "['accuracy', 'clean', 'communicate', 'value', 'location', 'checkin']"
      ]
     },
     "execution_count": 45,
     "metadata": {},
     "output_type": "execute_result"
    }
   ],
   "source": [
    "aspect_seedwords"
   ]
  },
  {
   "cell_type": "code",
   "execution_count": 50,
   "metadata": {},
   "outputs": [],
   "source": [
    "df_aspect_wide_w2v.loc[len(df_aspect_wide_w2v)] = aspect_seedwords"
   ]
  },
  {
   "cell_type": "code",
   "execution_count": 51,
   "metadata": {},
   "outputs": [
    {
     "data": {
      "text/html": [
       "<div>\n",
       "<style scoped>\n",
       "    .dataframe tbody tr th:only-of-type {\n",
       "        vertical-align: middle;\n",
       "    }\n",
       "\n",
       "    .dataframe tbody tr th {\n",
       "        vertical-align: top;\n",
       "    }\n",
       "\n",
       "    .dataframe thead th {\n",
       "        text-align: right;\n",
       "    }\n",
       "</style>\n",
       "<table border=\"1\" class=\"dataframe\">\n",
       "  <thead>\n",
       "    <tr style=\"text-align: right;\">\n",
       "      <th></th>\n",
       "      <th>accuracy</th>\n",
       "      <th>clean</th>\n",
       "      <th>communicate</th>\n",
       "      <th>value</th>\n",
       "      <th>location</th>\n",
       "      <th>checkin</th>\n",
       "    </tr>\n",
       "  </thead>\n",
       "  <tbody>\n",
       "    <tr>\n",
       "      <th>0</th>\n",
       "      <td>advertising</td>\n",
       "      <td>spotless</td>\n",
       "      <td>contact</td>\n",
       "      <td>valua</td>\n",
       "      <td>position</td>\n",
       "      <td>check</td>\n",
       "    </tr>\n",
       "    <tr>\n",
       "      <th>1</th>\n",
       "      <td>status</td>\n",
       "      <td>comfertabel</td>\n",
       "      <td>communicating</td>\n",
       "      <td>valye</td>\n",
       "      <td>localization</td>\n",
       "      <td>checkincheckout</td>\n",
       "    </tr>\n",
       "    <tr>\n",
       "      <th>2</th>\n",
       "      <td>judging</td>\n",
       "      <td>whirpool</td>\n",
       "      <td>comunicate</td>\n",
       "      <td>valu</td>\n",
       "      <td>locations</td>\n",
       "      <td>checking</td>\n",
       "    </tr>\n",
       "    <tr>\n",
       "      <th>3</th>\n",
       "      <td>inaccurate</td>\n",
       "      <td>accessories</td>\n",
       "      <td>communication</td>\n",
       "      <td>save</td>\n",
       "      <td>neighborhood</td>\n",
       "      <td>checkinout</td>\n",
       "    </tr>\n",
       "    <tr>\n",
       "      <th>4</th>\n",
       "      <td>reflected</td>\n",
       "      <td>neat</td>\n",
       "      <td>acces</td>\n",
       "      <td>extort</td>\n",
       "      <td>locale</td>\n",
       "      <td>arrival</td>\n",
       "    </tr>\n",
       "    <tr>\n",
       "      <th>...</th>\n",
       "      <td>...</td>\n",
       "      <td>...</td>\n",
       "      <td>...</td>\n",
       "      <td>...</td>\n",
       "      <td>...</td>\n",
       "      <td>...</td>\n",
       "    </tr>\n",
       "    <tr>\n",
       "      <th>96</th>\n",
       "      <td>displayed</td>\n",
       "      <td>unspecific</td>\n",
       "      <td>solve</td>\n",
       "      <td>negativity</td>\n",
       "      <td>davantage</td>\n",
       "      <td>checkouts</td>\n",
       "    </tr>\n",
       "    <tr>\n",
       "      <th>97</th>\n",
       "      <td>utter</td>\n",
       "      <td>bedroomsa</td>\n",
       "      <td>readingmediation</td>\n",
       "      <td>uberversion</td>\n",
       "      <td>seesuper</td>\n",
       "      <td>outbreaks</td>\n",
       "    </tr>\n",
       "    <tr>\n",
       "      <th>98</th>\n",
       "      <td>represent</td>\n",
       "      <td>dede</td>\n",
       "      <td>imprinted</td>\n",
       "      <td>pricy</td>\n",
       "      <td>sleepshower</td>\n",
       "      <td>bedswith</td>\n",
       "    </tr>\n",
       "    <tr>\n",
       "      <th>99</th>\n",
       "      <td>tendency</td>\n",
       "      <td>cleanunfortunately</td>\n",
       "      <td>slightlylate</td>\n",
       "      <td>experinece</td>\n",
       "      <td>part</td>\n",
       "      <td>howwhere</td>\n",
       "    </tr>\n",
       "    <tr>\n",
       "      <th>100</th>\n",
       "      <td>accuracy</td>\n",
       "      <td>clean</td>\n",
       "      <td>communicate</td>\n",
       "      <td>value</td>\n",
       "      <td>location</td>\n",
       "      <td>checkin</td>\n",
       "    </tr>\n",
       "  </tbody>\n",
       "</table>\n",
       "<p>101 rows × 6 columns</p>\n",
       "</div>"
      ],
      "text/plain": [
       "        accuracy               clean       communicate        value  \\\n",
       "0    advertising            spotless           contact        valua   \n",
       "1         status         comfertabel     communicating        valye   \n",
       "2        judging            whirpool        comunicate         valu   \n",
       "3     inaccurate         accessories     communication         save   \n",
       "4      reflected                neat             acces       extort   \n",
       "..           ...                 ...               ...          ...   \n",
       "96     displayed          unspecific             solve   negativity   \n",
       "97         utter           bedroomsa  readingmediation  uberversion   \n",
       "98     represent                dede         imprinted        pricy   \n",
       "99      tendency  cleanunfortunately      slightlylate   experinece   \n",
       "100     accuracy               clean       communicate        value   \n",
       "\n",
       "         location          checkin  \n",
       "0        position            check  \n",
       "1    localization  checkincheckout  \n",
       "2       locations         checking  \n",
       "3    neighborhood       checkinout  \n",
       "4          locale          arrival  \n",
       "..            ...              ...  \n",
       "96      davantage        checkouts  \n",
       "97       seesuper        outbreaks  \n",
       "98    sleepshower         bedswith  \n",
       "99           part         howwhere  \n",
       "100      location          checkin  \n",
       "\n",
       "[101 rows x 6 columns]"
      ]
     },
     "execution_count": 51,
     "metadata": {},
     "output_type": "execute_result"
    }
   ],
   "source": [
    "df_aspect_wide_w2v #extended!"
   ]
  },
  {
   "cell_type": "code",
   "execution_count": 9,
   "metadata": {},
   "outputs": [
    {
     "data": {
      "text/plain": [
       "'clean'"
      ]
     },
     "execution_count": 9,
     "metadata": {},
     "output_type": "execute_result"
    }
   ],
   "source": [
    "review_to_POS.iloc[1].noun"
   ]
  },
  {
   "cell_type": "code",
   "execution_count": 10,
   "metadata": {},
   "outputs": [
    {
     "data": {
      "text/plain": [
       "'spacious'"
      ]
     },
     "execution_count": 10,
     "metadata": {},
     "output_type": "execute_result"
    }
   ],
   "source": [
    "review_to_POS.iloc[1].adj"
   ]
  },
  {
   "cell_type": "code",
   "execution_count": 89,
   "metadata": {},
   "outputs": [],
   "source": [
    "test = review_to_POS[:10]"
   ]
  },
  {
   "cell_type": "code",
   "execution_count": 90,
   "metadata": {},
   "outputs": [
    {
     "data": {
      "text/html": [
       "<div>\n",
       "<style scoped>\n",
       "    .dataframe tbody tr th:only-of-type {\n",
       "        vertical-align: middle;\n",
       "    }\n",
       "\n",
       "    .dataframe tbody tr th {\n",
       "        vertical-align: top;\n",
       "    }\n",
       "\n",
       "    .dataframe thead th {\n",
       "        text-align: right;\n",
       "    }\n",
       "</style>\n",
       "<table border=\"1\" class=\"dataframe\">\n",
       "  <thead>\n",
       "    <tr style=\"text-align: right;\">\n",
       "      <th></th>\n",
       "      <th>review_id</th>\n",
       "      <th>sentence_id</th>\n",
       "      <th>noun</th>\n",
       "      <th>adj</th>\n",
       "      <th>sentiment</th>\n",
       "      <th>id</th>\n",
       "      <th>ACD_w2v</th>\n",
       "    </tr>\n",
       "  </thead>\n",
       "  <tbody>\n",
       "    <tr>\n",
       "      <th>0</th>\n",
       "      <td>0</td>\n",
       "      <td>0</td>\n",
       "      <td>NaN</td>\n",
       "      <td>NaN</td>\n",
       "      <td>NaN</td>\n",
       "      <td>4808211</td>\n",
       "      <td>None</td>\n",
       "    </tr>\n",
       "    <tr>\n",
       "      <th>1</th>\n",
       "      <td>0</td>\n",
       "      <td>1</td>\n",
       "      <td>clean</td>\n",
       "      <td>spacious</td>\n",
       "      <td>0.000</td>\n",
       "      <td>4808211</td>\n",
       "      <td>None</td>\n",
       "    </tr>\n",
       "    <tr>\n",
       "      <th>2</th>\n",
       "      <td>0</td>\n",
       "      <td>2</td>\n",
       "      <td>NaN</td>\n",
       "      <td>NaN</td>\n",
       "      <td>NaN</td>\n",
       "      <td>4808211</td>\n",
       "      <td>None</td>\n",
       "    </tr>\n",
       "    <tr>\n",
       "      <th>3</th>\n",
       "      <td>1</td>\n",
       "      <td>0</td>\n",
       "      <td>apartment</td>\n",
       "      <td>big</td>\n",
       "      <td>0.125</td>\n",
       "      <td>41087522</td>\n",
       "      <td>None</td>\n",
       "    </tr>\n",
       "    <tr>\n",
       "      <th>4</th>\n",
       "      <td>1</td>\n",
       "      <td>1</td>\n",
       "      <td>service</td>\n",
       "      <td>good</td>\n",
       "      <td>0.750</td>\n",
       "      <td>41087522</td>\n",
       "      <td>None</td>\n",
       "    </tr>\n",
       "    <tr>\n",
       "      <th>5</th>\n",
       "      <td>1</td>\n",
       "      <td>2</td>\n",
       "      <td>NaN</td>\n",
       "      <td>NaN</td>\n",
       "      <td>NaN</td>\n",
       "      <td>41087522</td>\n",
       "      <td>None</td>\n",
       "    </tr>\n",
       "    <tr>\n",
       "      <th>6</th>\n",
       "      <td>2</td>\n",
       "      <td>0</td>\n",
       "      <td>check</td>\n",
       "      <td>fast</td>\n",
       "      <td>0.000</td>\n",
       "      <td>81000756</td>\n",
       "      <td>None</td>\n",
       "    </tr>\n",
       "    <tr>\n",
       "      <th>7</th>\n",
       "      <td>2</td>\n",
       "      <td>1</td>\n",
       "      <td>price</td>\n",
       "      <td>fair</td>\n",
       "      <td>0.625</td>\n",
       "      <td>81000756</td>\n",
       "      <td>None</td>\n",
       "    </tr>\n",
       "    <tr>\n",
       "      <th>8</th>\n",
       "      <td>2</td>\n",
       "      <td>2</td>\n",
       "      <td>time</td>\n",
       "      <td>hot</td>\n",
       "      <td>0.000</td>\n",
       "      <td>81000756</td>\n",
       "      <td>None</td>\n",
       "    </tr>\n",
       "    <tr>\n",
       "      <th>9</th>\n",
       "      <td>2</td>\n",
       "      <td>3</td>\n",
       "      <td>airbnb</td>\n",
       "      <td>second</td>\n",
       "      <td>0.000</td>\n",
       "      <td>81000756</td>\n",
       "      <td>None</td>\n",
       "    </tr>\n",
       "  </tbody>\n",
       "</table>\n",
       "</div>"
      ],
      "text/plain": [
       "   review_id  sentence_id       noun       adj  sentiment        id ACD_w2v\n",
       "0          0            0        NaN       NaN        NaN   4808211    None\n",
       "1          0            1      clean  spacious      0.000   4808211    None\n",
       "2          0            2        NaN       NaN        NaN   4808211    None\n",
       "3          1            0  apartment       big      0.125  41087522    None\n",
       "4          1            1    service      good      0.750  41087522    None\n",
       "5          1            2        NaN       NaN        NaN  41087522    None\n",
       "6          2            0      check      fast      0.000  81000756    None\n",
       "7          2            1      price      fair      0.625  81000756    None\n",
       "8          2            2       time       hot      0.000  81000756    None\n",
       "9          2            3     airbnb    second      0.000  81000756    None"
      ]
     },
     "execution_count": 90,
     "metadata": {},
     "output_type": "execute_result"
    }
   ],
   "source": [
    "test "
   ]
  },
  {
   "cell_type": "code",
   "execution_count": 91,
   "metadata": {},
   "outputs": [],
   "source": [
    "df_aspect_wide = df_aspect_wide_w2v"
   ]
  },
  {
   "cell_type": "code",
   "execution_count": 92,
   "metadata": {},
   "outputs": [
    {
     "data": {
      "text/plain": [
       "(10, 7)"
      ]
     },
     "execution_count": 92,
     "metadata": {},
     "output_type": "execute_result"
    }
   ],
   "source": [
    "test.shape"
   ]
  },
  {
   "cell_type": "code",
   "execution_count": 93,
   "metadata": {},
   "outputs": [
    {
     "data": {
      "text/plain": [
       "0                spotless\n",
       "1             comfertabel\n",
       "2                whirpool\n",
       "3             accessories\n",
       "4                    neat\n",
       "              ...        \n",
       "96             unspecific\n",
       "97              bedroomsa\n",
       "98                   dede\n",
       "99     cleanunfortunately\n",
       "100                 clean\n",
       "Name: clean, Length: 101, dtype: object"
      ]
     },
     "execution_count": 93,
     "metadata": {},
     "output_type": "execute_result"
    }
   ],
   "source": [
    "df_aspect_wide['clean']"
   ]
  },
  {
   "cell_type": "code",
   "execution_count": 94,
   "metadata": {},
   "outputs": [
    {
     "data": {
      "text/plain": [
       "True"
      ]
     },
     "execution_count": 94,
     "metadata": {},
     "output_type": "execute_result"
    }
   ],
   "source": [
    "'clean' in list(df_aspect_wide['clean'])"
   ]
  },
  {
   "cell_type": "code",
   "execution_count": 95,
   "metadata": {},
   "outputs": [
    {
     "data": {
      "text/plain": [
       "'clean'"
      ]
     },
     "execution_count": 95,
     "metadata": {},
     "output_type": "execute_result"
    }
   ],
   "source": [
    "df_aspect_wide['clean'][100]"
   ]
  },
  {
   "cell_type": "code",
   "execution_count": 96,
   "metadata": {},
   "outputs": [
    {
     "data": {
      "text/plain": [
       "str"
      ]
     },
     "execution_count": 96,
     "metadata": {},
     "output_type": "execute_result"
    }
   ],
   "source": [
    "type(df_aspect_wide['clean'][100])"
   ]
  },
  {
   "cell_type": "code",
   "execution_count": 97,
   "metadata": {},
   "outputs": [
    {
     "name": "stdout",
     "output_type": "stream",
     "text": [
      "0 nan nan not found!\n",
      "1 clean spacious clean\n",
      "2 nan nan not found!\n",
      "3 apartment big not found!\n",
      "4 service good not found!\n",
      "5 nan nan not found!\n",
      "6 check fast communicate\n",
      "7 price fair not found!\n",
      "8 time hot not found!\n",
      "9 airbnb second not found!\n"
     ]
    }
   ],
   "source": [
    "for i in range(len(test)):\n",
    "    #to avoid getting the most prevalant category all the time....\n",
    "    #try the least common first > most common\n",
    "    row = test.iloc[i][:]\n",
    "    #print(row.noun)\n",
    "    #print(row.adj)\n",
    "    if (row.noun in list(df_aspect_wide['value'])) or (row.adj in list(df_aspect_wide['value'])):\n",
    "        print(i, row.noun, row.adj, \"value\")\n",
    "        #return 'value'\n",
    "    elif row.noun in list(df_aspect_wide['accuracy']) or row.adj in list(df_aspect_wide['accuracy']):\n",
    "        print(i, row.noun, row.adj, \"accuracy\")\n",
    "        #return 'accuracy'\n",
    "    elif row.noun in list(df_aspect_wide['communicate']) or row.adj in list(df_aspect_wide['communicate']):\n",
    "        print(i, row.noun, row.adj, \"communicate\")\n",
    "        #return 'communciate'\n",
    "    elif (row.noun in list(df_aspect_wide['clean'])) or (row.adj in list(df_aspect_wide['clean'])):\n",
    "        print(i, row.noun, row.adj, \"clean\")\n",
    "        #return 'clean'\n",
    "    elif row.noun in list(df_aspect_wide['location']) or row.adj in list(df_aspect_wide['location']):\n",
    "        print(i, row.noun, row.adj, \"location\")\n",
    "        #return 'location'\n",
    "    else:\n",
    "        print(i, row.noun, row.adj,'not found!')"
   ]
  },
  {
   "cell_type": "code",
   "execution_count": 98,
   "metadata": {},
   "outputs": [],
   "source": [
    "def match_topn_aspect(row, df_aspect_wide):\n",
    "    ''''''\n",
    "    #to avoid getting the most prevalant category all the time....\n",
    "    #try the least common first > most common\n",
    "    #print(row.noun)\n",
    "    #print(row.adj)\n",
    "    if (row.noun in list(df_aspect_wide['value'])) or (row.adj in list(df_aspect_wide['value'])):\n",
    "        #print(i, row.noun, row.adj, \"value\")\n",
    "        return 'value'\n",
    "    elif row.noun in list(df_aspect_wide['accuracy']) or row.adj in list(df_aspect_wide['accuracy']):\n",
    "        #print(i, row.noun, row.adj, \"accuracy\")\n",
    "        return 'accurate' #corrected typo\n",
    "    elif row.noun in list(df_aspect_wide['communicate']) or row.adj in list(df_aspect_wide['communicate']):\n",
    "        #print(i, row.noun, row.adj, \"communicate\")\n",
    "        return 'communiciate'\n",
    "    elif (row.noun in list(df_aspect_wide['clean'])) or (row.adj in list(df_aspect_wide['clean'])):\n",
    "        #print(i, row.noun, row.adj, \"clean\")\n",
    "        return 'cleanliness' #corrected typo\n",
    "    elif row.noun in list(df_aspect_wide['location']) or row.adj in list(df_aspect_wide['location']):\n",
    "        #print(i, row.noun, row.adj, \"location\")\n",
    "        return 'location'\n",
    "    else:\n",
    "        #print(i, row.noun, row.adj,'not found!')\n",
    "        return None"
   ]
  },
  {
   "cell_type": "code",
   "execution_count": 103,
   "metadata": {},
   "outputs": [
    {
     "name": "stderr",
     "output_type": "stream",
     "text": [
      "100%|██████████| 10/10 [00:00<00:00, 1570.84it/s]\n"
     ]
    }
   ],
   "source": [
    "from tqdm import tqdm\n",
    "tqdm.pandas()\n",
    "test_out = test.progress_apply(match_topn_aspect, df_aspect_wide = df_aspect_wide_w2v, axis = 1)"
   ]
  },
  {
   "cell_type": "code",
   "execution_count": 104,
   "metadata": {},
   "outputs": [
    {
     "data": {
      "text/plain": [
       "Counter({None: 8, 'clean': 1, 'communciate': 1})"
      ]
     },
     "execution_count": 104,
     "metadata": {},
     "output_type": "execute_result"
    }
   ],
   "source": [
    "from collections import Counter\n",
    "Counter(test_out) #list"
   ]
  },
  {
   "cell_type": "code",
   "execution_count": 105,
   "metadata": {},
   "outputs": [
    {
     "name": "stderr",
     "output_type": "stream",
     "text": [
      "100%|██████████| 1568264/1568264 [08:11<00:00, 3192.13it/s]\n"
     ]
    }
   ],
   "source": [
    "#takes quite long.....\n",
    "from tqdm import tqdm\n",
    "tqdm.pandas()\n",
    "review_to_POS['ACD_w2v']= review_to_POS.progress_apply(match_topn_aspect, df_aspect_wide = df_aspect_wide_w2v, axis = 1)"
   ]
  },
  {
   "cell_type": "code",
   "execution_count": 106,
   "metadata": {},
   "outputs": [
    {
     "data": {
      "text/plain": [
       "location       91437\n",
       "clean          74577\n",
       "communciate    23067\n",
       "value           5803\n",
       "accuracy        2022\n",
       "Name: ACD_w2v, dtype: int64"
      ]
     },
     "execution_count": 106,
     "metadata": {},
     "output_type": "execute_result"
    }
   ],
   "source": [
    "review_to_POS['ACD_w2v'].value_counts() #mostly None? "
   ]
  },
  {
   "cell_type": "code",
   "execution_count": 107,
   "metadata": {},
   "outputs": [
    {
     "name": "stderr",
     "output_type": "stream",
     "text": [
      "100%|██████████| 1568264/1568264 [08:55<00:00, 2929.23it/s]\n"
     ]
    }
   ],
   "source": [
    "#repeat for glove! (if not found for W2V dictionary try glove)\n",
    "#takes quite long.....\n",
    "from tqdm import tqdm\n",
    "tqdm.pandas()\n",
    "review_to_POS['ACD_glove']= review_to_POS.progress_apply(match_topn_aspect, df_aspect_wide = df_aspect_wide_glove, axis = 1)"
   ]
  },
  {
   "cell_type": "code",
   "execution_count": 108,
   "metadata": {},
   "outputs": [
    {
     "name": "stderr",
     "output_type": "stream",
     "text": [
      "100%|██████████| 1568264/1568264 [10:41<00:00, 2443.78it/s]\n"
     ]
    }
   ],
   "source": [
    "#repeat for both (not necessary, can just if w2v none use glove else none)\n",
    "#takes quite long.....\n",
    "from tqdm import tqdm\n",
    "tqdm.pandas()\n",
    "review_to_POS['ACD_merged']= review_to_POS.progress_apply(match_topn_aspect, df_aspect_wide = df_aspect_wide_merge, axis = 1)"
   ]
  },
  {
   "cell_type": "code",
   "execution_count": 109,
   "metadata": {},
   "outputs": [],
   "source": [
    "import csv\n",
    "review_to_POS.to_csv('review_to_POS_ACD.csv' ,sep=\",\",quotechar='\"',index=False,\n",
    "            quoting=csv.QUOTE_ALL)"
   ]
  },
  {
   "cell_type": "code",
   "execution_count": 110,
   "metadata": {},
   "outputs": [
    {
     "data": {
      "text/html": [
       "<div>\n",
       "<style scoped>\n",
       "    .dataframe tbody tr th:only-of-type {\n",
       "        vertical-align: middle;\n",
       "    }\n",
       "\n",
       "    .dataframe tbody tr th {\n",
       "        vertical-align: top;\n",
       "    }\n",
       "\n",
       "    .dataframe thead th {\n",
       "        text-align: right;\n",
       "    }\n",
       "</style>\n",
       "<table border=\"1\" class=\"dataframe\">\n",
       "  <thead>\n",
       "    <tr style=\"text-align: right;\">\n",
       "      <th></th>\n",
       "      <th>review_id</th>\n",
       "      <th>sentence_id</th>\n",
       "      <th>noun</th>\n",
       "      <th>adj</th>\n",
       "      <th>sentiment</th>\n",
       "      <th>id</th>\n",
       "      <th>ACD_w2v</th>\n",
       "      <th>ACD_glove</th>\n",
       "      <th>ACD_merged</th>\n",
       "    </tr>\n",
       "  </thead>\n",
       "  <tbody>\n",
       "    <tr>\n",
       "      <th>0</th>\n",
       "      <td>0</td>\n",
       "      <td>0</td>\n",
       "      <td>NaN</td>\n",
       "      <td>NaN</td>\n",
       "      <td>NaN</td>\n",
       "      <td>4808211</td>\n",
       "      <td>None</td>\n",
       "      <td>None</td>\n",
       "      <td>None</td>\n",
       "    </tr>\n",
       "    <tr>\n",
       "      <th>1</th>\n",
       "      <td>0</td>\n",
       "      <td>1</td>\n",
       "      <td>clean</td>\n",
       "      <td>spacious</td>\n",
       "      <td>0.000</td>\n",
       "      <td>4808211</td>\n",
       "      <td>clean</td>\n",
       "      <td>clean</td>\n",
       "      <td>clean</td>\n",
       "    </tr>\n",
       "    <tr>\n",
       "      <th>2</th>\n",
       "      <td>0</td>\n",
       "      <td>2</td>\n",
       "      <td>NaN</td>\n",
       "      <td>NaN</td>\n",
       "      <td>NaN</td>\n",
       "      <td>4808211</td>\n",
       "      <td>None</td>\n",
       "      <td>None</td>\n",
       "      <td>None</td>\n",
       "    </tr>\n",
       "    <tr>\n",
       "      <th>3</th>\n",
       "      <td>1</td>\n",
       "      <td>0</td>\n",
       "      <td>apartment</td>\n",
       "      <td>big</td>\n",
       "      <td>0.125</td>\n",
       "      <td>41087522</td>\n",
       "      <td>None</td>\n",
       "      <td>None</td>\n",
       "      <td>None</td>\n",
       "    </tr>\n",
       "    <tr>\n",
       "      <th>4</th>\n",
       "      <td>1</td>\n",
       "      <td>1</td>\n",
       "      <td>service</td>\n",
       "      <td>good</td>\n",
       "      <td>0.750</td>\n",
       "      <td>41087522</td>\n",
       "      <td>None</td>\n",
       "      <td>clean</td>\n",
       "      <td>clean</td>\n",
       "    </tr>\n",
       "  </tbody>\n",
       "</table>\n",
       "</div>"
      ],
      "text/plain": [
       "   review_id  sentence_id       noun       adj  sentiment        id ACD_w2v  \\\n",
       "0          0            0        NaN       NaN        NaN   4808211    None   \n",
       "1          0            1      clean  spacious      0.000   4808211   clean   \n",
       "2          0            2        NaN       NaN        NaN   4808211    None   \n",
       "3          1            0  apartment       big      0.125  41087522    None   \n",
       "4          1            1    service      good      0.750  41087522    None   \n",
       "\n",
       "  ACD_glove ACD_merged  \n",
       "0      None       None  \n",
       "1     clean      clean  \n",
       "2      None       None  \n",
       "3      None       None  \n",
       "4     clean      clean  "
      ]
     },
     "execution_count": 110,
     "metadata": {},
     "output_type": "execute_result"
    }
   ],
   "source": [
    "review_to_POS.head()"
   ]
  },
  {
   "cell_type": "code",
   "execution_count": 202,
   "metadata": {},
   "outputs": [
    {
     "data": {
      "text/plain": [
       "(1568264, 9)"
      ]
     },
     "execution_count": 202,
     "metadata": {},
     "output_type": "execute_result"
    }
   ],
   "source": [
    "review_to_POS.shape"
   ]
  },
  {
   "cell_type": "code",
   "execution_count": 200,
   "metadata": {},
   "outputs": [],
   "source": [
    "#drop NAN\n",
    "review_to_POS_dropna = review_to_POS.dropna(subset=['sentiment', 'ACD_merged'])"
   ]
  },
  {
   "cell_type": "code",
   "execution_count": 201,
   "metadata": {},
   "outputs": [
    {
     "data": {
      "text/plain": [
       "(414472, 9)"
      ]
     },
     "execution_count": 201,
     "metadata": {},
     "output_type": "execute_result"
    }
   ],
   "source": [
    "review_to_POS_dropna.shape"
   ]
  },
  {
   "cell_type": "code",
   "execution_count": 203,
   "metadata": {},
   "outputs": [
    {
     "data": {
      "text/plain": [
       "(array([1.80000e+01, 1.37000e+02, 1.86400e+03, 2.62310e+04, 1.66134e+05,\n",
       "        1.74912e+05, 4.19410e+04, 3.11900e+03, 1.10000e+02, 6.00000e+00]),\n",
       " array([-2.75, -2.15, -1.55, -0.95, -0.35,  0.25,  0.85,  1.45,  2.05,\n",
       "         2.65,  3.25]),\n",
       " <a list of 10 Patch objects>)"
      ]
     },
     "execution_count": 203,
     "metadata": {},
     "output_type": "execute_result"
    },
    {
     "data": {
      "image/png": "[encoded data removed]",
      "text/plain": [
       "<Figure size 432x288 with 1 Axes>"
      ]
     },
     "metadata": {
      "needs_background": "light"
     },
     "output_type": "display_data"
    }
   ],
   "source": [
    "##convert sentiment to scale of 1 to 5 (currently -3 to 3)\n",
    "import matplotlib.pyplot as plt\n",
    "plt.hist(review_to_POS_dropna['sentiment'])\n",
    "plt.show()"
   ]
  },
  {
   "cell_type": "code",
   "execution_count": 204,
   "metadata": {},
   "outputs": [
    {
     "data": {
      "text/plain": [
       "3.25"
      ]
     },
     "execution_count": 204,
     "metadata": {},
     "output_type": "execute_result"
    }
   ],
   "source": [
    "max(review_to_POS_dropna['sentiment'])"
   ]
  },
  {
   "cell_type": "code",
   "execution_count": 205,
   "metadata": {},
   "outputs": [
    {
     "data": {
      "text/plain": [
       "-2.75"
      ]
     },
     "execution_count": 205,
     "metadata": {},
     "output_type": "execute_result"
    }
   ],
   "source": [
    "min(review_to_POS_dropna['sentiment'])"
   ]
  },
  {
   "cell_type": "code",
   "execution_count": 206,
   "metadata": {},
   "outputs": [
    {
     "data": {
      "text/plain": [
       "6.0"
      ]
     },
     "execution_count": 206,
     "metadata": {},
     "output_type": "execute_result"
    }
   ],
   "source": [
    "max(review_to_POS_dropna['sentiment'])-min(review_to_POS_dropna['sentiment'])"
   ]
  },
  {
   "cell_type": "code",
   "execution_count": 217,
   "metadata": {},
   "outputs": [],
   "source": [
    "## do min max normalisation to [1,5]\n",
    "def minmaxscale(x, a=1, b=5, mmin = 0, mmax=1):\n",
    "    x_new = a+((x-mmin)*(b-a)/(mmax-mmin))\n",
    "    return x_new"
   ]
  },
  {
   "cell_type": "code",
   "execution_count": 218,
   "metadata": {},
   "outputs": [
    {
     "data": {
      "text/plain": [
       "1.0"
      ]
     },
     "execution_count": 218,
     "metadata": {},
     "output_type": "execute_result"
    }
   ],
   "source": [
    "minmaxscale(-2.75, mmin=-2.75, mmax=3.25)"
   ]
  },
  {
   "cell_type": "code",
   "execution_count": 219,
   "metadata": {},
   "outputs": [
    {
     "data": {
      "text/plain": [
       "5.0"
      ]
     },
     "execution_count": 219,
     "metadata": {},
     "output_type": "execute_result"
    }
   ],
   "source": [
    "minmaxscale(3.25, mmin=-2.75, mmax=3.25)"
   ]
  },
  {
   "cell_type": "code",
   "execution_count": 221,
   "metadata": {},
   "outputs": [
    {
     "name": "stderr",
     "output_type": "stream",
     "text": [
      "100%|██████████| 414472/414472 [00:00<00:00, 897656.16it/s]\n"
     ]
    }
   ],
   "source": [
    "rescaled = []\n",
    "mmin = min(review_to_POS_dropna['sentiment'])\n",
    "mmax = max(review_to_POS_dropna['sentiment'])\n",
    "for x in tqdm(review_to_POS_dropna['sentiment']):\n",
    "    x_new = minmaxscale(x, mmin = mmin, mmax= mmax)\n",
    "    rescaled.append(x_new)"
   ]
  },
  {
   "cell_type": "code",
   "execution_count": 222,
   "metadata": {},
   "outputs": [
    {
     "data": {
      "text/plain": [
       "(array([1.80000e+01, 1.37000e+02, 1.86400e+03, 2.62310e+04, 1.66134e+05,\n",
       "        1.74912e+05, 4.19410e+04, 3.11900e+03, 1.10000e+02, 6.00000e+00]),\n",
       " array([1. , 1.4, 1.8, 2.2, 2.6, 3. , 3.4, 3.8, 4.2, 4.6, 5. ]),\n",
       " <a list of 10 Patch objects>)"
      ]
     },
     "execution_count": 222,
     "metadata": {},
     "output_type": "execute_result"
    },
    {
     "data": {
      "image/png": "[encoded data removed]",
      "text/plain": [
       "<Figure size 432x288 with 1 Axes>"
      ]
     },
     "metadata": {
      "needs_background": "light"
     },
     "output_type": "display_data"
    }
   ],
   "source": [
    "import matplotlib.pyplot as plt\n",
    "plt.hist(rescaled)\n",
    "plt.show()"
   ]
  },
  {
   "cell_type": "code",
   "execution_count": 223,
   "metadata": {},
   "outputs": [
    {
     "name": "stderr",
     "output_type": "stream",
     "text": [
      "/Users/leesixian/anaconda3/lib/python3.6/site-packages/ipykernel_launcher.py:1: SettingWithCopyWarning: \n",
      "A value is trying to be set on a copy of a slice from a DataFrame.\n",
      "Try using .loc[row_indexer,col_indexer] = value instead\n",
      "\n",
      "See the caveats in the documentation: https://pandas.pydata.org/pandas-docs/stable/user_guide/indexing.html#returning-a-view-versus-a-copy\n",
      "  \"\"\"Entry point for launching an IPython kernel.\n"
     ]
    }
   ],
   "source": [
    "review_to_POS_dropna['sentiment_rescaled'] = rescaled"
   ]
  },
  {
   "cell_type": "code",
   "execution_count": 227,
   "metadata": {},
   "outputs": [
    {
     "data": {
      "text/plain": [
       "(414472, 10)"
      ]
     },
     "execution_count": 227,
     "metadata": {},
     "output_type": "execute_result"
    }
   ],
   "source": [
    "review_to_POS_dropna.shape"
   ]
  },
  {
   "cell_type": "code",
   "execution_count": 224,
   "metadata": {},
   "outputs": [],
   "source": [
    "#export!\n",
    "review_to_POS_dropna.to_csv('review_to_POS_dropna.csv', index = False)"
   ]
  },
  {
   "cell_type": "code",
   "execution_count": 229,
   "metadata": {},
   "outputs": [],
   "source": [
    "## aggregate to review-level (from sentence-level)\n",
    "sent_count_per_review = review_to_POS_dropna.groupby(['review_id'])['sentence_id'].count()"
   ]
  },
  {
   "cell_type": "code",
   "execution_count": 231,
   "metadata": {},
   "outputs": [
    {
     "data": {
      "text/plain": [
       "(array([2.46248e+05, 1.08470e+04, 4.68000e+02, 3.00000e+01, 2.00000e+00]),\n",
       " array([ 1. ,  3.8,  6.6,  9.4, 12.2, 15. ]),\n",
       " <a list of 5 Patch objects>)"
      ]
     },
     "execution_count": 231,
     "metadata": {},
     "output_type": "execute_result"
    },
    {
     "data": {
      "text/plain": [
       "Text(0.5, 1.0, 'Histogram of sentence count per review')"
      ]
     },
     "execution_count": 231,
     "metadata": {},
     "output_type": "execute_result"
    },
    {
     "data": {
      "image/png": "[encoded data removed]",
      "text/plain": [
       "<Figure size 432x288 with 1 Axes>"
      ]
     },
     "metadata": {
      "needs_background": "light"
     },
     "output_type": "display_data"
    }
   ],
   "source": [
    "import matplotlib.pyplot as plt\n",
    "plt.hist(sent_count_per_review, bins=5)\n",
    "plt.title('Histogram of sentence count per review')\n",
    "plt.show()"
   ]
  },
  {
   "cell_type": "code",
   "execution_count": 158,
   "metadata": {},
   "outputs": [],
   "source": [
    "## Are there multiple categories for ONE review?\n",
    "#review_to_POS_subset = review_to_POS.dropna(subset = ['ACD_merged'])"
   ]
  },
  {
   "cell_type": "code",
   "execution_count": 232,
   "metadata": {},
   "outputs": [
    {
     "data": {
      "text/plain": [
       "id\n",
       "155565231    1\n",
       "155967373    2\n",
       "157270461    1\n",
       "157280064    1\n",
       "157542221    1\n",
       "            ..\n",
       "99987043     1\n",
       "99988760     1\n",
       "99992172     1\n",
       "9999874      2\n",
       "99999684     1\n",
       "Name: ACD_merged, Length: 257595, dtype: int64"
      ]
     },
     "execution_count": 232,
     "metadata": {},
     "output_type": "execute_result"
    }
   ],
   "source": [
    "aspect_count_per_review = review_to_POS_dropna.groupby(['id'])['ACD_merged'].nunique()\n",
    "aspect_count_per_review"
   ]
  },
  {
   "cell_type": "code",
   "execution_count": 233,
   "metadata": {},
   "outputs": [
    {
     "data": {
      "text/plain": [
       "Counter({1: 185768, 2: 62047, 3: 9071, 4: 682, 5: 27})"
      ]
     },
     "execution_count": 233,
     "metadata": {},
     "output_type": "execute_result"
    }
   ],
   "source": [
    "Counter(aspect_count_per_review)"
   ]
  },
  {
   "cell_type": "code",
   "execution_count": 234,
   "metadata": {},
   "outputs": [
    {
     "data": {
      "text/plain": [
       "id\n",
       "450469395493812903    5\n",
       "713395395             5\n",
       "514945275             5\n",
       "334087360             5\n",
       "40127400              5\n",
       "                     ..\n",
       "397570883771726963    2\n",
       "397560885699326033    2\n",
       "397536447747361195    2\n",
       "39745054              2\n",
       "155967373             2\n",
       "Name: ACD_merged, Length: 71827, dtype: int64"
      ]
     },
     "execution_count": 234,
     "metadata": {},
     "output_type": "execute_result"
    }
   ],
   "source": [
    "aspect_count_per_review[aspect_count_per_review>1].sort_values(ascending = False)"
   ]
  },
  {
   "cell_type": "code",
   "execution_count": 235,
   "metadata": {},
   "outputs": [
    {
     "data": {
      "text/plain": [
       "Index(['review_id', 'sentence_id', 'noun', 'adj', 'sentiment', 'id', 'ACD_w2v',\n",
       "       'ACD_glove', 'ACD_merged', 'sentiment_rescaled'],\n",
       "      dtype='object')"
      ]
     },
     "execution_count": 235,
     "metadata": {},
     "output_type": "execute_result"
    }
   ],
   "source": [
    "review_to_POS_dropna.columns"
   ]
  },
  {
   "cell_type": "code",
   "execution_count": 236,
   "metadata": {},
   "outputs": [],
   "source": [
    "#output predicted aspect for each review - one review can have multiple aspects\n",
    "review_aspect_score_w2v = review_to_POS_dropna.groupby(['id', 'ACD_w2v'])['sentiment_rescaled'].sum()"
   ]
  },
  {
   "cell_type": "code",
   "execution_count": 237,
   "metadata": {},
   "outputs": [],
   "source": [
    "#this is the number of sentence in a review X aspect\n",
    "review_aspect_cnt = review_to_POS_dropna.groupby(['id', 'ACD_w2v'])['ACD_w2v'].count()"
   ]
  },
  {
   "cell_type": "code",
   "execution_count": 238,
   "metadata": {
    "scrolled": true
   },
   "outputs": [
    {
     "data": {
      "text/plain": [
       "Counter({1: 178040, 2: 8635, 3: 487, 4: 28, 6: 3, 5: 1})"
      ]
     },
     "execution_count": 238,
     "metadata": {},
     "output_type": "execute_result"
    }
   ],
   "source": [
    "from collections import Counter \n",
    "Counter(review_aspect_cnt) #per review X aspect sentence counts"
   ]
  },
  {
   "cell_type": "code",
   "execution_count": 240,
   "metadata": {},
   "outputs": [],
   "source": [
    "review_aspect_avg = review_aspect_score_w2v/review_aspect_cnt"
   ]
  },
  {
   "cell_type": "code",
   "execution_count": 241,
   "metadata": {},
   "outputs": [],
   "source": [
    "review_aspect_df = review_aspect_cnt.index.to_frame()#.columns#.rename({'aspect_x':'sent_cnt'})"
   ]
  },
  {
   "cell_type": "code",
   "execution_count": 242,
   "metadata": {
    "scrolled": true
   },
   "outputs": [
    {
     "data": {
      "text/html": [
       "<div>\n",
       "<style scoped>\n",
       "    .dataframe tbody tr th:only-of-type {\n",
       "        vertical-align: middle;\n",
       "    }\n",
       "\n",
       "    .dataframe tbody tr th {\n",
       "        vertical-align: top;\n",
       "    }\n",
       "\n",
       "    .dataframe thead th {\n",
       "        text-align: right;\n",
       "    }\n",
       "</style>\n",
       "<table border=\"1\" class=\"dataframe\">\n",
       "  <thead>\n",
       "    <tr style=\"text-align: right;\">\n",
       "      <th></th>\n",
       "      <th>id</th>\n",
       "      <th>ACD_w2v</th>\n",
       "    </tr>\n",
       "  </thead>\n",
       "  <tbody>\n",
       "    <tr>\n",
       "      <th>0</th>\n",
       "      <td>155565231</td>\n",
       "      <td>clean</td>\n",
       "    </tr>\n",
       "    <tr>\n",
       "      <th>1</th>\n",
       "      <td>155967373</td>\n",
       "      <td>clean</td>\n",
       "    </tr>\n",
       "    <tr>\n",
       "      <th>2</th>\n",
       "      <td>155967373</td>\n",
       "      <td>location</td>\n",
       "    </tr>\n",
       "    <tr>\n",
       "      <th>3</th>\n",
       "      <td>157270461</td>\n",
       "      <td>clean</td>\n",
       "    </tr>\n",
       "    <tr>\n",
       "      <th>4</th>\n",
       "      <td>157280064</td>\n",
       "      <td>communciate</td>\n",
       "    </tr>\n",
       "    <tr>\n",
       "      <th>...</th>\n",
       "      <td>...</td>\n",
       "      <td>...</td>\n",
       "    </tr>\n",
       "    <tr>\n",
       "      <th>187189</th>\n",
       "      <td>99980628</td>\n",
       "      <td>location</td>\n",
       "    </tr>\n",
       "    <tr>\n",
       "      <th>187190</th>\n",
       "      <td>99984993</td>\n",
       "      <td>location</td>\n",
       "    </tr>\n",
       "    <tr>\n",
       "      <th>187191</th>\n",
       "      <td>99992172</td>\n",
       "      <td>location</td>\n",
       "    </tr>\n",
       "    <tr>\n",
       "      <th>187192</th>\n",
       "      <td>9999874</td>\n",
       "      <td>clean</td>\n",
       "    </tr>\n",
       "    <tr>\n",
       "      <th>187193</th>\n",
       "      <td>9999874</td>\n",
       "      <td>location</td>\n",
       "    </tr>\n",
       "  </tbody>\n",
       "</table>\n",
       "<p>187194 rows × 2 columns</p>\n",
       "</div>"
      ],
      "text/plain": [
       "               id      ACD_w2v\n",
       "0       155565231        clean\n",
       "1       155967373        clean\n",
       "2       155967373     location\n",
       "3       157270461        clean\n",
       "4       157280064  communciate\n",
       "...           ...          ...\n",
       "187189   99980628     location\n",
       "187190   99984993     location\n",
       "187191   99992172     location\n",
       "187192    9999874        clean\n",
       "187193    9999874     location\n",
       "\n",
       "[187194 rows x 2 columns]"
      ]
     },
     "execution_count": 242,
     "metadata": {},
     "output_type": "execute_result"
    }
   ],
   "source": [
    "review_aspect_df.reset_index(drop=True)"
   ]
  },
  {
   "cell_type": "code",
   "execution_count": 243,
   "metadata": {},
   "outputs": [],
   "source": [
    "review_aspect_df['avg_score'] = review_aspect_avg"
   ]
  },
  {
   "cell_type": "code",
   "execution_count": 244,
   "metadata": {},
   "outputs": [
    {
     "data": {
      "text/html": [
       "<div>\n",
       "<style scoped>\n",
       "    .dataframe tbody tr th:only-of-type {\n",
       "        vertical-align: middle;\n",
       "    }\n",
       "\n",
       "    .dataframe tbody tr th {\n",
       "        vertical-align: top;\n",
       "    }\n",
       "\n",
       "    .dataframe thead th {\n",
       "        text-align: right;\n",
       "    }\n",
       "</style>\n",
       "<table border=\"1\" class=\"dataframe\">\n",
       "  <thead>\n",
       "    <tr style=\"text-align: right;\">\n",
       "      <th></th>\n",
       "      <th></th>\n",
       "      <th>id</th>\n",
       "      <th>ACD_w2v</th>\n",
       "      <th>avg_score</th>\n",
       "    </tr>\n",
       "    <tr>\n",
       "      <th>id</th>\n",
       "      <th>ACD_w2v</th>\n",
       "      <th></th>\n",
       "      <th></th>\n",
       "      <th></th>\n",
       "    </tr>\n",
       "  </thead>\n",
       "  <tbody>\n",
       "    <tr>\n",
       "      <th>155565231</th>\n",
       "      <th>clean</th>\n",
       "      <td>155565231</td>\n",
       "      <td>clean</td>\n",
       "      <td>2.916667</td>\n",
       "    </tr>\n",
       "    <tr>\n",
       "      <th rowspan=\"2\" valign=\"top\">155967373</th>\n",
       "      <th>clean</th>\n",
       "      <td>155967373</td>\n",
       "      <td>clean</td>\n",
       "      <td>2.916667</td>\n",
       "    </tr>\n",
       "    <tr>\n",
       "      <th>location</th>\n",
       "      <td>155967373</td>\n",
       "      <td>location</td>\n",
       "      <td>3.666667</td>\n",
       "    </tr>\n",
       "    <tr>\n",
       "      <th>157270461</th>\n",
       "      <th>clean</th>\n",
       "      <td>157270461</td>\n",
       "      <td>clean</td>\n",
       "      <td>3.083333</td>\n",
       "    </tr>\n",
       "    <tr>\n",
       "      <th>157280064</th>\n",
       "      <th>communciate</th>\n",
       "      <td>157280064</td>\n",
       "      <td>communciate</td>\n",
       "      <td>2.666667</td>\n",
       "    </tr>\n",
       "  </tbody>\n",
       "</table>\n",
       "</div>"
      ],
      "text/plain": [
       "                              id      ACD_w2v  avg_score\n",
       "id        ACD_w2v                                       \n",
       "155565231 clean        155565231        clean   2.916667\n",
       "155967373 clean        155967373        clean   2.916667\n",
       "          location     155967373     location   3.666667\n",
       "157270461 clean        157270461        clean   3.083333\n",
       "157280064 communciate  157280064  communciate   2.666667"
      ]
     },
     "execution_count": 244,
     "metadata": {},
     "output_type": "execute_result"
    }
   ],
   "source": [
    "review_aspect_df.head()"
   ]
  },
  {
   "cell_type": "code",
   "execution_count": 245,
   "metadata": {},
   "outputs": [
    {
     "data": {
      "text/plain": [
       "Index(['id', 'ACD_w2v', 'avg_score'], dtype='object')"
      ]
     },
     "execution_count": 245,
     "metadata": {},
     "output_type": "execute_result"
    }
   ],
   "source": [
    "review_aspect_df.columns"
   ]
  },
  {
   "cell_type": "code",
   "execution_count": 246,
   "metadata": {},
   "outputs": [],
   "source": [
    "##export!\n",
    "review_aspect_df.to_csv('review_aspect_df_w2v_all.csv', index = False)"
   ]
  },
  {
   "cell_type": "code",
   "execution_count": 247,
   "metadata": {},
   "outputs": [
    {
     "data": {
      "text/html": [
       "<div>\n",
       "<style scoped>\n",
       "    .dataframe tbody tr th:only-of-type {\n",
       "        vertical-align: middle;\n",
       "    }\n",
       "\n",
       "    .dataframe tbody tr th {\n",
       "        vertical-align: top;\n",
       "    }\n",
       "\n",
       "    .dataframe thead th {\n",
       "        text-align: right;\n",
       "    }\n",
       "</style>\n",
       "<table border=\"1\" class=\"dataframe\">\n",
       "  <thead>\n",
       "    <tr style=\"text-align: right;\">\n",
       "      <th></th>\n",
       "      <th></th>\n",
       "      <th>id</th>\n",
       "      <th>ACD_w2v</th>\n",
       "      <th>avg_score</th>\n",
       "    </tr>\n",
       "    <tr>\n",
       "      <th>id</th>\n",
       "      <th>ACD_w2v</th>\n",
       "      <th></th>\n",
       "      <th></th>\n",
       "      <th></th>\n",
       "    </tr>\n",
       "  </thead>\n",
       "  <tbody>\n",
       "    <tr>\n",
       "      <th>155565231</th>\n",
       "      <th>clean</th>\n",
       "      <td>155565231</td>\n",
       "      <td>clean</td>\n",
       "      <td>2.916667</td>\n",
       "    </tr>\n",
       "    <tr>\n",
       "      <th rowspan=\"2\" valign=\"top\">155967373</th>\n",
       "      <th>clean</th>\n",
       "      <td>155967373</td>\n",
       "      <td>clean</td>\n",
       "      <td>2.916667</td>\n",
       "    </tr>\n",
       "    <tr>\n",
       "      <th>location</th>\n",
       "      <td>155967373</td>\n",
       "      <td>location</td>\n",
       "      <td>3.666667</td>\n",
       "    </tr>\n",
       "    <tr>\n",
       "      <th>157270461</th>\n",
       "      <th>clean</th>\n",
       "      <td>157270461</td>\n",
       "      <td>clean</td>\n",
       "      <td>3.083333</td>\n",
       "    </tr>\n",
       "    <tr>\n",
       "      <th>157280064</th>\n",
       "      <th>communciate</th>\n",
       "      <td>157280064</td>\n",
       "      <td>communciate</td>\n",
       "      <td>2.666667</td>\n",
       "    </tr>\n",
       "    <tr>\n",
       "      <th>...</th>\n",
       "      <th>...</th>\n",
       "      <td>...</td>\n",
       "      <td>...</td>\n",
       "      <td>...</td>\n",
       "    </tr>\n",
       "    <tr>\n",
       "      <th>99980628</th>\n",
       "      <th>location</th>\n",
       "      <td>99980628</td>\n",
       "      <td>location</td>\n",
       "      <td>2.833333</td>\n",
       "    </tr>\n",
       "    <tr>\n",
       "      <th>99984993</th>\n",
       "      <th>location</th>\n",
       "      <td>99984993</td>\n",
       "      <td>location</td>\n",
       "      <td>3.083333</td>\n",
       "    </tr>\n",
       "    <tr>\n",
       "      <th>99992172</th>\n",
       "      <th>location</th>\n",
       "      <td>99992172</td>\n",
       "      <td>location</td>\n",
       "      <td>2.916667</td>\n",
       "    </tr>\n",
       "    <tr>\n",
       "      <th rowspan=\"2\" valign=\"top\">9999874</th>\n",
       "      <th>clean</th>\n",
       "      <td>9999874</td>\n",
       "      <td>clean</td>\n",
       "      <td>2.916667</td>\n",
       "    </tr>\n",
       "    <tr>\n",
       "      <th>location</th>\n",
       "      <td>9999874</td>\n",
       "      <td>location</td>\n",
       "      <td>3.416667</td>\n",
       "    </tr>\n",
       "  </tbody>\n",
       "</table>\n",
       "<p>187194 rows × 3 columns</p>\n",
       "</div>"
      ],
      "text/plain": [
       "                              id      ACD_w2v  avg_score\n",
       "id        ACD_w2v                                       \n",
       "155565231 clean        155565231        clean   2.916667\n",
       "155967373 clean        155967373        clean   2.916667\n",
       "          location     155967373     location   3.666667\n",
       "157270461 clean        157270461        clean   3.083333\n",
       "157280064 communciate  157280064  communciate   2.666667\n",
       "...                          ...          ...        ...\n",
       "99980628  location      99980628     location   2.833333\n",
       "99984993  location      99984993     location   3.083333\n",
       "99992172  location      99992172     location   2.916667\n",
       "9999874   clean          9999874        clean   2.916667\n",
       "          location       9999874     location   3.416667\n",
       "\n",
       "[187194 rows x 3 columns]"
      ]
     },
     "execution_count": 247,
     "metadata": {},
     "output_type": "execute_result"
    }
   ],
   "source": [
    "review_aspect_df"
   ]
  },
  {
   "cell_type": "code",
   "execution_count": 248,
   "metadata": {},
   "outputs": [
    {
     "data": {
      "text/plain": [
       "array(['clean', 'location', 'communciate', 'value', 'accuracy'],\n",
       "      dtype=object)"
      ]
     },
     "execution_count": 248,
     "metadata": {},
     "output_type": "execute_result"
    }
   ],
   "source": [
    "review_aspect_df['ACD_w2v'].unique()"
   ]
  },
  {
   "cell_type": "code",
   "execution_count": 253,
   "metadata": {},
   "outputs": [],
   "source": [
    "##Post editing to correct for typos"
   ]
  },
  {
   "cell_type": "code",
   "execution_count": 249,
   "metadata": {},
   "outputs": [],
   "source": [
    "#review_aspect_df['ACD_w2v']\n",
    "review_aspect_df['ACD_w2v'] = [re.sub('clean', 'cleanliness', x) for x in review_aspect_df['ACD_w2v']]"
   ]
  },
  {
   "cell_type": "code",
   "execution_count": 250,
   "metadata": {},
   "outputs": [
    {
     "data": {
      "text/plain": [
       "array(['cleanliness', 'location', 'communciate', 'value', 'accuracy'],\n",
       "      dtype=object)"
      ]
     },
     "execution_count": 250,
     "metadata": {},
     "output_type": "execute_result"
    }
   ],
   "source": [
    "review_aspect_df['ACD_w2v'].unique()"
   ]
  },
  {
   "cell_type": "code",
   "execution_count": 251,
   "metadata": {},
   "outputs": [],
   "source": [
    "review_aspect_df['ACD_w2v'] = [re.sub('accuracy', 'accurate', x) for x in review_aspect_df['ACD_w2v']]"
   ]
  },
  {
   "cell_type": "code",
   "execution_count": 252,
   "metadata": {},
   "outputs": [
    {
     "data": {
      "text/plain": [
       "array(['cleanliness', 'location', 'communciate', 'value', 'accurate'],\n",
       "      dtype=object)"
      ]
     },
     "execution_count": 252,
     "metadata": {},
     "output_type": "execute_result"
    }
   ],
   "source": [
    "review_aspect_df['ACD_w2v'].unique()\n",
    "#array(['location', 'communicate', 'cleanliness', 'accurate', 'value'])"
   ]
  },
  {
   "cell_type": "code",
   "execution_count": 255,
   "metadata": {},
   "outputs": [],
   "source": [
    "review_aspect_df['ACD_w2v'] = [re.sub('communciate', 'communicate', x) for x in review_aspect_df['ACD_w2v']]"
   ]
  },
  {
   "cell_type": "code",
   "execution_count": 256,
   "metadata": {},
   "outputs": [
    {
     "data": {
      "text/plain": [
       "array(['cleanliness', 'location', 'communicate', 'value', 'accurate'],\n",
       "      dtype=object)"
      ]
     },
     "execution_count": 256,
     "metadata": {},
     "output_type": "execute_result"
    }
   ],
   "source": [
    "review_aspect_df['ACD_w2v'].unique()"
   ]
  },
  {
   "cell_type": "code",
   "execution_count": 257,
   "metadata": {},
   "outputs": [],
   "source": [
    "##reexport!\n",
    "#review_aspect_df.to_csv('review_aspect_df_w2v_all_relab.csv', index = False)"
   ]
  },
  {
   "cell_type": "code",
   "execution_count": 205,
   "metadata": {},
   "outputs": [
    {
     "data": {
      "text/plain": [
       "Index(['Unnamed: 0', 'listing_id', 'id', 'date', 'reviewer_id',\n",
       "       'reviewer_name', 'comments', 'comments_stopwordsrm',\n",
       "       'comments_stopwordsrm_lemma'],\n",
       "      dtype='object')"
      ]
     },
     "execution_count": 205,
     "metadata": {},
     "output_type": "execute_result"
    }
   ],
   "source": [
    "#export all the clean reviews\n",
    "df.columns"
   ]
  },
  {
   "cell_type": "code",
   "execution_count": 206,
   "metadata": {},
   "outputs": [
    {
     "data": {
      "text/plain": [
       "'4808211'"
      ]
     },
     "execution_count": 206,
     "metadata": {},
     "output_type": "execute_result"
    }
   ],
   "source": [
    "df['id'][0]"
   ]
  },
  {
   "cell_type": "markdown",
   "metadata": {},
   "source": [
    "## Output predictions for benchmarking"
   ]
  },
  {
   "cell_type": "code",
   "execution_count": 187,
   "metadata": {},
   "outputs": [
    {
     "data": {
      "text/plain": [
       "Index(['S/N', 'In-charge', 'listing_id', 'id', 'date', 'reviewer_id',\n",
       "       'reviewer_name', 'comments', 'comments_stopwordsrm',\n",
       "       'comments_stopwordsrm_lemma', 'accuracy_entity', 'accuracy_aspect',\n",
       "       'accuracy_score', 'clean_entity', 'clean_aspect', 'clean_score',\n",
       "       'communicate_entity', 'communicate_aspect', 'communicate_score',\n",
       "       'value_entity', 'value_aspect', 'value_score', 'location_entity',\n",
       "       'location_aspect', 'location_score', 'Category', 'Sentiment',\n",
       "       'accuracy_merged', 'clean_merged', 'communicate_merged', 'value_merged',\n",
       "       'location_merged'],\n",
       "      dtype='object')"
      ]
     },
     "execution_count": 187,
     "metadata": {},
     "output_type": "execute_result"
    }
   ],
   "source": [
    "#filter only one review one aspect + sentiment\n",
    "#output predictions for selected test samples (300)\n",
    "#get the review id for the 300 samples\n",
    "testidx = absa['id']\n",
    "absa.columns"
   ]
  },
  {
   "cell_type": "code",
   "execution_count": 168,
   "metadata": {},
   "outputs": [
    {
     "data": {
      "text/plain": [
       "location       127\n",
       "communicate     75\n",
       "value           52\n",
       "cleanliness     35\n",
       "accurate        11\n",
       "Name: Category, dtype: int64"
      ]
     },
     "execution_count": 168,
     "metadata": {},
     "output_type": "execute_result"
    }
   ],
   "source": [
    "absa['Category'].value_counts()"
   ]
  },
  {
   "cell_type": "code",
   "execution_count": 169,
   "metadata": {},
   "outputs": [
    {
     "data": {
      "text/plain": [
       "positive    288\n",
       "neutral       7\n",
       "negative      5\n",
       "Name: Sentiment, dtype: int64"
      ]
     },
     "execution_count": 169,
     "metadata": {},
     "output_type": "execute_result"
    }
   ],
   "source": [
    "absa['Sentiment'].value_counts()"
   ]
  },
  {
   "cell_type": "code",
   "execution_count": 246,
   "metadata": {},
   "outputs": [],
   "source": [
    "review_aspect_df = pd.read_csv('review_aspect_df_w2v_all_relab.csv')"
   ]
  },
  {
   "cell_type": "code",
   "execution_count": 170,
   "metadata": {},
   "outputs": [
    {
     "data": {
      "text/plain": [
       "Index(['id', 'ACD_w2v', 'avg_score'], dtype='object')"
      ]
     },
     "execution_count": 170,
     "metadata": {},
     "output_type": "execute_result"
    }
   ],
   "source": [
    "review_aspect_df.columns"
   ]
  },
  {
   "cell_type": "code",
   "execution_count": 171,
   "metadata": {},
   "outputs": [
    {
     "data": {
      "text/plain": [
       "(187194, 3)"
      ]
     },
     "execution_count": 171,
     "metadata": {},
     "output_type": "execute_result"
    }
   ],
   "source": [
    "review_aspect_df.shape"
   ]
  },
  {
   "cell_type": "code",
   "execution_count": 172,
   "metadata": {},
   "outputs": [
    {
     "data": {
      "text/plain": [
       "156414"
      ]
     },
     "execution_count": 172,
     "metadata": {},
     "output_type": "execute_result"
    }
   ],
   "source": [
    "review_aspect_df['id'].nunique()"
   ]
  },
  {
   "cell_type": "code",
   "execution_count": 173,
   "metadata": {},
   "outputs": [
    {
     "data": {
      "text/plain": [
       "id\n",
       "563552947             4\n",
       "290385227             4\n",
       "596992940             4\n",
       "524487784790631874    4\n",
       "137422704             4\n",
       "                     ..\n",
       "466351960             1\n",
       "466357195             1\n",
       "466357338             1\n",
       "466361378             1\n",
       "110535                1\n",
       "Name: id, Length: 156414, dtype: int64"
      ]
     },
     "execution_count": 173,
     "metadata": {},
     "output_type": "execute_result"
    }
   ],
   "source": [
    "review_aspect_df.groupby(['id'])['id'].count().sort_values(ascending = False)"
   ]
  },
  {
   "cell_type": "code",
   "execution_count": 174,
   "metadata": {},
   "outputs": [
    {
     "data": {
      "text/html": [
       "<div>\n",
       "<style scoped>\n",
       "    .dataframe tbody tr th:only-of-type {\n",
       "        vertical-align: middle;\n",
       "    }\n",
       "\n",
       "    .dataframe tbody tr th {\n",
       "        vertical-align: top;\n",
       "    }\n",
       "\n",
       "    .dataframe thead th {\n",
       "        text-align: right;\n",
       "    }\n",
       "</style>\n",
       "<table border=\"1\" class=\"dataframe\">\n",
       "  <thead>\n",
       "    <tr style=\"text-align: right;\">\n",
       "      <th></th>\n",
       "      <th>id</th>\n",
       "      <th>ACD_w2v</th>\n",
       "      <th>avg_score</th>\n",
       "    </tr>\n",
       "  </thead>\n",
       "  <tbody>\n",
       "    <tr>\n",
       "      <th>162984</th>\n",
       "      <td>563552947</td>\n",
       "      <td>accurate</td>\n",
       "      <td>2.833333</td>\n",
       "    </tr>\n",
       "    <tr>\n",
       "      <th>162985</th>\n",
       "      <td>563552947</td>\n",
       "      <td>cleanliness</td>\n",
       "      <td>2.833333</td>\n",
       "    </tr>\n",
       "    <tr>\n",
       "      <th>162986</th>\n",
       "      <td>563552947</td>\n",
       "      <td>location</td>\n",
       "      <td>3.208333</td>\n",
       "    </tr>\n",
       "    <tr>\n",
       "      <th>162987</th>\n",
       "      <td>563552947</td>\n",
       "      <td>value</td>\n",
       "      <td>2.916667</td>\n",
       "    </tr>\n",
       "  </tbody>\n",
       "</table>\n",
       "</div>"
      ],
      "text/plain": [
       "               id      ACD_w2v  avg_score\n",
       "162984  563552947     accurate   2.833333\n",
       "162985  563552947  cleanliness   2.833333\n",
       "162986  563552947     location   3.208333\n",
       "162987  563552947        value   2.916667"
      ]
     },
     "execution_count": 174,
     "metadata": {},
     "output_type": "execute_result"
    }
   ],
   "source": [
    "review_aspect_df[review_aspect_df['id']==563552947]"
   ]
  },
  {
   "cell_type": "code",
   "execution_count": 67,
   "metadata": {},
   "outputs": [
    {
     "data": {
      "text/html": [
       "<div>\n",
       "<style scoped>\n",
       "    .dataframe tbody tr th:only-of-type {\n",
       "        vertical-align: middle;\n",
       "    }\n",
       "\n",
       "    .dataframe tbody tr th {\n",
       "        vertical-align: top;\n",
       "    }\n",
       "\n",
       "    .dataframe thead th {\n",
       "        text-align: right;\n",
       "    }\n",
       "</style>\n",
       "<table border=\"1\" class=\"dataframe\">\n",
       "  <thead>\n",
       "    <tr style=\"text-align: right;\">\n",
       "      <th></th>\n",
       "      <th>Unnamed: 0</th>\n",
       "      <th>listing_id</th>\n",
       "      <th>id</th>\n",
       "      <th>date</th>\n",
       "      <th>reviewer_id</th>\n",
       "      <th>reviewer_name</th>\n",
       "      <th>comments</th>\n",
       "      <th>comments_stopwordsrm</th>\n",
       "      <th>comments_stopwordsrm_lemma</th>\n",
       "    </tr>\n",
       "  </thead>\n",
       "  <tbody>\n",
       "    <tr>\n",
       "      <th>246985</th>\n",
       "      <td>356924</td>\n",
       "      <td>14178375</td>\n",
       "      <td>563552947</td>\n",
       "      <td>2019-11-13</td>\n",
       "      <td>14679572.0</td>\n",
       "      <td>Edgar</td>\n",
       "      <td>Not a good value. Noise is a very big issue, w...</td>\n",
       "      <td>not good value noise big issue stayed nights g...</td>\n",
       "      <td>not good value noise big issue stay night good...</td>\n",
       "    </tr>\n",
       "  </tbody>\n",
       "</table>\n",
       "</div>"
      ],
      "text/plain": [
       "       Unnamed: 0 listing_id         id        date  reviewer_id  \\\n",
       "246985     356924   14178375  563552947  2019-11-13   14679572.0   \n",
       "\n",
       "       reviewer_name                                           comments  \\\n",
       "246985         Edgar  Not a good value. Noise is a very big issue, w...   \n",
       "\n",
       "                                     comments_stopwordsrm  \\\n",
       "246985  not good value noise big issue stayed nights g...   \n",
       "\n",
       "                               comments_stopwordsrm_lemma  \n",
       "246985  not good value noise big issue stay night good...  "
      ]
     },
     "execution_count": 67,
     "metadata": {},
     "output_type": "execute_result"
    }
   ],
   "source": [
    "df[df['id']=='563552947']"
   ]
  },
  {
   "cell_type": "code",
   "execution_count": 204,
   "metadata": {},
   "outputs": [
    {
     "data": {
      "text/plain": [
       "(395340, 9)"
      ]
     },
     "execution_count": 204,
     "metadata": {},
     "output_type": "execute_result"
    }
   ],
   "source": [
    "df.shape"
   ]
  },
  {
   "cell_type": "code",
   "execution_count": 122,
   "metadata": {},
   "outputs": [],
   "source": [
    "# to see the output in full\n",
    "pd.options.display.max_columns = None\n",
    "pd.set_option('display.max_colwidth', None)"
   ]
  },
  {
   "cell_type": "code",
   "execution_count": 72,
   "metadata": {},
   "outputs": [
    {
     "data": {
      "text/plain": [
       "246985    Not a good value. Noise is a very big issue, we stayed 4 nights and did not have a good nights rest. I understand it is a historic and busy location, however the walls are paper thin and near impossible to sleep comfortably because you hear everything. The apartment is dated from what is representative in the photos. Not sure if it was just our stay as all others on here say it was sparkling, but the apartment bedroom and bathroom was NOT clean. Ceiling is missing in the bathroom for inspection ( we were told 4 days in advance by owner), which should be fixed soon. The entrance to the apartment also needs to be addressed. The washer and dryer were very easy to use. The kitchen and the common area were as depicted in the pictures. The location is good but its just not worth the value. The cleanliness and noise were our major issues. To travel so far for an underwhelming experience is so disappointing.\n",
       "Name: comments, dtype: object"
      ]
     },
     "metadata": {},
     "output_type": "display_data"
    }
   ],
   "source": [
    "with pd.option_context('display.max_colwidth', None):\n",
    "    display(df[df['id']=='563552947']['comments'])"
   ]
  },
  {
   "cell_type": "code",
   "execution_count": 247,
   "metadata": {},
   "outputs": [],
   "source": [
    "#takes awhile! (keep only largest avg_score of each review)\n",
    "review_aspect_df_filter = review_aspect_df.loc[review_aspect_df.groupby([\"id\"])[\"avg_score\"].idxmax()]   "
   ]
  },
  {
   "cell_type": "code",
   "execution_count": 248,
   "metadata": {},
   "outputs": [
    {
     "data": {
      "text/plain": [
       "(156414, 3)"
      ]
     },
     "execution_count": 248,
     "metadata": {},
     "output_type": "execute_result"
    }
   ],
   "source": [
    "review_aspect_df_filter.shape"
   ]
  },
  {
   "cell_type": "code",
   "execution_count": 249,
   "metadata": {},
   "outputs": [
    {
     "data": {
      "text/html": [
       "<div>\n",
       "<style scoped>\n",
       "    .dataframe tbody tr th:only-of-type {\n",
       "        vertical-align: middle;\n",
       "    }\n",
       "\n",
       "    .dataframe tbody tr th {\n",
       "        vertical-align: top;\n",
       "    }\n",
       "\n",
       "    .dataframe thead th {\n",
       "        text-align: right;\n",
       "    }\n",
       "</style>\n",
       "<table border=\"1\" class=\"dataframe\">\n",
       "  <thead>\n",
       "    <tr style=\"text-align: right;\">\n",
       "      <th></th>\n",
       "      <th>id</th>\n",
       "      <th>ACD_w2v</th>\n",
       "      <th>avg_score</th>\n",
       "    </tr>\n",
       "  </thead>\n",
       "  <tbody>\n",
       "    <tr>\n",
       "      <th>54732</th>\n",
       "      <td>110535</td>\n",
       "      <td>cleanliness</td>\n",
       "      <td>2.916667</td>\n",
       "    </tr>\n",
       "    <tr>\n",
       "      <th>71832</th>\n",
       "      <td>164899</td>\n",
       "      <td>location</td>\n",
       "      <td>3.166667</td>\n",
       "    </tr>\n",
       "    <tr>\n",
       "      <th>72021</th>\n",
       "      <td>165406</td>\n",
       "      <td>location</td>\n",
       "      <td>3.041667</td>\n",
       "    </tr>\n",
       "    <tr>\n",
       "      <th>73074</th>\n",
       "      <td>168792</td>\n",
       "      <td>cleanliness</td>\n",
       "      <td>2.916667</td>\n",
       "    </tr>\n",
       "    <tr>\n",
       "      <th>81699</th>\n",
       "      <td>199839</td>\n",
       "      <td>cleanliness</td>\n",
       "      <td>2.916667</td>\n",
       "    </tr>\n",
       "  </tbody>\n",
       "</table>\n",
       "</div>"
      ],
      "text/plain": [
       "           id      ACD_w2v  avg_score\n",
       "54732  110535  cleanliness   2.916667\n",
       "71832  164899     location   3.166667\n",
       "72021  165406     location   3.041667\n",
       "73074  168792  cleanliness   2.916667\n",
       "81699  199839  cleanliness   2.916667"
      ]
     },
     "execution_count": 249,
     "metadata": {},
     "output_type": "execute_result"
    }
   ],
   "source": [
    "review_aspect_df_filter.head()"
   ]
  },
  {
   "cell_type": "code",
   "execution_count": 250,
   "metadata": {},
   "outputs": [
    {
     "data": {
      "text/plain": [
       "156414"
      ]
     },
     "execution_count": 250,
     "metadata": {},
     "output_type": "execute_result"
    }
   ],
   "source": [
    "review_aspect_df_filter['id'].nunique()"
   ]
  },
  {
   "cell_type": "code",
   "execution_count": 236,
   "metadata": {},
   "outputs": [
    {
     "data": {
      "text/plain": [
       "Index(['Unnamed: 0', 'listing_id', 'id', 'date', 'reviewer_id',\n",
       "       'reviewer_name', 'comments', 'comments_stopwordsrm',\n",
       "       'comments_stopwordsrm_lemma'],\n",
       "      dtype='object')"
      ]
     },
     "execution_count": 236,
     "metadata": {},
     "output_type": "execute_result"
    }
   ],
   "source": [
    "df.columns"
   ]
  },
  {
   "cell_type": "code",
   "execution_count": 212,
   "metadata": {},
   "outputs": [
    {
     "name": "stdout",
     "output_type": "stream",
     "text": [
      "<class 'pandas.core.frame.DataFrame'>\n",
      "RangeIndex: 395340 entries, 0 to 395339\n",
      "Data columns (total 9 columns):\n",
      " #   Column                      Non-Null Count   Dtype  \n",
      "---  ------                      --------------   -----  \n",
      " 0   Unnamed: 0                  395340 non-null  object \n",
      " 1   listing_id                  391546 non-null  object \n",
      " 2   id                          391546 non-null  object \n",
      " 3   date                        388937 non-null  object \n",
      " 4   reviewer_id                 388937 non-null  float64\n",
      " 5   reviewer_name               388937 non-null  object \n",
      " 6   comments                    388912 non-null  object \n",
      " 7   comments_stopwordsrm        384457 non-null  object \n",
      " 8   comments_stopwordsrm_lemma  384457 non-null  object \n",
      "dtypes: float64(1), object(8)\n",
      "memory usage: 27.1+ MB\n"
     ]
    }
   ],
   "source": [
    "df.info()"
   ]
  },
  {
   "cell_type": "code",
   "execution_count": 237,
   "metadata": {},
   "outputs": [
    {
     "data": {
      "text/plain": [
       "'4808211'"
      ]
     },
     "execution_count": 237,
     "metadata": {},
     "output_type": "execute_result"
    }
   ],
   "source": [
    "df['id'][0]"
   ]
  },
  {
   "cell_type": "code",
   "execution_count": 251,
   "metadata": {},
   "outputs": [
    {
     "data": {
      "text/plain": [
       "155565231"
      ]
     },
     "execution_count": 251,
     "metadata": {},
     "output_type": "execute_result"
    }
   ],
   "source": [
    "review_aspect_df_filter['id'][0]"
   ]
  },
  {
   "cell_type": "code",
   "execution_count": 228,
   "metadata": {},
   "outputs": [],
   "source": [
    "##convert int id to string\n",
    "#review_aspect_df_merge_filter['id'] = [str(x) for x in review_aspect_df_merge_filter['id']]"
   ]
  },
  {
   "cell_type": "code",
   "execution_count": 252,
   "metadata": {},
   "outputs": [],
   "source": [
    "def sentiment_vibe(score):\n",
    "    if score > 2.5:\n",
    "        return \"positive\"\n",
    "    elif score <2.5:\n",
    "        return 'negative'\n",
    "    else:\n",
    "        return 'neutral'"
   ]
  },
  {
   "cell_type": "code",
   "execution_count": 253,
   "metadata": {},
   "outputs": [],
   "source": [
    "review_aspect_df_filter['sentiment']= review_aspect_df_filter['avg_score'].apply(sentiment_vibe)"
   ]
  },
  {
   "cell_type": "code",
   "execution_count": 254,
   "metadata": {},
   "outputs": [],
   "source": [
    "#merge in columns from reviews df\n",
    "reviewsdf2merge = df[['id','listing_id','comments', 'comments_stopwordsrm_lemma']]\n",
    "#review_aspect_df_merge_filter = review_aspect_df_merge_filter.merge(reviewsdf2merge, on = 'id', how='left')"
   ]
  },
  {
   "cell_type": "code",
   "execution_count": 258,
   "metadata": {},
   "outputs": [
    {
     "data": {
      "text/plain": [
       "(156414, 4)"
      ]
     },
     "execution_count": 258,
     "metadata": {},
     "output_type": "execute_result"
    }
   ],
   "source": [
    "review_aspect_df_filter.shape"
   ]
  },
  {
   "cell_type": "code",
   "execution_count": 259,
   "metadata": {},
   "outputs": [
    {
     "data": {
      "text/html": [
       "<div>\n",
       "<style scoped>\n",
       "    .dataframe tbody tr th:only-of-type {\n",
       "        vertical-align: middle;\n",
       "    }\n",
       "\n",
       "    .dataframe tbody tr th {\n",
       "        vertical-align: top;\n",
       "    }\n",
       "\n",
       "    .dataframe thead th {\n",
       "        text-align: right;\n",
       "    }\n",
       "</style>\n",
       "<table border=\"1\" class=\"dataframe\">\n",
       "  <thead>\n",
       "    <tr style=\"text-align: right;\">\n",
       "      <th></th>\n",
       "      <th>id</th>\n",
       "      <th>ACD_w2v</th>\n",
       "      <th>avg_score</th>\n",
       "      <th>sentiment</th>\n",
       "    </tr>\n",
       "  </thead>\n",
       "  <tbody>\n",
       "    <tr>\n",
       "      <th>54732</th>\n",
       "      <td>110535</td>\n",
       "      <td>cleanliness</td>\n",
       "      <td>2.916667</td>\n",
       "      <td>positive</td>\n",
       "    </tr>\n",
       "    <tr>\n",
       "      <th>71832</th>\n",
       "      <td>164899</td>\n",
       "      <td>location</td>\n",
       "      <td>3.166667</td>\n",
       "      <td>positive</td>\n",
       "    </tr>\n",
       "    <tr>\n",
       "      <th>72021</th>\n",
       "      <td>165406</td>\n",
       "      <td>location</td>\n",
       "      <td>3.041667</td>\n",
       "      <td>positive</td>\n",
       "    </tr>\n",
       "    <tr>\n",
       "      <th>73074</th>\n",
       "      <td>168792</td>\n",
       "      <td>cleanliness</td>\n",
       "      <td>2.916667</td>\n",
       "      <td>positive</td>\n",
       "    </tr>\n",
       "    <tr>\n",
       "      <th>81699</th>\n",
       "      <td>199839</td>\n",
       "      <td>cleanliness</td>\n",
       "      <td>2.916667</td>\n",
       "      <td>positive</td>\n",
       "    </tr>\n",
       "  </tbody>\n",
       "</table>\n",
       "</div>"
      ],
      "text/plain": [
       "           id      ACD_w2v  avg_score sentiment\n",
       "54732  110535  cleanliness   2.916667  positive\n",
       "71832  164899     location   3.166667  positive\n",
       "72021  165406     location   3.041667  positive\n",
       "73074  168792  cleanliness   2.916667  positive\n",
       "81699  199839  cleanliness   2.916667  positive"
      ]
     },
     "execution_count": 259,
     "metadata": {},
     "output_type": "execute_result"
    }
   ],
   "source": [
    "review_aspect_df_filter.head()"
   ]
  },
  {
   "cell_type": "code",
   "execution_count": 260,
   "metadata": {},
   "outputs": [
    {
     "data": {
      "text/plain": [
       "155565231"
      ]
     },
     "execution_count": 260,
     "metadata": {},
     "output_type": "execute_result"
    }
   ],
   "source": [
    "review_aspect_df_filter['id'][0]"
   ]
  },
  {
   "cell_type": "code",
   "execution_count": 261,
   "metadata": {},
   "outputs": [],
   "source": [
    "review_aspect_df_filter['id'] = [str(x) for x in review_aspect_df_filter['id']]"
   ]
  },
  {
   "cell_type": "code",
   "execution_count": 262,
   "metadata": {},
   "outputs": [
    {
     "data": {
      "text/plain": [
       "'155565231'"
      ]
     },
     "execution_count": 262,
     "metadata": {},
     "output_type": "execute_result"
    }
   ],
   "source": [
    "review_aspect_df_filter['id'][0]"
   ]
  },
  {
   "cell_type": "code",
   "execution_count": 270,
   "metadata": {},
   "outputs": [
    {
     "data": {
      "text/plain": [
       "Series([], Name: comments_stopwordsrm_lemma, dtype: object)"
      ]
     },
     "execution_count": 270,
     "metadata": {},
     "output_type": "execute_result"
    }
   ],
   "source": [
    "df[df['id'].isin(['155565231'])]['comments_stopwordsrm_lemma']"
   ]
  },
  {
   "cell_type": "code",
   "execution_count": null,
   "metadata": {},
   "outputs": [],
   "source": [
    "df[df['id'].isin(['164899'])]['comments_stopwordsrm_lemma']"
   ]
  },
  {
   "cell_type": "code",
   "execution_count": 199,
   "metadata": {},
   "outputs": [
    {
     "name": "stdout",
     "output_type": "stream",
     "text": [
      "<class 'pandas.core.frame.DataFrame'>\n",
      "Int64Index: 156414 entries, 0 to 156413\n",
      "Data columns (total 7 columns):\n",
      " #   Column                      Non-Null Count   Dtype  \n",
      "---  ------                      --------------   -----  \n",
      " 0   id                          156414 non-null  object \n",
      " 1   ACD_w2v                     156414 non-null  object \n",
      " 2   avg_score                   156414 non-null  float64\n",
      " 3   listing_id                  50382 non-null   object \n",
      " 4   comments                    50382 non-null   object \n",
      " 5   comments_stopwordsrm_lemma  50382 non-null   object \n",
      " 6   sentiment                   156414 non-null  object \n",
      "dtypes: float64(1), object(6)\n",
      "memory usage: 9.5+ MB\n"
     ]
    }
   ],
   "source": [
    "review_aspect_df_merge_filter2.info()"
   ]
  },
  {
   "cell_type": "code",
   "execution_count": 191,
   "metadata": {},
   "outputs": [
    {
     "data": {
      "text/plain": [
       "0             208136450\n",
       "1    574451000000000000\n",
       "2              52814653\n",
       "3    475841000000000000\n",
       "4             192308789\n",
       "5              84304799\n",
       "6             173246323\n",
       "7             593244186\n",
       "8             132485793\n",
       "9              91321053\n",
       "Name: id, dtype: int64"
      ]
     },
     "execution_count": 191,
     "metadata": {},
     "output_type": "execute_result"
    }
   ],
   "source": [
    "#test id to filter out from data_noisy\n",
    "testidx[:10]"
   ]
  },
  {
   "cell_type": "code",
   "execution_count": 200,
   "metadata": {},
   "outputs": [],
   "source": [
    "data_noisy_train = review_aspect_df_merge_filter2[~review_aspect_df_merge_filter2['id'].isin(testidx)]"
   ]
  },
  {
   "cell_type": "code",
   "execution_count": 201,
   "metadata": {},
   "outputs": [],
   "source": [
    "data_noisy_test =review_aspect_df_merge_filter2[review_aspect_df_merge_filter2['id'].isin(testidx)]"
   ]
  },
  {
   "cell_type": "code",
   "execution_count": 164,
   "metadata": {},
   "outputs": [],
   "source": [
    "#export!\n",
    "import csv\n",
    "#review_aspect_df_merge_filter.to_csv('review_aspect_df_merge_filter.csv',sep=\",\",quotechar='\"',index=False,\n",
    "            #quoting=csv.QUOTE_ALL)"
   ]
  },
  {
   "cell_type": "code",
   "execution_count": 202,
   "metadata": {},
   "outputs": [],
   "source": [
    "data_noisy_train.to_csv('data_noisy_train.csv',sep=\",\",quotechar='\"',index=False,\n",
    "            quoting=csv.QUOTE_ALL)"
   ]
  },
  {
   "cell_type": "code",
   "execution_count": 203,
   "metadata": {},
   "outputs": [],
   "source": [
    "data_noisy_test.to_csv('data_noisy_test.csv',sep=\",\",quotechar='\"',index=False,\n",
    "            quoting=csv.QUOTE_ALL)"
   ]
  },
  {
   "cell_type": "code",
   "execution_count": 92,
   "metadata": {},
   "outputs": [],
   "source": [
    "#if there is multiple tags for one review, assign cat based on max score (strongest)\n",
    "review_aspect_df300 = review_aspect_df[review_aspect_df['id'].isin([str(x) for x in id2filter])]\n",
    "#.groupby(['id'])['avg_score'].max()"
   ]
  },
  {
   "cell_type": "code",
   "execution_count": 93,
   "metadata": {},
   "outputs": [
    {
     "data": {
      "text/plain": [
       "103"
      ]
     },
     "execution_count": 93,
     "metadata": {},
     "output_type": "execute_result"
    }
   ],
   "source": [
    "review_aspect_df300['id'].nunique() #the match rate is low! only 1/3"
   ]
  },
  {
   "cell_type": "code",
   "execution_count": 94,
   "metadata": {},
   "outputs": [],
   "source": [
    "#do the tie breaker first!\n",
    "#idx = review_aspect_df300.groupby(['id'])['avg_score'].transform(max) == review_aspect_df300['avg_score']\n",
    "#idx\n",
    "review_aspect_df300_filter = review_aspect_df300.loc[review_aspect_df300.groupby([\"id\"])[\"avg_score\"].idxmax()]      \n",
    "#review_aspect_df300_filter = review_aspect_df300.groupby(['id'])['avg_score'].max()"
   ]
  },
  {
   "cell_type": "code",
   "execution_count": 100,
   "metadata": {},
   "outputs": [
    {
     "data": {
      "text/plain": [
       "<matplotlib.axes._subplots.AxesSubplot at 0x7fed211da3c8>"
      ]
     },
     "execution_count": 100,
     "metadata": {},
     "output_type": "execute_result"
    },
    {
     "data": {
      "image/png": "[encoded data removed]",
      "text/plain": [
       "<Figure size 432x288 with 1 Axes>"
      ]
     },
     "metadata": {
      "needs_background": "light"
     },
     "output_type": "display_data"
    }
   ],
   "source": [
    "review_aspect_df300_filter['avg_score'].hist()"
   ]
  },
  {
   "cell_type": "code",
   "execution_count": 101,
   "metadata": {},
   "outputs": [],
   "source": [
    "def sentiment_vibe(score):\n",
    "    if score > 2.5:\n",
    "        return \"positive\"\n",
    "    elif score <2.5:\n",
    "        return 'negative'\n",
    "    else:\n",
    "        return 'neutral'\n",
    "\n",
    "\n",
    "##BASED ON SENTIWORDNET\n",
    "review_aspect_df300_filter['sentiment']= review_aspect_df300_filter['avg_score'].apply(sentiment_vibe)"
   ]
  },
  {
   "cell_type": "code",
   "execution_count": 102,
   "metadata": {},
   "outputs": [
    {
     "data": {
      "text/plain": [
       "(103, 4)"
      ]
     },
     "execution_count": 102,
     "metadata": {},
     "output_type": "execute_result"
    }
   ],
   "source": [
    "review_aspect_df300_filter.shape"
   ]
  },
  {
   "cell_type": "code",
   "execution_count": 103,
   "metadata": {},
   "outputs": [
    {
     "name": "stdout",
     "output_type": "stream",
     "text": [
      "<class 'pandas.core.frame.DataFrame'>\n",
      "Int64Index: 103 entries, 144289 to 34233\n",
      "Data columns (total 4 columns):\n",
      " #   Column     Non-Null Count  Dtype  \n",
      "---  ------     --------------  -----  \n",
      " 0   id         103 non-null    int64  \n",
      " 1   ACD_w2v    103 non-null    object \n",
      " 2   avg_score  103 non-null    float64\n",
      " 3   sentiment  103 non-null    object \n",
      "dtypes: float64(1), int64(1), object(2)\n",
      "memory usage: 4.0+ KB\n"
     ]
    }
   ],
   "source": [
    "review_aspect_df300_filter.info()"
   ]
  },
  {
   "cell_type": "code",
   "execution_count": 87,
   "metadata": {},
   "outputs": [],
   "source": [
    "#convert to string\n",
    "#review_aspect_df300_filter['id'] = [str(x) for x in review_aspect_df300_filter['id']]"
   ]
  },
  {
   "cell_type": "code",
   "execution_count": 105,
   "metadata": {},
   "outputs": [
    {
     "data": {
      "text/plain": [
       "location       52\n",
       "cleanliness    35\n",
       "communicate    10\n",
       "value           6\n",
       "Name: ACD_w2v, dtype: int64"
      ]
     },
     "execution_count": 105,
     "metadata": {},
     "output_type": "execute_result"
    }
   ],
   "source": [
    "review_aspect_df300_filter['ACD_w2v'].value_counts()"
   ]
  },
  {
   "cell_type": "code",
   "execution_count": 106,
   "metadata": {},
   "outputs": [
    {
     "data": {
      "text/plain": [
       "location       127\n",
       "communicate     75\n",
       "value           52\n",
       "cleanliness     35\n",
       "accurate        11\n",
       "Name: Category, dtype: int64"
      ]
     },
     "execution_count": 106,
     "metadata": {},
     "output_type": "execute_result"
    }
   ],
   "source": [
    "absa['Category'].value_counts()"
   ]
  },
  {
   "cell_type": "code",
   "execution_count": 107,
   "metadata": {},
   "outputs": [
    {
     "data": {
      "text/plain": [
       "positive    98\n",
       "neutral      4\n",
       "negative     1\n",
       "Name: sentiment, dtype: int64"
      ]
     },
     "execution_count": 107,
     "metadata": {},
     "output_type": "execute_result"
    }
   ],
   "source": [
    "review_aspect_df300_filter['sentiment'].value_counts()"
   ]
  },
  {
   "cell_type": "code",
   "execution_count": 108,
   "metadata": {},
   "outputs": [
    {
     "data": {
      "text/plain": [
       "positive    288\n",
       "neutral       7\n",
       "negative      5\n",
       "Name: Sentiment, dtype: int64"
      ]
     },
     "execution_count": 108,
     "metadata": {},
     "output_type": "execute_result"
    }
   ],
   "source": [
    "absa['Sentiment'].value_counts()"
   ]
  },
  {
   "cell_type": "code",
   "execution_count": 109,
   "metadata": {},
   "outputs": [
    {
     "data": {
      "text/plain": [
       "Index(['id', 'ACD_w2v', 'avg_score', 'sentiment'], dtype='object')"
      ]
     },
     "execution_count": 109,
     "metadata": {},
     "output_type": "execute_result"
    }
   ],
   "source": [
    "review_aspect_df300_filter.columns"
   ]
  },
  {
   "cell_type": "code",
   "execution_count": 129,
   "metadata": {},
   "outputs": [
    {
     "data": {
      "text/plain": [
       "Index(['S/N', 'In-charge', 'listing_id', 'id', 'date', 'reviewer_id',\n",
       "       'reviewer_name', 'comments', 'comments_stopwordsrm',\n",
       "       'comments_stopwordsrm_lemma', 'accuracy_entity', 'accuracy_aspect',\n",
       "       'accuracy_score', 'clean_entity', 'clean_aspect', 'clean_score',\n",
       "       'communicate_entity', 'communicate_aspect', 'communicate_score',\n",
       "       'value_entity', 'value_aspect', 'value_score', 'location_entity',\n",
       "       'location_aspect', 'location_score', 'Category', 'Sentiment',\n",
       "       'accuracy_merged', 'clean_merged', 'communicate_merged', 'value_merged',\n",
       "       'location_merged'],\n",
       "      dtype='object')"
      ]
     },
     "execution_count": 129,
     "metadata": {},
     "output_type": "execute_result"
    }
   ],
   "source": [
    "absa.columns"
   ]
  },
  {
   "cell_type": "code",
   "execution_count": 138,
   "metadata": {},
   "outputs": [],
   "source": [
    "#merge to labels for checking!\n",
    "review_aspect_df300_filter_merged = review_aspect_df300_filter.merge(absa[['id','comments', 'Category', 'Sentiment']], on= 'id')"
   ]
  },
  {
   "cell_type": "code",
   "execution_count": 139,
   "metadata": {},
   "outputs": [
    {
     "data": {
      "text/plain": [
       "Index(['id', 'ACD_w2v', 'avg_score', 'sentiment', 'comments', 'Category',\n",
       "       'Sentiment'],\n",
       "      dtype='object')"
      ]
     },
     "execution_count": 139,
     "metadata": {},
     "output_type": "execute_result"
    }
   ],
   "source": [
    "review_aspect_df300_filter_merged.columns"
   ]
  },
  {
   "cell_type": "code",
   "execution_count": 165,
   "metadata": {},
   "outputs": [],
   "source": [
    "review_aspect_df300_filter.to_csv('review_aspect_df300_filter.csv',sep=\",\",quotechar='\"',index=False,\n",
    "            quoting=csv.QUOTE_ALL)"
   ]
  },
  {
   "cell_type": "code",
   "execution_count": 140,
   "metadata": {},
   "outputs": [],
   "source": [
    "word2vec_result_V2 =review_aspect_df300_filter_merged"
   ]
  },
  {
   "cell_type": "code",
   "execution_count": 141,
   "metadata": {},
   "outputs": [],
   "source": [
    "word2vec_result_V2.columns = ['id', 'category', 'avg_score', 'sentiment', 'review', 'Category', 'Sentiment']"
   ]
  },
  {
   "cell_type": "code",
   "execution_count": null,
   "metadata": {},
   "outputs": [],
   "source": [
    "#sentiment = predicted sentiment\n",
    "#category = predicted category"
   ]
  },
  {
   "cell_type": "code",
   "execution_count": 142,
   "metadata": {},
   "outputs": [
    {
     "data": {
      "text/html": [
       "<div>\n",
       "<style scoped>\n",
       "    .dataframe tbody tr th:only-of-type {\n",
       "        vertical-align: middle;\n",
       "    }\n",
       "\n",
       "    .dataframe tbody tr th {\n",
       "        vertical-align: top;\n",
       "    }\n",
       "\n",
       "    .dataframe thead th {\n",
       "        text-align: right;\n",
       "    }\n",
       "</style>\n",
       "<table border=\"1\" class=\"dataframe\">\n",
       "  <thead>\n",
       "    <tr style=\"text-align: right;\">\n",
       "      <th></th>\n",
       "      <th>id</th>\n",
       "      <th>category</th>\n",
       "      <th>avg_score</th>\n",
       "      <th>sentiment</th>\n",
       "      <th>review</th>\n",
       "      <th>Category</th>\n",
       "      <th>Sentiment</th>\n",
       "      <th>error_sent</th>\n",
       "    </tr>\n",
       "  </thead>\n",
       "  <tbody>\n",
       "    <tr>\n",
       "      <th>0</th>\n",
       "      <td>4845409</td>\n",
       "      <td>cleanliness</td>\n",
       "      <td>3.000000</td>\n",
       "      <td>positive</td>\n",
       "      <td>Silvia's apartment was perfect. Very clean, exactly as in the pictures and very comfortable beds.\\r&lt;br/&gt;\\r&lt;br/&gt;In addition, Silvia is the perfect host. She went the extra mile by providing fresh bathroom slippers, towels, soap etc. Also we requested a late check-out which was no problem and provided at no extra charge.\\r&lt;br/&gt;\\r&lt;br/&gt;A truly positive experience. If I go back to Barcelona, I will be sure to contact Silvia again.</td>\n",
       "      <td>cleanliness</td>\n",
       "      <td>positive</td>\n",
       "      <td>0</td>\n",
       "    </tr>\n",
       "    <tr>\n",
       "      <th>1</th>\n",
       "      <td>5064565</td>\n",
       "      <td>location</td>\n",
       "      <td>3.333333</td>\n",
       "      <td>positive</td>\n",
       "      <td>Very plaisant place, clean and great location! Good localisation, very close from the subway. Nice area. Flat spacious with all equipment. Dimitri was very nice and complaisant. Very recommanded!!!</td>\n",
       "      <td>cleanliness</td>\n",
       "      <td>positive</td>\n",
       "      <td>0</td>\n",
       "    </tr>\n",
       "    <tr>\n",
       "      <th>2</th>\n",
       "      <td>9329367</td>\n",
       "      <td>location</td>\n",
       "      <td>2.833333</td>\n",
       "      <td>positive</td>\n",
       "      <td>Great host! Address all our questions in a timely manner. Was able to arrange a DVD player for us because we are spending Christmas in Barcelona and most sights are closed. \\r&lt;br/&gt;\\r&lt;br/&gt;Spacious apartment, plenty of room for our family of 8 (4 couples, age range from 20s-80s), room are good size for sharing. Lots of utensils, sufficient for cooking a Christmas meal at the apartment. Everyone is happy with the apartment and location. \\r&lt;br/&gt;\\r&lt;br/&gt;Great neighborhood, we were able to walk to most sights within 10-30 minutes. Only 10-15 min walk to Plaza Catalunya. Highly recommended. You get what you see. Great for large groups.</td>\n",
       "      <td>communicate</td>\n",
       "      <td>positive</td>\n",
       "      <td>0</td>\n",
       "    </tr>\n",
       "    <tr>\n",
       "      <th>3</th>\n",
       "      <td>12186167</td>\n",
       "      <td>cleanliness</td>\n",
       "      <td>2.916667</td>\n",
       "      <td>positive</td>\n",
       "      <td>Our stay at David`s Apartment was perfect. It is very well located and you can reach everything very easily. The Apartment was very clean, and modern. Fully equipped with two balconies, even a Nespresso coffee machine. We stayed 5 nights and would always come back!</td>\n",
       "      <td>location</td>\n",
       "      <td>positive</td>\n",
       "      <td>0</td>\n",
       "    </tr>\n",
       "    <tr>\n",
       "      <th>4</th>\n",
       "      <td>13649065</td>\n",
       "      <td>cleanliness</td>\n",
       "      <td>3.333333</td>\n",
       "      <td>positive</td>\n",
       "      <td>The apartment was great and very comfortable for the our company. All of the amenities that can be expected were there and the apartment was very clean and taken care of. Elsa was very helpful and accomodating. The neighbourhood was a good place to have as a base. Even though it is Close to the Sagrada Familia, it was a local, residential area.</td>\n",
       "      <td>cleanliness</td>\n",
       "      <td>positive</td>\n",
       "      <td>0</td>\n",
       "    </tr>\n",
       "  </tbody>\n",
       "</table>\n",
       "</div>"
      ],
      "text/plain": [
       "         id     category  avg_score sentiment  \\\n",
       "0   4845409  cleanliness   3.000000  positive   \n",
       "1   5064565     location   3.333333  positive   \n",
       "2   9329367     location   2.833333  positive   \n",
       "3  12186167  cleanliness   2.916667  positive   \n",
       "4  13649065  cleanliness   3.333333  positive   \n",
       "\n",
       "                                                                                                                                                                                                                                                                                                                                                                                                                                                                                                                                                                                                                                                         review  \\\n",
       "0                                                                                                                                                                                                                Silvia's apartment was perfect. Very clean, exactly as in the pictures and very comfortable beds.\\r<br/>\\r<br/>In addition, Silvia is the perfect host. She went the extra mile by providing fresh bathroom slippers, towels, soap etc. Also we requested a late check-out which was no problem and provided at no extra charge.\\r<br/>\\r<br/>A truly positive experience. If I go back to Barcelona, I will be sure to contact Silvia again.    \n",
       "1                                                                                                                                                                                                                                                                                                                                                                                                                                                         Very plaisant place, clean and great location! Good localisation, very close from the subway. Nice area. Flat spacious with all equipment. Dimitri was very nice and complaisant. Very recommanded!!!   \n",
       "2  Great host! Address all our questions in a timely manner. Was able to arrange a DVD player for us because we are spending Christmas in Barcelona and most sights are closed. \\r<br/>\\r<br/>Spacious apartment, plenty of room for our family of 8 (4 couples, age range from 20s-80s), room are good size for sharing. Lots of utensils, sufficient for cooking a Christmas meal at the apartment. Everyone is happy with the apartment and location. \\r<br/>\\r<br/>Great neighborhood, we were able to walk to most sights within 10-30 minutes. Only 10-15 min walk to Plaza Catalunya. Highly recommended. You get what you see. Great for large groups.    \n",
       "3                                                                                                                                                                                                                                                                                                                                                                                    Our stay at David`s Apartment was perfect. It is very well located and you can reach everything very easily. The Apartment was very clean, and modern. Fully equipped with two balconies, even a Nespresso coffee machine. We stayed 5 nights and would always come back!    \n",
       "4                                                                                                                                                                                                                                                                                                    The apartment was great and very comfortable for the our company. All of the amenities that can be expected were there and the apartment was very clean and taken care of. Elsa was very helpful and accomodating. The neighbourhood was a good place to have as a base. Even though it is Close to the Sagrada Familia, it was a local, residential area.   \n",
       "\n",
       "      Category Sentiment  error_sent  \n",
       "0  cleanliness  positive           0  \n",
       "1  cleanliness  positive           0  \n",
       "2  communicate  positive           0  \n",
       "3     location  positive           0  \n",
       "4  cleanliness  positive           0  "
      ]
     },
     "execution_count": 142,
     "metadata": {},
     "output_type": "execute_result"
    }
   ],
   "source": [
    "#check performance on the 103 tagged vs true labels\n",
    "import numpy as np\n",
    "word2vec_result_V2['error_sent'] = np.where(word2vec_result_V2['sentiment']!=word2vec_result_V2['Sentiment'], 1, 0)\n",
    "word2vec_result_V2.head()"
   ]
  },
  {
   "cell_type": "code",
   "execution_count": 143,
   "metadata": {},
   "outputs": [
    {
     "data": {
      "text/plain": [
       "Text(0.5, 1.0, 'Word2Vec Confusion Matrix - Sentiment')"
      ]
     },
     "execution_count": 143,
     "metadata": {},
     "output_type": "execute_result"
    },
    {
     "data": {
      "image/png": "[encoded data removed]",
      "text/plain": [
       "<Figure size 432x288 with 2 Axes>"
      ]
     },
     "metadata": {
      "needs_background": "light"
     },
     "output_type": "display_data"
    }
   ],
   "source": [
    "import seaborn as sns\n",
    "confusion_matrix_word2vec_sent = pd.crosstab(word2vec_result_V2['Sentiment'], word2vec_result_V2['sentiment'], rownames=['y_actual'], colnames=['y_pred'], margins = True)\n",
    "confusion_matrix_word2vec_sent.drop('All', inplace=True, axis=1)\n",
    "confusion_matrix_word2vec_sent.drop('All', inplace=True)\n",
    "sns.heatmap(confusion_matrix_word2vec_sent, annot=True, fmt='g')\n",
    "plt.title('Word2Vec Confusion Matrix - Sentiment')"
   ]
  },
  {
   "cell_type": "code",
   "execution_count": 144,
   "metadata": {},
   "outputs": [
    {
     "data": {
      "text/plain": [
       "Text(0.5, 1.0, 'Word2Vec Confusion Matrix - Category')"
      ]
     },
     "execution_count": 144,
     "metadata": {},
     "output_type": "execute_result"
    },
    {
     "data": {
      "image/png": "[encoded data removed]",
      "text/plain": [
       "<Figure size 432x288 with 2 Axes>"
      ]
     },
     "metadata": {
      "needs_background": "light"
     },
     "output_type": "display_data"
    }
   ],
   "source": [
    "confusion_matrix_word2vec = pd.crosstab(word2vec_result_V2['Category'], word2vec_result_V2['category'], rownames=['y_actual'], colnames=['y_pred'], margins = True)\n",
    "confusion_matrix_word2vec.drop('All', inplace=True, axis=1)\n",
    "confusion_matrix_word2vec.drop('All', inplace=True)\n",
    "sns.heatmap(confusion_matrix_word2vec, annot=True)\n",
    "plt.title('Word2Vec Confusion Matrix - Category')"
   ]
  },
  {
   "cell_type": "code",
   "execution_count": 145,
   "metadata": {},
   "outputs": [
    {
     "data": {
      "text/html": [
       "<div>\n",
       "<style scoped>\n",
       "    .dataframe tbody tr th:only-of-type {\n",
       "        vertical-align: middle;\n",
       "    }\n",
       "\n",
       "    .dataframe tbody tr th {\n",
       "        vertical-align: top;\n",
       "    }\n",
       "\n",
       "    .dataframe thead th {\n",
       "        text-align: right;\n",
       "    }\n",
       "</style>\n",
       "<table border=\"1\" class=\"dataframe\">\n",
       "  <thead>\n",
       "    <tr style=\"text-align: right;\">\n",
       "      <th></th>\n",
       "      <th>id</th>\n",
       "      <th>category</th>\n",
       "      <th>avg_score</th>\n",
       "      <th>sentiment</th>\n",
       "      <th>review</th>\n",
       "      <th>Category</th>\n",
       "      <th>Sentiment</th>\n",
       "      <th>error_sent</th>\n",
       "      <th>error_cat</th>\n",
       "    </tr>\n",
       "  </thead>\n",
       "  <tbody>\n",
       "    <tr>\n",
       "      <th>0</th>\n",
       "      <td>4845409</td>\n",
       "      <td>cleanliness</td>\n",
       "      <td>3.000000</td>\n",
       "      <td>positive</td>\n",
       "      <td>Silvia's apartment was perfect. Very clean, exactly as in the pictures and very comfortable beds.\\r&lt;br/&gt;\\r&lt;br/&gt;In addition, Silvia is the perfect host. She went the extra mile by providing fresh bathroom slippers, towels, soap etc. Also we requested a late check-out which was no problem and provided at no extra charge.\\r&lt;br/&gt;\\r&lt;br/&gt;A truly positive experience. If I go back to Barcelona, I will be sure to contact Silvia again.</td>\n",
       "      <td>cleanliness</td>\n",
       "      <td>positive</td>\n",
       "      <td>0</td>\n",
       "      <td>0</td>\n",
       "    </tr>\n",
       "    <tr>\n",
       "      <th>1</th>\n",
       "      <td>5064565</td>\n",
       "      <td>location</td>\n",
       "      <td>3.333333</td>\n",
       "      <td>positive</td>\n",
       "      <td>Very plaisant place, clean and great location! Good localisation, very close from the subway. Nice area. Flat spacious with all equipment. Dimitri was very nice and complaisant. Very recommanded!!!</td>\n",
       "      <td>cleanliness</td>\n",
       "      <td>positive</td>\n",
       "      <td>0</td>\n",
       "      <td>1</td>\n",
       "    </tr>\n",
       "    <tr>\n",
       "      <th>2</th>\n",
       "      <td>9329367</td>\n",
       "      <td>location</td>\n",
       "      <td>2.833333</td>\n",
       "      <td>positive</td>\n",
       "      <td>Great host! Address all our questions in a timely manner. Was able to arrange a DVD player for us because we are spending Christmas in Barcelona and most sights are closed. \\r&lt;br/&gt;\\r&lt;br/&gt;Spacious apartment, plenty of room for our family of 8 (4 couples, age range from 20s-80s), room are good size for sharing. Lots of utensils, sufficient for cooking a Christmas meal at the apartment. Everyone is happy with the apartment and location. \\r&lt;br/&gt;\\r&lt;br/&gt;Great neighborhood, we were able to walk to most sights within 10-30 minutes. Only 10-15 min walk to Plaza Catalunya. Highly recommended. You get what you see. Great for large groups.</td>\n",
       "      <td>communicate</td>\n",
       "      <td>positive</td>\n",
       "      <td>0</td>\n",
       "      <td>1</td>\n",
       "    </tr>\n",
       "    <tr>\n",
       "      <th>3</th>\n",
       "      <td>12186167</td>\n",
       "      <td>cleanliness</td>\n",
       "      <td>2.916667</td>\n",
       "      <td>positive</td>\n",
       "      <td>Our stay at David`s Apartment was perfect. It is very well located and you can reach everything very easily. The Apartment was very clean, and modern. Fully equipped with two balconies, even a Nespresso coffee machine. We stayed 5 nights and would always come back!</td>\n",
       "      <td>location</td>\n",
       "      <td>positive</td>\n",
       "      <td>0</td>\n",
       "      <td>1</td>\n",
       "    </tr>\n",
       "    <tr>\n",
       "      <th>4</th>\n",
       "      <td>13649065</td>\n",
       "      <td>cleanliness</td>\n",
       "      <td>3.333333</td>\n",
       "      <td>positive</td>\n",
       "      <td>The apartment was great and very comfortable for the our company. All of the amenities that can be expected were there and the apartment was very clean and taken care of. Elsa was very helpful and accomodating. The neighbourhood was a good place to have as a base. Even though it is Close to the Sagrada Familia, it was a local, residential area.</td>\n",
       "      <td>cleanliness</td>\n",
       "      <td>positive</td>\n",
       "      <td>0</td>\n",
       "      <td>0</td>\n",
       "    </tr>\n",
       "  </tbody>\n",
       "</table>\n",
       "</div>"
      ],
      "text/plain": [
       "         id     category  avg_score sentiment  \\\n",
       "0   4845409  cleanliness   3.000000  positive   \n",
       "1   5064565     location   3.333333  positive   \n",
       "2   9329367     location   2.833333  positive   \n",
       "3  12186167  cleanliness   2.916667  positive   \n",
       "4  13649065  cleanliness   3.333333  positive   \n",
       "\n",
       "                                                                                                                                                                                                                                                                                                                                                                                                                                                                                                                                                                                                                                                         review  \\\n",
       "0                                                                                                                                                                                                                Silvia's apartment was perfect. Very clean, exactly as in the pictures and very comfortable beds.\\r<br/>\\r<br/>In addition, Silvia is the perfect host. She went the extra mile by providing fresh bathroom slippers, towels, soap etc. Also we requested a late check-out which was no problem and provided at no extra charge.\\r<br/>\\r<br/>A truly positive experience. If I go back to Barcelona, I will be sure to contact Silvia again.    \n",
       "1                                                                                                                                                                                                                                                                                                                                                                                                                                                         Very plaisant place, clean and great location! Good localisation, very close from the subway. Nice area. Flat spacious with all equipment. Dimitri was very nice and complaisant. Very recommanded!!!   \n",
       "2  Great host! Address all our questions in a timely manner. Was able to arrange a DVD player for us because we are spending Christmas in Barcelona and most sights are closed. \\r<br/>\\r<br/>Spacious apartment, plenty of room for our family of 8 (4 couples, age range from 20s-80s), room are good size for sharing. Lots of utensils, sufficient for cooking a Christmas meal at the apartment. Everyone is happy with the apartment and location. \\r<br/>\\r<br/>Great neighborhood, we were able to walk to most sights within 10-30 minutes. Only 10-15 min walk to Plaza Catalunya. Highly recommended. You get what you see. Great for large groups.    \n",
       "3                                                                                                                                                                                                                                                                                                                                                                                    Our stay at David`s Apartment was perfect. It is very well located and you can reach everything very easily. The Apartment was very clean, and modern. Fully equipped with two balconies, even a Nespresso coffee machine. We stayed 5 nights and would always come back!    \n",
       "4                                                                                                                                                                                                                                                                                                    The apartment was great and very comfortable for the our company. All of the amenities that can be expected were there and the apartment was very clean and taken care of. Elsa was very helpful and accomodating. The neighbourhood was a good place to have as a base. Even though it is Close to the Sagrada Familia, it was a local, residential area.   \n",
       "\n",
       "      Category Sentiment  error_sent  error_cat  \n",
       "0  cleanliness  positive           0          0  \n",
       "1  cleanliness  positive           0          1  \n",
       "2  communicate  positive           0          1  \n",
       "3     location  positive           0          1  \n",
       "4  cleanliness  positive           0          0  "
      ]
     },
     "execution_count": 145,
     "metadata": {},
     "output_type": "execute_result"
    }
   ],
   "source": [
    "import numpy as np\n",
    "word2vec_result_V2['error_cat'] = np.where(word2vec_result_V2['category']!=word2vec_result_V2['Category'], 1, 0)\n",
    "word2vec_result_V2.head()"
   ]
  },
  {
   "cell_type": "code",
   "execution_count": 146,
   "metadata": {},
   "outputs": [
    {
     "data": {
      "text/plain": [
       "0.4854368932038835"
      ]
     },
     "execution_count": 146,
     "metadata": {},
     "output_type": "execute_result"
    }
   ],
   "source": [
    "from sklearn import metrics\n",
    "# accuracy: category\n",
    "metrics.accuracy_score(word2vec_result_V2['Category'], word2vec_result_V2['category'])"
   ]
  },
  {
   "cell_type": "code",
   "execution_count": 147,
   "metadata": {},
   "outputs": [
    {
     "name": "stderr",
     "output_type": "stream",
     "text": [
      "/Users/leesixian/anaconda3/lib/python3.6/site-packages/sklearn/metrics/classification.py:1143: UndefinedMetricWarning: F-score is ill-defined and being set to 0.0 in labels with no predicted samples.\n",
      "  'precision', 'predicted', average, warn_for)\n"
     ]
    },
    {
     "data": {
      "text/plain": [
       "0.3130884517023131"
      ]
     },
     "execution_count": 147,
     "metadata": {},
     "output_type": "execute_result"
    }
   ],
   "source": [
    "#f1 score: category\n",
    "metrics.f1_score(word2vec_result_V2['Category'], word2vec_result_V2['category'], average='macro')"
   ]
  },
  {
   "cell_type": "code",
   "execution_count": 2,
   "metadata": {},
   "outputs": [],
   "source": [
    "import pandas as pd\n",
    "word2vec_result_V2 = pd.read_csv('word2vec_V2.csv')"
   ]
  },
  {
   "cell_type": "code",
   "execution_count": 6,
   "metadata": {},
   "outputs": [
    {
     "data": {
      "text/plain": [
       "(103, 9)"
      ]
     },
     "execution_count": 6,
     "metadata": {},
     "output_type": "execute_result"
    }
   ],
   "source": [
    "word2vec_result_V2.shape"
   ]
  },
  {
   "cell_type": "code",
   "execution_count": 3,
   "metadata": {},
   "outputs": [
    {
     "data": {
      "text/plain": [
       "0.9223300970873787"
      ]
     },
     "execution_count": 3,
     "metadata": {},
     "output_type": "execute_result"
    }
   ],
   "source": [
    "from sklearn import metrics\n",
    "# accuracy: sentiment\n",
    "metrics.accuracy_score(word2vec_result_V2['Sentiment'], word2vec_result_V2['sentiment'])"
   ]
  },
  {
   "cell_type": "code",
   "execution_count": 5,
   "metadata": {},
   "outputs": [
    {
     "name": "stderr",
     "output_type": "stream",
     "text": [
      "/Users/leesixian/anaconda3/lib/python3.6/site-packages/sklearn/metrics/classification.py:1145: UndefinedMetricWarning: F-score is ill-defined and being set to 0.0 in labels with no true samples.\n",
      "  'recall', 'true', average, warn_for)\n"
     ]
    },
    {
     "data": {
      "text/plain": [
       "0.3198653198653198"
      ]
     },
     "execution_count": 5,
     "metadata": {},
     "output_type": "execute_result"
    }
   ],
   "source": [
    "from sklearn import metrics\n",
    "# f1 score: sentiment\n",
    "metrics.f1_score(word2vec_result_V2['Sentiment'], word2vec_result_V2['sentiment'],average='macro')"
   ]
  },
  {
   "cell_type": "code",
   "execution_count": 151,
   "metadata": {},
   "outputs": [],
   "source": [
    "#output files (rows with error!)\n",
    "import csv\n",
    "word2vec_result_V2[word2vec_result_V2['error_sent']==1].to_csv('word2vec_V2_error_sent.csv',sep=\",\",quotechar='\"',index=False,\n",
    "            quoting=csv.QUOTE_ALL)"
   ]
  },
  {
   "cell_type": "code",
   "execution_count": 152,
   "metadata": {},
   "outputs": [],
   "source": [
    "#output files (rows with error!)\n",
    "word2vec_result_V2[word2vec_result_V2['error_cat']==1].to_csv('word2vec_V2_error_cat.csv',sep=\",\",quotechar='\"',index=False,\n",
    "            quoting=csv.QUOTE_ALL)"
   ]
  },
  {
   "cell_type": "code",
   "execution_count": 153,
   "metadata": {},
   "outputs": [],
   "source": [
    "word2vec_result_V2.to_csv('word2vec_V2.csv',sep=\",\",quotechar='\"',index=False,\n",
    "            quoting=csv.QUOTE_ALL)"
   ]
  },
  {
   "cell_type": "code",
   "execution_count": 154,
   "metadata": {},
   "outputs": [
    {
     "data": {
      "text/html": [
       "<div>\n",
       "<style scoped>\n",
       "    .dataframe tbody tr th:only-of-type {\n",
       "        vertical-align: middle;\n",
       "    }\n",
       "\n",
       "    .dataframe tbody tr th {\n",
       "        vertical-align: top;\n",
       "    }\n",
       "\n",
       "    .dataframe thead th {\n",
       "        text-align: right;\n",
       "    }\n",
       "</style>\n",
       "<table border=\"1\" class=\"dataframe\">\n",
       "  <thead>\n",
       "    <tr style=\"text-align: right;\">\n",
       "      <th></th>\n",
       "      <th>id</th>\n",
       "      <th>category</th>\n",
       "      <th>avg_score</th>\n",
       "      <th>sentiment</th>\n",
       "      <th>review</th>\n",
       "      <th>Category</th>\n",
       "      <th>Sentiment</th>\n",
       "      <th>error_sent</th>\n",
       "      <th>error_cat</th>\n",
       "    </tr>\n",
       "  </thead>\n",
       "  <tbody>\n",
       "    <tr>\n",
       "      <th>0</th>\n",
       "      <td>4845409</td>\n",
       "      <td>cleanliness</td>\n",
       "      <td>3.000000</td>\n",
       "      <td>positive</td>\n",
       "      <td>Silvia's apartment was perfect. Very clean, exactly as in the pictures and very comfortable beds.\\r&lt;br/&gt;\\r&lt;br/&gt;In addition, Silvia is the perfect host. She went the extra mile by providing fresh bathroom slippers, towels, soap etc. Also we requested a late check-out which was no problem and provided at no extra charge.\\r&lt;br/&gt;\\r&lt;br/&gt;A truly positive experience. If I go back to Barcelona, I will be sure to contact Silvia again.</td>\n",
       "      <td>cleanliness</td>\n",
       "      <td>positive</td>\n",
       "      <td>0</td>\n",
       "      <td>0</td>\n",
       "    </tr>\n",
       "    <tr>\n",
       "      <th>1</th>\n",
       "      <td>5064565</td>\n",
       "      <td>location</td>\n",
       "      <td>3.333333</td>\n",
       "      <td>positive</td>\n",
       "      <td>Very plaisant place, clean and great location! Good localisation, very close from the subway. Nice area. Flat spacious with all equipment. Dimitri was very nice and complaisant. Very recommanded!!!</td>\n",
       "      <td>cleanliness</td>\n",
       "      <td>positive</td>\n",
       "      <td>0</td>\n",
       "      <td>1</td>\n",
       "    </tr>\n",
       "    <tr>\n",
       "      <th>2</th>\n",
       "      <td>9329367</td>\n",
       "      <td>location</td>\n",
       "      <td>2.833333</td>\n",
       "      <td>positive</td>\n",
       "      <td>Great host! Address all our questions in a timely manner. Was able to arrange a DVD player for us because we are spending Christmas in Barcelona and most sights are closed. \\r&lt;br/&gt;\\r&lt;br/&gt;Spacious apartment, plenty of room for our family of 8 (4 couples, age range from 20s-80s), room are good size for sharing. Lots of utensils, sufficient for cooking a Christmas meal at the apartment. Everyone is happy with the apartment and location. \\r&lt;br/&gt;\\r&lt;br/&gt;Great neighborhood, we were able to walk to most sights within 10-30 minutes. Only 10-15 min walk to Plaza Catalunya. Highly recommended. You get what you see. Great for large groups.</td>\n",
       "      <td>communicate</td>\n",
       "      <td>positive</td>\n",
       "      <td>0</td>\n",
       "      <td>1</td>\n",
       "    </tr>\n",
       "    <tr>\n",
       "      <th>3</th>\n",
       "      <td>12186167</td>\n",
       "      <td>cleanliness</td>\n",
       "      <td>2.916667</td>\n",
       "      <td>positive</td>\n",
       "      <td>Our stay at David`s Apartment was perfect. It is very well located and you can reach everything very easily. The Apartment was very clean, and modern. Fully equipped with two balconies, even a Nespresso coffee machine. We stayed 5 nights and would always come back!</td>\n",
       "      <td>location</td>\n",
       "      <td>positive</td>\n",
       "      <td>0</td>\n",
       "      <td>1</td>\n",
       "    </tr>\n",
       "    <tr>\n",
       "      <th>4</th>\n",
       "      <td>13649065</td>\n",
       "      <td>cleanliness</td>\n",
       "      <td>3.333333</td>\n",
       "      <td>positive</td>\n",
       "      <td>The apartment was great and very comfortable for the our company. All of the amenities that can be expected were there and the apartment was very clean and taken care of. Elsa was very helpful and accomodating. The neighbourhood was a good place to have as a base. Even though it is Close to the Sagrada Familia, it was a local, residential area.</td>\n",
       "      <td>cleanliness</td>\n",
       "      <td>positive</td>\n",
       "      <td>0</td>\n",
       "      <td>0</td>\n",
       "    </tr>\n",
       "  </tbody>\n",
       "</table>\n",
       "</div>"
      ],
      "text/plain": [
       "         id     category  avg_score sentiment  \\\n",
       "0   4845409  cleanliness   3.000000  positive   \n",
       "1   5064565     location   3.333333  positive   \n",
       "2   9329367     location   2.833333  positive   \n",
       "3  12186167  cleanliness   2.916667  positive   \n",
       "4  13649065  cleanliness   3.333333  positive   \n",
       "\n",
       "                                                                                                                                                                                                                                                                                                                                                                                                                                                                                                                                                                                                                                                         review  \\\n",
       "0                                                                                                                                                                                                                Silvia's apartment was perfect. Very clean, exactly as in the pictures and very comfortable beds.\\r<br/>\\r<br/>In addition, Silvia is the perfect host. She went the extra mile by providing fresh bathroom slippers, towels, soap etc. Also we requested a late check-out which was no problem and provided at no extra charge.\\r<br/>\\r<br/>A truly positive experience. If I go back to Barcelona, I will be sure to contact Silvia again.    \n",
       "1                                                                                                                                                                                                                                                                                                                                                                                                                                                         Very plaisant place, clean and great location! Good localisation, very close from the subway. Nice area. Flat spacious with all equipment. Dimitri was very nice and complaisant. Very recommanded!!!   \n",
       "2  Great host! Address all our questions in a timely manner. Was able to arrange a DVD player for us because we are spending Christmas in Barcelona and most sights are closed. \\r<br/>\\r<br/>Spacious apartment, plenty of room for our family of 8 (4 couples, age range from 20s-80s), room are good size for sharing. Lots of utensils, sufficient for cooking a Christmas meal at the apartment. Everyone is happy with the apartment and location. \\r<br/>\\r<br/>Great neighborhood, we were able to walk to most sights within 10-30 minutes. Only 10-15 min walk to Plaza Catalunya. Highly recommended. You get what you see. Great for large groups.    \n",
       "3                                                                                                                                                                                                                                                                                                                                                                                    Our stay at David`s Apartment was perfect. It is very well located and you can reach everything very easily. The Apartment was very clean, and modern. Fully equipped with two balconies, even a Nespresso coffee machine. We stayed 5 nights and would always come back!    \n",
       "4                                                                                                                                                                                                                                                                                                    The apartment was great and very comfortable for the our company. All of the amenities that can be expected were there and the apartment was very clean and taken care of. Elsa was very helpful and accomodating. The neighbourhood was a good place to have as a base. Even though it is Close to the Sagrada Familia, it was a local, residential area.   \n",
       "\n",
       "      Category Sentiment  error_sent  error_cat  \n",
       "0  cleanliness  positive           0          0  \n",
       "1  cleanliness  positive           0          1  \n",
       "2  communicate  positive           0          1  \n",
       "3     location  positive           0          1  \n",
       "4  cleanliness  positive           0          0  "
      ]
     },
     "execution_count": 154,
     "metadata": {},
     "output_type": "execute_result"
    }
   ],
   "source": [
    "word2vec_result_V2.head()"
   ]
  },
  {
   "cell_type": "markdown",
   "metadata": {},
   "source": [
    "## END"
   ]
  }
 ],
 "metadata": {
  "kernelspec": {
   "display_name": "Python 3",
   "language": "python",
   "name": "python3"
  },
  "language_info": {
   "codemirror_mode": {
    "name": "ipython",
    "version": 3
   },
   "file_extension": ".py",
   "mimetype": "text/x-python",
   "name": "python",
   "nbconvert_exporter": "python",
   "pygments_lexer": "ipython3",
   "version": "3.6.7"
  }
 },
 "nbformat": 4,
 "nbformat_minor": 2
}
